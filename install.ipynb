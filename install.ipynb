pip install git+git://github.com/profLewis/geog0111@master

