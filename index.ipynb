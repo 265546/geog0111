{
 "cells": [
  {
   "cell_type": "markdown",
   "metadata": {},
   "source": [
    "# Scientific Computing geog0111\n",
    "\n",
    "\n",
    "Prof. P. Lewis, \n",
    "\n",
    "UCL \n",
    "\n",
    "p.lewis@ucl.ac.uk\n",
    "\n",
    "**Course Chapters**\n",
    "\n",
    "* [Chapter 1: Introduction to Python](Chapter1_Python_introduction.ipynb)\n",
    "* [Chapter 2]()\n",
    "\n",
    "**Additional material**\n",
    "\n",
    "* [Python help](Chapter0_help.ipynb)\n",
    "* [Connections](Connection.ipynb)"
   ]
  },
  {
   "cell_type": "code",
   "execution_count": null,
   "metadata": {},
   "outputs": [],
   "source": []
  }
 ],
 "metadata": {
  "kernelspec": {
   "display_name": "Python 3",
   "language": "python",
   "name": "python3"
  },
  "language_info": {
   "codemirror_mode": {
    "name": "ipython",
    "version": 3
   },
   "file_extension": ".py",
   "mimetype": "text/x-python",
   "name": "python",
   "nbconvert_exporter": "python",
   "pygments_lexer": "ipython3",
   "version": "3.6.6"
  }
 },
 "nbformat": 4,
 "nbformat_minor": 2
}
