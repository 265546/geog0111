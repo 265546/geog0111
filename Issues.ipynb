{
 "cells": [
  {
   "cell_type": "markdown",
   "metadata": {},
   "source": [
    "# Installation issues\n",
    "\n",
    "## Python version\n",
    "\n",
    "These notes assume you are using python version 3.6\n",
    "\n",
    "To verify that the current environment uses the new Python version, in your Terminal window or an Anaconda Prompt, run:\n",
    "\n",
    "    python --version"
   ]
  },
  {
   "cell_type": "code",
   "execution_count": 15,
   "metadata": {},
   "outputs": [
    {
     "name": "stdout",
     "output_type": "stream",
     "text": [
      "Python 3.6.6\n"
     ]
    }
   ],
   "source": [
    "%%bash\n",
    "\n",
    "python --version"
   ]
  },
  {
   "cell_type": "markdown",
   "metadata": {},
   "source": [
    "\n",
    "\n",
    "If this doesn't show 3.6.* then you may need to [update your environment and/or install a new version of python.](https://conda.io/docs/user-guide/tasks/manage-python.html)\n",
    "\n",
    "If you have python 3.6 installed already, you may be able to just activate it (from `bash shell` command prompt, assuming you installed it as `py36`):\n",
    "\n",
    "    source activate py36"
   ]
  },
  {
   "cell_type": "code",
   "execution_count": 17,
   "metadata": {},
   "outputs": [],
   "source": [
    "%%bash\n",
    "\n",
    "source activate py36"
   ]
  },
  {
   "cell_type": "markdown",
   "metadata": {},
   "source": [
    "## Obtaining and running course notes\n",
    "\n",
    "The main coursenote repository is on [GitHub](https://github.com/profLewis/geog0111). You can acccess and download the notes from there.\n",
    "\n",
    "To install these notes:\n",
    "\n",
    "    1. Make sure you are running the correct version of python (3.6) (see above)\n",
    "\n",
    "    2. make sure your conda and anaconda distributions are up to date\n",
    "    \n",
    "        conda update conda\n",
    "        \n",
    "        conda update anaconda"
   ]
  },
  {
   "cell_type": "markdown",
   "metadata": {},
   "source": [
    "\n",
    "\n",
    "        If either of these fail, try the following first:\n",
    "\n",
    "            conda install conda\n",
    "\n",
    "    3. Make sure you have git and pip installed\n",
    "\n",
    "            conda install git pip\n",
    "\n",
    "        You may also need:\n",
    "\n",
    "            pip install --upgrade pip\n",
    "\n",
    "    4. install the required dependencies\n",
    "\n",
    "        pip install git+git://github.com/profLewis/geog0111@master\n",
    "\n",
    "\n",
    "## Problems\n",
    "\n",
    "### 1. GDAL fails to compile when you install the notes\n",
    "\n",
    "If you have trouble installing (or compiling) gdal, try:\n",
    "\n",
    "    pip install --global-option=build_ext GDAL\n",
    "\n",
    "If that fails, try installing an older version of gdal:\n",
    "\n",
    "    pip install --global-option=build_ext GDAL==2.2\n",
    "    \n",
    "or failing that:\n",
    "\n",
    "    pip install --global-option=build_ext GDAL==2.1\n",
    "\n",
    "\n",
    "### 2. OS X (on a mac): you seem to have no compiler\n",
    "\n",
    "e.g. error: `gcc not found` or `clang not found`\n",
    "\n",
    "Make sure xcode command line tools installed. Run at the command prompt:\n",
    "\n",
    "      xcode-select --install\n",
    "\n",
    "and then check for updates in the usual way.\n"
   ]
  },
  {
   "cell_type": "code",
   "execution_count": null,
   "metadata": {},
   "outputs": [],
   "source": []
  }
 ],
 "metadata": {
  "kernelspec": {
   "display_name": "Python 3",
   "language": "python",
   "name": "python3"
  },
  "language_info": {
   "codemirror_mode": {
    "name": "ipython",
    "version": 3
   },
   "file_extension": ".py",
   "mimetype": "text/x-python",
   "name": "python",
   "nbconvert_exporter": "python",
   "pygments_lexer": "ipython3",
   "version": "3.6.6"
  }
 },
 "nbformat": 4,
 "nbformat_minor": 2
}
