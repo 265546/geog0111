{
 "cells": [
  {
   "cell_type": "markdown",
   "metadata": {},
   "source": [
    "# Installation issues\n",
    "\n",
    "## Python version\n",
    "\n",
    "These notes assume you are using python version 3.6\n",
    "\n",
    "To verify that the current environment uses the new Python version, in your Terminal window or an Anaconda Prompt, run:\n",
    "\n",
    "    python --version"
   ]
  },
  {
   "cell_type": "code",
   "execution_count": 1,
   "metadata": {},
   "outputs": [
    {
     "name": "stdout",
     "output_type": "stream",
     "text": [
      "Python 3.6.6\n"
     ]
    }
   ],
   "source": [
    "%%bash\n",
    "\n",
    "python --version"
   ]
  },
  {
   "cell_type": "markdown",
   "metadata": {},
   "source": [
    "\n",
    "\n",
    "If this doesn't show 3.6.* then you may need to [update your environment and/or install a new version of python.](https://conda.io/docs/user-guide/tasks/manage-python.html)\n",
    "\n",
    "If you have python 3.6 installed already, you may be able to just activate it (from `bash shell` command prompt, assuming you installed it as `py36`):\n",
    "\n",
    "    source activate py36"
   ]
  },
  {
   "cell_type": "code",
   "execution_count": 2,
   "metadata": {},
   "outputs": [],
   "source": [
    "%%bash\n",
    "\n",
    "source activate py36"
   ]
  },
  {
   "cell_type": "markdown",
   "metadata": {},
   "source": [
    "## Obtaining and running course notes\n",
    "\n",
    "The main coursenote repository is on [GitHub](https://github.com/profLewis/geog0111). You can acccess and download the notes from there.\n",
    "\n",
    "To install these notes:\n",
    "\n",
    "    1. Make sure you are running the correct version of python (3.6) (see above)\n",
    "\n",
    "    2. make sure your conda and anaconda distributions are up to date\n",
    "    \n",
    "        conda update conda\n",
    "        \n",
    "        conda update anaconda\n",
    "\n",
    "\n",
    "        If either of these fail, try the following first:\n",
    "\n",
    "            conda install conda\n",
    "\n",
    "    3. Make sure `gdal`  "
   ]
  },
  {
   "cell_type": "markdown",
   "metadata": {},
   "source": [
    "\n",
    "    3. Make sure you have git and pip installed\n",
    "\n",
    "            conda install git pip\n",
    "\n",
    "        You may also need:\n",
    "\n",
    "            pip install --upgrade pip\n",
    "\n",
    "    4. install the required dependencies\n",
    "\n",
    "        pip install git+git://github.com/profLewis/geog0111@master\n",
    "\n",
    "\n",
    "## Problems\n",
    "\n",
    "### 1. GDAL fails to compile when you install the notes\n",
    "\n",
    "If you have trouble installing (or compiling) gdal, try:\n",
    "\n",
    "    pip install --global-option=build_ext GDAL\n",
    "\n",
    "If that fails, try installing an older version of gdal:\n",
    "\n",
    "    pip install --global-option=build_ext GDAL==2.2\n",
    "    \n",
    "or failing that:\n",
    "\n",
    "    pip install --global-option=build_ext GDAL==2.1\n",
    "\n",
    "\n",
    "\n",
    "\n",
    "\n"
   ]
  },
  {
   "cell_type": "markdown",
   "metadata": {},
   "source": [
    "## 2 OS. X (on a mac)\n",
    "\n",
    "In the past, there have been simple pre-installed versions of gdal available online. This isn't always the case however. \n",
    "\n",
    "In such circumstances, you will need to download and compile the code for gdal. That shouldn't be too difficult, but first you need to make sure you have somne required software installed on your Mac.\n",
    "\n",
    "As always when installing or testing new software, you should first check that all of your software is up to date (`App Store -> Updates`).\n",
    "\n",
    "### 2.0 Open a Terminal ('shell')\n",
    "\n",
    "You will need to open a `Terminal` App, which you will normally find in the `Applications -> Utilities` folder. This should display a flashibng curser at the 'command prompt'. You can type unix commands at this promnpt. Hit `<return>` after you have typed the comnmand, to run it. For example, type:\n",
    "\n",
    "       pwd\n",
    "       \n",
    "This should show something like:\n",
    "\n",
    "       /Users/plewis\n",
    "       \n",
    "\n",
    "### 2.1 Check you have a compiler set up\n",
    "\n",
    "a. Make sure your Xcode (the compiler package) is up to date. \n",
    "\n",
    "You can do this by typing at a command prompt:\n",
    "\n",
    "      xcodebuild -version\n",
    "\n",
    "at the command line. It should say `Xcode 9.` at least. \n",
    "\n",
    "\n",
    "b. If not, go to the app store and [install the latest Xcode](https://itunes.apple.com/gb/app/xcode/id497799835?mt=12). Once installed, open `Xcode` from your `Applications` folder and follow any instructions.\n",
    "\n",
    "Make sure xcode command line tools installed. Run at the command prompt:\n",
    "\n",
    "      xcode-select --install\n",
    "\n",
    "and follow any instructions given (it may just tell you that it is already installed).\n",
    "\n",
    "c. You can quit the `Xcode` App if it is open.\n",
    "\n",
    "\n",
    "### 2.2 Install brew\n",
    "\n",
    "To make it easy tio install non-apple supported software on your Mac, you can use homebrew.\n",
    "\n",
    "a. To see if you have it set up, type at the prompt:\n",
    "\n",
    "      brew --version\n",
    "      \n",
    "b. If it says that the command brew is not found, or if your brew version is not at least `Homebrew 1.7.5`, then [Install brew (homebrew) on your mac.](https://brew.sh)\n",
    "\n",
    "c. Do a test install of `wget`\n",
    "\n",
    "      brew install wget\n",
    "      \n",
    "and follow instructions given.\n",
    "\n",
    "In case of problems, you might try:\n",
    "\n",
    "      brew doctor\n",
    "    \n",
    "and fix things as needed. \n",
    "\n",
    "On my installation, I found I needed to type the following [fix](https://github.com/Homebrew/legacy-homebrew/issues/13276):\n",
    "\n",
    "\n",
    "      sudo chown -R $USER:admin /usr/local/share\n",
    "      \n",
    "as the permissions on `/usr/local/share` were incorrect.\n",
    "\n",
    "### 2.3 install `gdal` from `brew`\n",
    "\n",
    "Type at the Terminal prompt:\n",
    "\n",
    "      brew install gdal --HEAD\n",
    "      \n",
    "      \n",
    "\n"
   ]
  },
  {
   "cell_type": "code",
   "execution_count": null,
   "metadata": {},
   "outputs": [],
   "source": []
  }
 ],
 "metadata": {
  "kernelspec": {
   "display_name": "Python 3",
   "language": "python",
   "name": "python3"
  },
  "language_info": {
   "codemirror_mode": {
    "name": "ipython",
    "version": 3
   },
   "file_extension": ".py",
   "mimetype": "text/x-python",
   "name": "python",
   "nbconvert_exporter": "python",
   "pygments_lexer": "ipython3",
   "version": "3.6.6"
  }
 },
 "nbformat": 4,
 "nbformat_minor": 2
}
