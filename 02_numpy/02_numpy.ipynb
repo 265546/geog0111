{
 "cells": [
  {
   "cell_type": "markdown",
   "metadata": {},
   "source": [
    "# 2. Scientific calculations in Python: `numpy`, `matplotlib` and `scipy` libraries\n",
    "\n",
    "While Python has a rich set of modules and data types by default, for numerical computing you'll be using two main libraries that conform the backbone of the [Python scientific stack](https://scipy.org/about.html). These libraries implement a great deal of functionality related to mathematical operations and efficient computations on large data volumes. These libraries are [`numpy`](http://numpy.org) and [`scipy`](http://scipy.org). `numpy` deals with efficient arrays, similar to lists, that simplify many common processing operations. Of course, just doing calculations isn't much fun if you can't plot some results. To do this, we use the [`matplotlib`](http://matplotlib.org) library.\n",
    "\n",
    "But first, we'll see the concept of *functions*....\n"
   ]
  },
  {
   "cell_type": "markdown",
   "metadata": {},
   "source": [
    "## 2.1 Functions\n",
    "\n",
    "A function is a collection of Python statements that do something (usually on some data). For example, you may want to convert from Fahrenheit to Centigrade. The conversion is \n",
    "\n",
    "$$\n",
    "^{\\circ}C = \\left(^{\\circ}F -32\\right)\\cdot\\frac{5}{9}\n",
    "$$\n",
    "\n",
    "A Python function will have a name (and we hope that the name is self-explanatory as to what the function does), and a set of input parameters. In the case above, the function would look like this:\n"
   ]
  },
  {
   "cell_type": "code",
   "execution_count": 1,
   "metadata": {},
   "outputs": [],
   "source": [
    "def fahrenheit_to_centigrade(deg_fahrenheit):\n",
    "    \"\"\"A function to convert from degrees Fahrenheit to degrees Centigrade\n",
    "    \n",
    "    Parameters\n",
    "    ----------\n",
    "    deg_fahrenheit: float\n",
    "        Temperature in degrees F\n",
    "    \n",
    "    Returns\n",
    "    -------\n",
    "    Temperature converted to degrees C\n",
    "    \"\"\"\n",
    "    deg_c = (deg_fahrenheit - 32.)*5./9.\n",
    "    return deg_c\n",
    "    "
   ]
  },
  {
   "cell_type": "markdown",
   "metadata": {},
   "source": [
    "We see that the function has a name (`fahrenheit_to_centigrade`), and takes one parameter (`deg_fahrenheit`). The main body of the function is indented (like `if` and `for` statements). There is first a comment string, that describes what the function does, as well as what the inputs are, and what the output is. This is just useful documentation of the code. The main body of the function calculates `deg_C` from the given input, and **returns** it back to the user. This is how this works:"
   ]
  },
  {
   "cell_type": "code",
   "execution_count": 2,
   "metadata": {},
   "outputs": [
    {
     "name": "stdout",
     "output_type": "stream",
     "text": [
      "-40.000000 degrees F is -40.000000 degrees C\n",
      "-30.000000 degrees F is -34.444444 degrees C\n",
      "-20.000000 degrees F is -28.888889 degrees C\n",
      "-10.000000 degrees F is -23.333333 degrees C\n",
      "0.000000 degrees F is -17.777778 degrees C\n",
      "10.000000 degrees F is -12.222222 degrees C\n",
      "50.000000 degrees F is 10.000000 degrees C\n",
      "100.000000 degrees F is 37.777778 degrees C\n"
     ]
    }
   ],
   "source": [
    "for deg_F in [-40, -30, -20, -10, 0, 10, 50, 100]:\n",
    "    conv_temp = fahrenheit_to_centigrade(deg_F)\n",
    "    print(f\"{deg_F:f} degrees F is {conv_temp:f} degrees C\")\n"
   ]
  },
  {
   "cell_type": "markdown",
   "metadata": {},
   "source": [
    "Functions are a very useful way of modularising code: rather than copying and pasting blocks of code, you can just bundle the code in a function and re-use it. This allows you to test the function and have some confidence that whenever you use the function again, it will work.\n",
    "\n",
    "Note the use of [formatted string literals](https://www.python-course.eu/python3_formatted_output.php) in this example, the `f` here in the `print(f\"{expression}\")` statement. This is new to Python 3.6, and evaluates `expression` at run time.\n",
    "\n",
    "It is important to understand that inside a function block, the variable names defined **within the function block** aren't shared with the outside world. In our previous example, we cannot access `deg_c` outside the function (try `print(deg_c`). **However**, Python will make use of variables defined on the main scope (e.g. outside the function block). It's a good idea to assume that all variables you need are either internal (e.g. calculated inside the code block), or else they should be passed as input parameters.\n",
    "\n",
    "In some cases, you might want to set some optional input parameters. If the user doesn't give a value for this, a default value will be used. Let's see an example. What we want now is a function that converts **to** and **from** F to C. By default, it will convert `F->C`, but you can specify an optional input parameter `convert_to_c` to go `C->F`:"
   ]
  },
  {
   "cell_type": "code",
   "execution_count": 3,
   "metadata": {
    "code_folding": []
   },
   "outputs": [
    {
     "name": "stdout",
     "output_type": "stream",
     "text": [
      "-40.000000 degrees F is -40.000000 degrees C\n",
      "-30.000000 degrees F is -34.444444 degrees C\n",
      "-20.000000 degrees F is -28.888889 degrees C\n",
      "-10.000000 degrees F is -23.333333 degrees C\n",
      "0.000000 degrees F is -17.777778 degrees C\n",
      "10.000000 degrees F is -12.222222 degrees C\n",
      "50.000000 degrees F is 10.000000 degrees C\n",
      "100.000000 degrees F is 37.777778 degrees C\n",
      "****************************************\n",
      "-40.000000 degrees C is -40.000000 degrees F\n",
      "-34.400000 degrees C is -29.920000 degrees F\n",
      "-28.880000 degrees C is -19.984000 degrees F\n",
      "-23.333000 degrees C is -9.999400 degrees F\n",
      "-17.778000 degrees C is -0.000400 degrees F\n",
      "-12.220000 degrees C is 10.004000 degrees F\n",
      "10.000000 degrees C is 50.000000 degrees F\n",
      "37.780000 degrees C is 100.004000 degrees F\n"
     ]
    }
   ],
   "source": [
    "def convert_temperature_units(degrees_in, convert_to_c=True):\n",
    "    \"\"\"A function to convert from temperature. \n",
    "    \n",
    "    Parameters\n",
    "    ----------\n",
    "    deg_in: float\n",
    "        Temperature in degrees F\n",
    "    convert_to_c: boolean\n",
    "        if `True`, converts from F to C, if `False`, it \n",
    "        converts from C to F\n",
    "    \n",
    "    Returns\n",
    "    -------\n",
    "    Converted temperature\n",
    "    \"\"\"\n",
    "    if convert_to_c:\n",
    "        deg_converted = (degrees_in - 32.)*5./9.\n",
    "    else:\n",
    "        deg_converted = degrees_in*9/5. + 32.\n",
    "    return deg_converted\n",
    "\n",
    "\n",
    "for deg_F in [-40, -30, -20, -10, 0, 10, 50, 100]:\n",
    "    conv_temp = convert_temperature_units(deg_F)\n",
    "    print(f\"{deg_F:f} degrees F is {conv_temp:f} degrees C\")\n",
    "print(\"*\"*40)\n",
    "\n",
    "for deg_C in [-40, -34.4, -28.88, -23.333, -17.778, -12.22, 10., 37.78]:\n",
    "    conv_temp = convert_temperature_units(deg_C, convert_to_c=False)\n",
    "    print(f\"{deg_C:f} degrees C is {conv_temp:f} degrees F\")\n",
    "\n",
    "    "
   ]
  },
  {
   "cell_type": "markdown",
   "metadata": {},
   "source": [
    "Notice that the document string `\"\"\"A function to convert from temperature... \"\"\"` is what is printed when you request `help` on the function:"
   ]
  },
  {
   "cell_type": "code",
   "execution_count": 4,
   "metadata": {},
   "outputs": [
    {
     "name": "stdout",
     "output_type": "stream",
     "text": [
      "Help on function convert_temperature_units in module __main__:\n",
      "\n",
      "convert_temperature_units(degrees_in, convert_to_c=True)\n",
      "    A function to convert from temperature. \n",
      "    \n",
      "    Parameters\n",
      "    ----------\n",
      "    deg_in: float\n",
      "        Temperature in degrees F\n",
      "    convert_to_c: boolean\n",
      "        if `True`, converts from F to C, if `False`, it \n",
      "        converts from C to F\n",
      "    \n",
      "    Returns\n",
      "    -------\n",
      "    Converted temperature\n",
      "\n"
     ]
    }
   ],
   "source": [
    "help(convert_temperature_units)"
   ]
  },
  {
   "cell_type": "markdown",
   "metadata": {},
   "source": [
    "**E2.1.1 Exercise**\n",
    "\n",
    "* In the vein of converting units, write functions that convert from\n",
    "\n",
    "    * inches to m (and back)\n",
    "    * kg to stones (and back)\n",
    "\n",
    "Hint: A stone is equal to 14 pounds, and a pound is equal to 0.45359237 kg.\n",
    "\n",
    "**Ensure** that your functions are clearly named, have sensible variable names, a brief docmentation string, and remember to test the functions work: just demonstrate running the function with some input pairs where you know the output and checking it makese sense."
   ]
  },
  {
   "cell_type": "code",
   "execution_count": 5,
   "metadata": {},
   "outputs": [],
   "source": [
    "# Space for your solution"
   ]
  },
  {
   "cell_type": "markdown",
   "metadata": {},
   "source": [
    "\n",
    "## 2.2 `numpy`\n",
    "\n",
    "You import the `numpy` library using\n",
    "\n",
    "    import numpy as np\n",
    "    \n",
    "This means that all the functionality of `numpy` is accessed by the prefix `np.`: e.g. `np.array`. The main element of `numpy` is the numpy array. An array is like a list, but unlike a list, all the elements are of the same type, floating point numbers for example. \n",
    "\n",
    "Let's see some arrays in action..."
   ]
  },
  {
   "cell_type": "code",
   "execution_count": 6,
   "metadata": {
    "ExecuteTime": {
     "end_time": "2018-09-26T16:26:31.395372Z",
     "start_time": "2018-09-26T16:26:31.387781Z"
    }
   },
   "outputs": [
    {
     "name": "stdout",
     "output_type": "stream",
     "text": [
      "[1. 1. 1. 1. 1.]\n",
      "<class 'numpy.ndarray'>\n",
      "[1 2 3 4]\n",
      "[1. 2. 3. 4.]\n"
     ]
    }
   ],
   "source": [
    "import numpy as np  # Import the numpy library\n",
    "\n",
    "# An array with 5 ones\n",
    "arr = np.ones(5)\n",
    "print(arr)\n",
    "print(type(arr))\n",
    "\n",
    "# An array started from a list of **integers**\n",
    "arr = np.array([1, 2, 3, 4])\n",
    "print(arr)\n",
    "\n",
    "# An array started from a list of numbers, what's the difference??\n",
    "arr = np.array([1., 2, 3, 4])\n",
    "print(arr)"
   ]
  },
  {
   "cell_type": "markdown",
   "metadata": {},
   "source": [
    "In the example above we have generated an array where all the elements are `1.0`, using [`np.ones`](https://docs.scipy.org/doc/numpy/reference/generated/numpy.ones.html), and then we have been able to generate arrays from lists using the [`np.array`](https://docs.scipy.org/doc/numpy/reference/generated/numpy.array.html) function. The difference between the 2nd and 3rd examples is that in the 2nd example, all the elements of the list are integers, and in the 3rd example, one is a floating point number. `numpy` automatically makes the array floating point by converting the integers to floating point numbers.\n",
    "\n",
    "What can we do with arrays? We can efficiently operate on individual elements without loops:"
   ]
  },
  {
   "cell_type": "code",
   "execution_count": 7,
   "metadata": {},
   "outputs": [
    {
     "name": "stdout",
     "output_type": "stream",
     "text": [
      "[2. 2. 2. 2. 2. 2. 2. 2. 2. 2.]\n"
     ]
    }
   ],
   "source": [
    "arr = np.ones(10)\n",
    "print(2 * arr)"
   ]
  },
  {
   "cell_type": "markdown",
   "metadata": {},
   "source": [
    "`numpy` is clever enough to figure out that the 2 multiplying the array is applied to all elements of the array, and returns an array of the same size as `arr` with the elements of `arr` multiplied by 2. We can also multiply two arrays of the same size. So let's create an array with the numbers 0 to 9 and one with the numbers 9 to 0 and do a times table:"
   ]
  },
  {
   "cell_type": "code",
   "execution_count": 8,
   "metadata": {},
   "outputs": [
    {
     "name": "stdout",
     "output_type": "stream",
     "text": [
      "[9. 9. 9. 9. 9. 9. 9. 9. 9. 9.]\n",
      "[ 1  2  3  4  5  6  7  8  9 10]\n",
      "[ 9. 18. 27. 36. 45. 54. 63. 72. 81. 90.]\n"
     ]
    }
   ],
   "source": [
    "arr1 = 9 * np.ones(10)\n",
    "arr2 = np.arange(1, 11)  # arange gives an array from 1 to 11, 11 not included\n",
    "\n",
    "print(arr1)\n",
    "print(arr2)\n",
    "\n",
    "print(arr1 * arr2)"
   ]
  },
  {
   "cell_type": "markdown",
   "metadata": {},
   "source": [
    "**E2.2.1 Exercise**\n",
    "\n",
    "* Using code similar to the above and a `for` loop, write the times tables for 2 to 10. The solution you're looking for should look a bit like this:\n",
    "\n",
    "        [ 2  4  6  8 10 12 14 16 18 20]\n",
    "        [ 3  6  9 12 15 18 21 24 27 30]\n",
    "        [ 4  8 12 16 20 24 28 32 36 40]\n",
    "        [ 5 10 15 20 25 30 35 40 45 50]\n",
    "        [ 6 12 18 24 30 36 42 48 54 60]\n",
    "        [ 7 14 21 28 35 42 49 56 63 70]\n",
    "        [ 8 16 24 32 40 48 56 64 72 80]\n",
    "        [ 9 18 27 36 45 54 63 72 81 90]\n",
    "        [ 10  20  30  40  50  60  70  80  90 100]"
   ]
  },
  {
   "cell_type": "code",
   "execution_count": 9,
   "metadata": {},
   "outputs": [],
   "source": [
    "# Your solution here"
   ]
  },
  {
   "cell_type": "markdown",
   "metadata": {},
   "source": [
    "If the arrays are of the same *shape*, you can do standard operations between them **element-wise**:"
   ]
  },
  {
   "cell_type": "code",
   "execution_count": 10,
   "metadata": {},
   "outputs": [
    {
     "name": "stdout",
     "output_type": "stream",
     "text": [
      "[27. 36. 45. 54.]\n",
      "[ 90. 160. 250. 360.]\n",
      "Array shapes:\n",
      "arr1:  (4,)\n",
      "arr2:  (4,)\n"
     ]
    }
   ],
   "source": [
    "arr1 = np.array([3, 4, 5, 6.])\n",
    "arr2 = np.array([30, 40, 50, 60.])\n",
    "\n",
    "print(arr2 - arr1)\n",
    "print(arr1 * arr2)\n",
    "\n",
    "print(\"Array shapes:\")\n",
    "print(\"arr1: \", arr1.shape)\n",
    "print(\"arr2: \", arr2.shape)"
   ]
  },
  {
   "cell_type": "markdown",
   "metadata": {},
   "source": [
    "The `numpy` documenation is huge. There's an [user's guide](https://docs.scipy.org/doc/numpy/user/index.html), as well as a reference to all the [contents of the library](https://docs.scipy.org/doc/numpy/reference/index.html). There's even [a tutorial availabe](https://docs.scipy.org/doc/numpy/user/quickstart.html) if you get bored with this one.\n",
    "\n",
    "### More detail about `numpy.arrays` \n",
    "\n",
    "So far, we have seen a 1D array, which is the equivalent to a vector. But arrays can have more dimensions: a 2D array would be equivalent to a matrix (or an image, with rows and columns), and a 3D array would be a volume split into voxels, as seen below\n",
    "\n",
    "\n",
    "![numpy arrays](https://cdn-images-1.medium.com/max/1120/1*Ikn1J6siiiCSk4ivYUhdgw.png)\n",
    "\n",
    "So a 1D array has one axis, a 2D array has 2 axes, a 3D array 3, and so on. The `shape` of the array provides a tuple with the number of elements along each axis. Let's see this with some generally useful array creation options:"
   ]
  },
  {
   "cell_type": "code",
   "execution_count": 11,
   "metadata": {},
   "outputs": [
    {
     "name": "stdout",
     "output_type": "stream",
     "text": [
      "3*5 array:\n",
      "[[ 0  1  2  3  4]\n",
      " [ 5  6  7  8  9]\n",
      " [10 11 12 13 14]]\n",
      "2*3 array:\n",
      "[[1.5 2.  3. ]\n",
      " [4.  5.  6. ]]\n"
     ]
    }
   ],
   "source": [
    "# Create a 2D array from a list of rows. Note that the 3 rows have the same number of elements!\n",
    "arr1 = np.array([[0, 1, 2, 3, 4], [5, 6, 7, 8, 9], [10, 11, 12, 13, 14]])\n",
    "# A 2D array from a list of tuples.\n",
    "# We're specifically asking for floating point numbers\n",
    "arr2 = np.array([(1.5, 2, 3), (4, 5, 6)], dtype=float)\n",
    "print(\"3*5 array:\")\n",
    "print(arr1)\n",
    "print(\"2*3 array:\")\n",
    "print(arr2)"
   ]
  },
  {
   "cell_type": "markdown",
   "metadata": {},
   "source": [
    "Quite often, we will want to initialise an array to be all the same number. The methods for doing this as 0,1 and unspecified in `numpy` are `np.zeros()`, `np.ones()`, `np.empty()`."
   ]
  },
  {
   "cell_type": "code",
   "execution_count": 12,
   "metadata": {},
   "outputs": [
    {
     "name": "stdout",
     "output_type": "stream",
     "text": [
      "3*4 array of 0s\n",
      "[[0. 0. 0. 0.]\n",
      " [0. 0. 0. 0.]\n",
      " [0. 0. 0. 0.]]\n",
      "2*3*4 array of 1s (integers)\n",
      "[[[1 1 1 1]\n",
      "  [1 1 1 1]\n",
      "  [1 1 1 1]]\n",
      "\n",
      " [[1 1 1 1]\n",
      "  [1 1 1 1]\n",
      "  [1 1 1 1]]]\n",
      "2*3 empty array (contents could be anything)\n",
      "[[1.5 2.  3. ]\n",
      " [4.  5.  6. ]]\n"
     ]
    }
   ],
   "source": [
    "# Creates a 3*4 array of 0s\n",
    "arr = np.zeros((3, 4))\n",
    "print(\"3*4 array of 0s\")\n",
    "print(arr)\n",
    "\n",
    "# Creates a 2x3x4 array of int 1's\n",
    "print(\"2*3*4 array of 1s (integers)\")\n",
    "arr = np.ones((2, 3, 4), dtype=np.int)\n",
    "print(arr)\n",
    "\n",
    "# Creates an empty (e.g. uninitialised) 2x3 array. Elements are random\n",
    "print(\"2*3 empty array (contents could be anything)\")\n",
    "arr = np.empty((2, 3))\n",
    "print(arr)"
   ]
  },
  {
   "cell_type": "markdown",
   "metadata": {},
   "source": [
    "**Exercise E2.2.2**\n",
    "\n",
    "* create a 2-D tuple called `indices` containing the integers `((0, 1, 2, 3, 4),(5, 6, 7, 8, 9))`\n",
    "* create a 2-D numpy array called `data` of shape `(5,10)`, data type `int`, initialised with zero\n",
    "* set the value of `data[r,c]` to be 1 for each of the 5 row,column pairs specified in `indices`.\n",
    "* print the data array\n",
    "\n",
    "The result should look like:\n",
    "\n",
    "    [[0 0 0 0 0 1 0 0 0 0]\n",
    "     [0 0 0 0 0 0 1 0 0 0]\n",
    "     [0 0 0 0 0 0 0 1 0 0]\n",
    "     [0 0 0 0 0 0 0 0 1 0]\n",
    "     [0 0 0 0 0 0 0 0 0 1]]\n",
    "\n",
    "**Hint**: You could use a `for` loop, but what does `data[indices]` give?"
   ]
  },
  {
   "cell_type": "code",
   "execution_count": 13,
   "metadata": {},
   "outputs": [],
   "source": [
    "# do exercise here"
   ]
  },
  {
   "cell_type": "code",
   "execution_count": 14,
   "metadata": {},
   "outputs": [
    {
     "name": "stdout",
     "output_type": "stream",
     "text": [
      "1D array from 10 to 30 in increments of 5\n",
      "[10 15 20 25]\n",
      "1D array of numbers from 0 to 2 in increments of 0.3\n",
      "[0.  0.3 0.6 0.9 1.2 1.5 1.8]\n",
      "1D array from 100 to 1 in reverse order\n",
      "[100  99  98  97  96  95  94  93  92  91  90  89  88  87  86  85  84  83\n",
      "  82  81  80  79  78  77  76  75  74  73  72  71  70  69  68  67  66  65\n",
      "  64  63  62  61  60  59  58  57  56  55  54  53  52  51  50  49  48  47\n",
      "  46  45  44  43  42  41  40  39  38  37  36  35  34  33  32  31  30  29\n",
      "  28  27  26  25  24  23  22  21  20  19  18  17  16  15  14  13  12  11\n",
      "  10   9   8   7   6   5   4   3   2   1]\n",
      "1D array of 9 numbers equally spaced from 0 to 34\n",
      "[ 0.    4.25  8.5  12.75 17.   21.25 25.5  29.75 34.  ]\n"
     ]
    }
   ],
   "source": [
    "### More useful array creators\n",
    "\n",
    "print(\"1D array from 10 to 30 in increments of 5\")\n",
    "arr = np.arange(10, 30, 5)\n",
    "print(arr)\n",
    "\n",
    "print(\"1D array of numbers from 0 to 2 in increments of 0.3\")\n",
    "arr = np.arange(0, 2, 0.3)\n",
    "print(arr)\n",
    "\n",
    "print(\"1D array from 100 to 1 in reverse order\")\n",
    "arr = np.arange(100, 0, -1)\n",
    "print(arr)\n",
    "\n",
    "print(\"1D array of 9 numbers equally spaced from 0 to 34\")\n",
    "arr = np.linspace(0, 34, 9)\n",
    "print(arr)"
   ]
  },
  {
   "cell_type": "markdown",
   "metadata": {},
   "source": [
    "Below are some typical arithmetic operations that you can use on arrays. Remember that they happen **elementwise**"
   ]
  },
  {
   "cell_type": "code",
   "execution_count": 20,
   "metadata": {},
   "outputs": [
    {
     "name": "stdout",
     "output_type": "stream",
     "text": [
      "Power of 2\n",
      "[0 1 2 3]\n",
      "[0 1 4 9]\n",
      "******************************\n",
      "10*sin(a) (assuming a is in radians)\n",
      "[20 30 40 50]\n",
      "[ 9.12945251 -9.88031624  7.4511316  -2.62374854]\n",
      "******************************\n",
      "Some useful numpy array methods...\n",
      "Find the maximum of an array: a.max():  50\n",
      "Find the minimum of an array: a.min():  20\n",
      "Find the sum of an array: a.sum():  140\n",
      "Find the mean of an array: a.mean():  35.0\n",
      "Find the standard deviation of an array: a.std():  11.180339887498949\n"
     ]
    }
   ],
   "source": [
    "print(\"Power of 2\")\n",
    "b = np.arange(4)\n",
    "print(b)\n",
    "print(b**2)\n",
    "print(\"*\" * 30)\n",
    "\n",
    "print(\"10*sin(a) (assuming a is in radians)\")\n",
    "a = np.array([20, 30, 40, 50])\n",
    "print(a)\n",
    "print(10 * np.sin(a))\n",
    "print(\"*\" * 30)\n",
    "\n",
    "print(\"Some useful numpy array methods...\")\n",
    "print(\"Find the maximum of an array: a.max(): \", a.max())\n",
    "print(\"Find the minimum of an array: a.min(): \", a.min())\n",
    "print(\"Find the sum of an array: a.sum(): \", a.sum())\n",
    "print(\"Find the mean of an array: a.mean(): \", a.mean())\n",
    "print(\"Find the standard deviation of an array: a.std(): \", a.std())"
   ]
  },
  {
   "cell_type": "markdown",
   "metadata": {},
   "source": [
    "Some of the last methods are particularly useful for multi-dimensional arrays. You could have an array an array that stores the values of a measured magnitude every hour for a whole year, which you would store in an e.g. `24 x 365` array. If you wanted to find out the mean hourly value over the year, you'd have to average the 365 data points per hour, or if the array is called `a`, you could do `a.mean(axis=1)`, which will return a 24 element 1D array with the average value over the year in each element."
   ]
  },
  {
   "cell_type": "code",
   "execution_count": 12,
   "metadata": {},
   "outputs": [
    {
     "name": "stdout",
     "output_type": "stream",
     "text": [
      "Original array:\n",
      "[[ 0  1  2  3]\n",
      " [ 4  5  6  7]\n",
      " [ 8  9 10 11]]\n",
      "Sum of columns (1st dimension of the array):\n",
      "[12 15 18 21]\n",
      "Minimum per row (2nd dimension of the array):\n",
      "[0 4 8]\n"
     ]
    }
   ],
   "source": [
    "b = np.arange(12).reshape(3, 4)\n",
    "print(\"Original array:\")\n",
    "print(b)\n",
    "print(\"Sum of columns (1st dimension of the array):\")\n",
    "print(b.sum(axis=0))  # [12, 15, 18, 21]\n",
    "print(\"Minimum per row (2nd dimension of the array):\")\n",
    "print(b.min(axis=1))  # [0, 4, 8]"
   ]
  },
  {
   "cell_type": "markdown",
   "metadata": {},
   "source": [
    "### Indexing and \"slicing\" arrays\n",
    "\n",
    "Selecting different elements of the array to operate in them is a very common task. `numpy` has a very rich syntax for selecting different bits of the array.\n",
    "\n",
    "Similar to lists, you can refer to elements in the array by their position. You can also use the `:` symbol to specify a range (a **slice**) of positions `first_element:(last_element+1`. If you want to start counting from the end of the array, use negative numbers: `-1` refers to the last element of the array, `-2` the one before last and so on. In a slice, you can also specify a step as the third element in `first_element:(last_element+1:step`. If the step is negative you count from the back.\n",
    "\n",
    "All this proably appears mind bogging, but it's easier shown in practice. You'll get used to it quite quickly once you start using it"
   ]
  },
  {
   "cell_type": "code",
   "execution_count": 13,
   "metadata": {},
   "outputs": [
    {
     "name": "stdout",
     "output_type": "stream",
     "text": [
      "2\n",
      "[2 3 4]\n",
      "10\n",
      "[0 1 2 3 4 5 6 7]\n",
      "[ 2  3  4  5  6  7  8  9 10]\n",
      "[5 4 3]\n"
     ]
    }
   ],
   "source": [
    "a = np.array([0, 1, 2, 3, 4, 5, 6, 7, 8, 9, 10])\n",
    "print(a[2])  # 2\n",
    "print(a[2:5])  # [2, 3, 4]\n",
    "print(a[-1])  # 10\n",
    "print(a[:8])  # [0, 1, 2, 3, 4, 5, 6, 7]\n",
    "print(a[2:])  # [1, 2, 3, 4, 5, 6, 7, 8, 9, 10]\n",
    "print(a[5:2:-1]) # [5, 4, 3]\n"
   ]
  },
  {
   "cell_type": "markdown",
   "metadata": {},
   "source": [
    "The concept extends cleanly to multidimensional arrays..."
   ]
  },
  {
   "cell_type": "code",
   "execution_count": 14,
   "metadata": {},
   "outputs": [
    {
     "name": "stdout",
     "output_type": "stream",
     "text": [
      "23\n",
      "[ 1 11 21 31 41]\n",
      "[ 1 11 21 31 41]\n",
      "[[10 11 12 13]\n",
      " [20 21 22 23]]\n"
     ]
    }
   ],
   "source": [
    "b = np.array([[0, 1, 2, 3], [10, 11, 12, 13], [20, 21, 22, 23], [30, 31, 32, 33],\n",
    "     [40, 41, 42, 43]])\n",
    "\n",
    "print(b[2, 3])  # 23\n",
    "print(b[0:5, 1])  # each row in the second column of b \n",
    "print(b[:, 1])  # same thing as above \n",
    "print(b[1:3, :])  # each column in the second and third row of b\n"
   ]
  },
  {
   "cell_type": "markdown",
   "metadata": {},
   "source": [
    "Another useful way to select elements is by using what's called a mask: an array of logical (boolean) elements that only selects the elements that are `True`:"
   ]
  },
  {
   "cell_type": "code",
   "execution_count": 15,
   "metadata": {},
   "outputs": [
    {
     "name": "stdout",
     "output_type": "stream",
     "text": [
      "[7 8 9]\n"
     ]
    }
   ],
   "source": [
    "a = np.arange(10)\n",
    "select_me = a >= 7\n",
    "print(a[select_me])"
   ]
  },
  {
   "cell_type": "markdown",
   "metadata": {},
   "source": [
    "The previous point also shows something interesting: you can apply comparisons element by element. So in the previous example, `select_me` is a 10 element array where all the elements of `a` that are equal or higher than 7 are set to True.\n",
    "\n",
    "If you want to build up element by element logical operations, it's best to use specialised functions like [`np.logical_and`](https://docs.scipy.org/doc/numpy/reference/generated/numpy.logical_and.html) and friends"
   ]
  },
  {
   "cell_type": "code",
   "execution_count": 16,
   "metadata": {},
   "outputs": [
    {
     "name": "stdout",
     "output_type": "stream",
     "text": [
      "[46 47 48 49 50 51 52 53 54 55 56 57 58 59 60 61 62 63 64 65 66 67 68 69\n",
      " 70 71 72]\n"
     ]
    }
   ],
   "source": [
    "a = np.arange(100)\n",
    "sel1 = a > 45\n",
    "sel2 = a < 73\n",
    "print(a[np.logical_and(sel1, sel2)])"
   ]
  },
  {
   "cell_type": "markdown",
   "metadata": {},
   "source": [
    "### Reading data\n",
    "\n",
    "It's a bit tedious just making up numbers to play with them, but it's easy to load up data from external files. The most common data interchange format is [CSV (comma-seperated values)](https://en.wikipedia.org/wiki/Comma-separated_values), a plain text format. Think of CSV as a plain text table. Each element in each row is separated by a comma (although other symbols, such as white space, semicolons `;`, tabs `\\t` or pipe `|` symbols are often found as delimiters). The first few lines might contain some metadata that describes the dataset, and the first line will also contain the names of the headers of the different columns.  Lines starting with `#` tend to be ignored. An example file might look like this\n",
    "```\n",
    "# Monthly transatlantic airtravel, in thousands of passengers, for 1958-1960. \n",
    "# There are 4 fields, \"Month\", \"1958\", \"1959\" and \"1960\" and 12 records, \"JAN\" through \"DEC\". \n",
    "# There is also an initial header line.\n",
    "# And some lines with comments starting with #\n",
    "# Data obtained from https://people.sc.fsu.edu/~jburkardt/data/csv/csv.html\n",
    "\"Month\", \"1958\", \"1959\", \"1960\"\n",
    "\"JAN\",  340,  360,  417\n",
    "\"FEB\",  318,  342,  391\n",
    "\"MAR\",  362,  406,  419\n",
    "\"APR\",  348,  396,  461\n",
    "\"MAY\",  363,  420,  472\n",
    "\"JUN\",  435,  472,  535\n",
    "\"JUL\",  491,  548,  622\n",
    "\"AUG\",  505,  559,  606\n",
    "\"SEP\",  404,  463,  508\n",
    "\"OCT\",  359,  407,  461\n",
    "\"NOV\",  310,  362,  390\n",
    "\"DEC\",  337,  405,  432\n",
    "```\n",
    "\n",
    "We can see the first few lines are comments or metadata, the first line without a `#` is the headers, and we note that text is entered between `\"`s. In this case, the delimiter is a comma. We can read the data as an array with [`np.loadtxt`](https://docs.scipy.org/doc/numpy/reference/generated/numpy.loadtxt.html), telling it...\n",
    "\n",
    "* to ignore lines starting by #\n",
    "* to ignore the first column as it's text\n",
    "* to note that the separator is a comma"
   ]
  },
  {
   "cell_type": "code",
   "execution_count": 17,
   "metadata": {},
   "outputs": [
    {
     "name": "stdout",
     "output_type": "stream",
     "text": [
      "[[340. 360. 417.]\n",
      " [318. 342. 391.]\n",
      " [362. 406. 419.]\n",
      " [348. 396. 461.]\n",
      " [363. 420. 472.]\n",
      " [435. 472. 535.]\n",
      " [491. 548. 622.]\n",
      " [505. 559. 606.]\n",
      " [404. 463. 508.]\n",
      " [359. 407. 461.]\n",
      " [310. 362. 390.]\n",
      " [337. 405. 432.]]\n",
      "(12, 3)\n"
     ]
    }
   ],
   "source": [
    "air_travel = np.loadtxt(\"airtravel.csv\", comments=\"#\", skiprows=6, usecols=[1,2,3], delimiter=\",\")\n",
    "print(air_travel)\n",
    "print(air_travel.shape)"
   ]
  },
  {
   "cell_type": "markdown",
   "metadata": {},
   "source": [
    "While `np.loadtxt` is quite flexible for dealing with text files, [`pandas`](https://pandas.pydata.org) absolutely shines at working with tabular data. You can find a [pandas quickstart tutorial here](https://pandas.pydata.org/pandas-docs/stable/10min.html) if you are curious about it!\n",
    "\n",
    "Before we go into plotting, we can do some fun calculations (yay!) using our airtravel data\n",
    "\n",
    "\n",
    "* Calculate the total number of passengers per year\n",
    "* Calculate the average number of passengers per month\n",
    "* Can you spot any trends in the data?\n",
    "\n",
    "*Hint* Remember the `.sum()`, `.mean()` methods for arrays? "
   ]
  },
  {
   "cell_type": "code",
   "execution_count": 18,
   "metadata": {},
   "outputs": [],
   "source": [
    "# Space for your solution"
   ]
  },
  {
   "cell_type": "markdown",
   "metadata": {},
   "source": [
    "## Plotting with Matplotlib\n",
    "\n",
    "There are [quite a few graphical libraries for Python](https://scipy.org/topical-software.html#plotting-data-visualization-3-d-programming), but [matplotlib](http://matplotlib.org) is probably the most famous one. It does pretty much all you need in terms of 2D plots, and simple 3D plots, and is fairly straightforward to use. Have a look at the [matplotlib gallery](https://matplotlib.org/gallery/index.html) for a fairly comprehensive list of examples of what the library can do as well as the code that was used in the examples.\n",
    "\n",
    "### Importing matplotlib\n",
    "\n",
    "You can import matplotlib with \n",
    "\n",
    "    import matplotlib.pyplot as plt\n",
    "    \n",
    "As with `numpy`, it's custom to use the `plt` prefix to call matplotlib commands. In the notebook, you should also issue the following command just after the import\n",
    "\n",
    "    %matplotlib notebook\n",
    "    \n",
    "or\n",
    "\n",
    "    %matplotlib inline\n",
    "    \n",
    " \n",
    "    \n",
    "The former command will make the plots in the notebook interactive (i.e. point-and-click-ey), and the second will just stick the plots into the notebook as PNG files.\n",
    "\n",
    "### Simple 2D plots\n",
    "\n",
    "The most basic plots are 2D plots (e.g. x and y). Let's plot our previous air travel dataset... We'll plot it as annual lines, so the x axis will be month number (running from 1 to 12) and the y axis will be 1000s of passengers. Different line colours will be used for every year. We'll also add x and y axes labels, as well as a legend:\n"
   ]
  },
  {
   "cell_type": "code",
   "execution_count": 19,
   "metadata": {},
   "outputs": [
    {
     "data": {
      "text/plain": [
       "<matplotlib.legend.Legend at 0x7fe77e5f5cf8>"
      ]
     },
     "execution_count": 19,
     "metadata": {},
     "output_type": "execute_result"
    },
    {
     "data": {
      "image/png": "[encoded data removed]",
      "text/plain": [
       "<Figure size 432x288 with 1 Axes>"
      ]
     },
     "metadata": {
      "needs_background": "light"
     },
     "output_type": "display_data"
    }
   ],
   "source": [
    "# You can probably just put this at the top of every notebook you write\n",
    "# Adding it here for completeness\n",
    "%matplotlib inline\n",
    "import numpy as np\n",
    "import matplotlib.pyplot as plt\n",
    "\n",
    "\n",
    "# Load airtravel data\n",
    "air_travel = np.loadtxt(\"airtravel.csv\", skiprows=6, usecols=[1,2,3], delimiter=\",\")\n",
    "\n",
    "mths = np.arange(1, 13)\n",
    "plt.plot(mths, air_travel[:, 0], '-', label=\"1958\")\n",
    "plt.plot(mths, air_travel[:, 1], '-', label=\"1959\")\n",
    "plt.plot(mths, air_travel[:, 2], '-', label=\"1960\")\n",
    "plt.xlabel(\"Month\")\n",
    "plt.ylabel(\"1000s of travellers per moth\")\n",
    "plt.legend(loc=\"best\")"
   ]
  },
  {
   "cell_type": "markdown",
   "metadata": {},
   "source": [
    "You may not want to use lines to join the data points, but symbols like dots, crosses, etc. "
   ]
  },
  {
   "cell_type": "code",
   "execution_count": 20,
   "metadata": {},
   "outputs": [
    {
     "data": {
      "text/plain": [
       "<matplotlib.legend.Legend at 0x7fe77e530588>"
      ]
     },
     "execution_count": 20,
     "metadata": {},
     "output_type": "execute_result"
    },
    {
     "data": {
      "image/png": "[encoded data removed]",
      "text/plain": [
       "<Figure size 432x288 with 1 Axes>"
      ]
     },
     "metadata": {
      "needs_background": "light"
     },
     "output_type": "display_data"
    }
   ],
   "source": [
    "plt.figure()\n",
    "plt.plot(mths, air_travel[:, 0], 'x', label=\"1958\")\n",
    "plt.plot(mths, air_travel[:, 1], '+', label=\"1959\")\n",
    "plt.plot(mths, air_travel[:, 2], 'o', label=\"1960\")\n",
    "plt.xlabel(\"Month\")\n",
    "plt.ylabel(\"1000s of travellers per moth\")\n",
    "plt.legend(loc=\"best\")"
   ]
  },
  {
   "cell_type": "markdown",
   "metadata": {},
   "source": [
    "We can also use dots **and** lines. Moreover, we can change the type of line: from full lines to dashed to dash-dot..."
   ]
  },
  {
   "cell_type": "code",
   "execution_count": 21,
   "metadata": {},
   "outputs": [
    {
     "data": {
      "text/plain": [
       "<matplotlib.legend.Legend at 0x7fe77e4a8438>"
      ]
     },
     "execution_count": 21,
     "metadata": {},
     "output_type": "execute_result"
    },
    {
     "data": {
      "image/png": "[encoded data removed]",
      "text/plain": [
       "<Figure size 432x288 with 1 Axes>"
      ]
     },
     "metadata": {
      "needs_background": "light"
     },
     "output_type": "display_data"
    }
   ],
   "source": [
    "plt.figure()\n",
    "plt.plot(mths, air_travel[:, 0], 'x-', label=\"1958\")\n",
    "plt.plot(mths, air_travel[:, 1], '+--', label=\"1959\")\n",
    "plt.plot(mths, air_travel[:, 2], 'o-.', label=\"1960\")\n",
    "plt.xlabel(\"Month\")\n",
    "plt.ylabel(\"1000s of travellers per moth\")\n",
    "plt.legend(loc=\"best\")"
   ]
  },
  {
   "cell_type": "markdown",
   "metadata": {},
   "source": [
    "Let's plot now a function we have defined. Such a function could be a damped sinewave which is written as\n",
    "\n",
    "$$\n",
    "y(t) = A\\cdot \\exp(-\\lambda\\cdot t)\\cdot \\cos(\\omega\\cdot t + \\phi)\n",
    "$$\n",
    "\n",
    "where $A$ is the amplitude of the signal, $\\lambda$ is the decay rate, $\\omega=2\\pi/f$ is the angular frequency, and $\\phi$ is a phase angle. In numpy, the function could be written as\n",
    "```python\n",
    "def damped_sine(time, amp, decay, omega, phi):\n",
    "    \"\"\"Damped sine function.\n",
    "    Parameters\n",
    "    -----------\n",
    "    time: array\n",
    "        An array of time steps\n",
    "    amp: float\n",
    "        Amplitude of the signal\n",
    "    lambda: float\n",
    "        The decay rate\n",
    "    omega: float\n",
    "        The angular frequency\n",
    "    phi: float\n",
    "        The phase angle\n",
    "    \"\"\"\n",
    "    return amp*np.exp(-decay*t)*np.cos(omega*t + phi)\n",
    "```    \n",
    "\n"
   ]
  },
  {
   "cell_type": "code",
   "execution_count": 22,
   "metadata": {},
   "outputs": [
    {
     "data": {
      "text/plain": [
       "<matplotlib.legend.Legend at 0x7fe77e402e80>"
      ]
     },
     "execution_count": 22,
     "metadata": {},
     "output_type": "execute_result"
    },
    {
     "data": {
      "image/png": "[encoded data removed]",
      "text/plain": [
       "<Figure size 432x288 with 1 Axes>"
      ]
     },
     "metadata": {
      "needs_background": "light"
     },
     "output_type": "display_data"
    }
   ],
   "source": [
    "def damped_sine(time, amp, decay, omega, phi):\n",
    "    \"\"\"Damped sine function.\n",
    "    Parameters\n",
    "    -----------\n",
    "    time: array\n",
    "        An array of time steps\n",
    "    amp: float\n",
    "        Amplitude of the signal\n",
    "    lambda: float\n",
    "        The decay rate\n",
    "    omega: float\n",
    "        The angular frequency\n",
    "    phi: float\n",
    "        The phase angle\n",
    "    \"\"\"\n",
    "    return amp*np.exp(-decay*t)*np.cos(omega*t + phi)\n",
    "\n",
    "t = np.linspace(0, 10, 100)\n",
    "amp = 10.\n",
    "decay = .5\n",
    "omega = 2*np.pi*70\n",
    "phi = 0.\n",
    "plt.figure()\n",
    "plt.plot(t, damped_sine(t, amp, decay, omega, phi), '-', label=\"No delay\")\n",
    "plt.plot(t, damped_sine(t, amp, decay, omega, np.deg2rad(90.)), '-', label=\"90 degree delay\")\n",
    "plt.xlabel(\"Time [s]\")\n",
    "plt.ylabel(\"Amplitude [-]\")\n",
    "plt.title(\"Damped sinewave\")\n",
    "plt.legend(loc=\"best\")"
   ]
  },
  {
   "cell_type": "markdown",
   "metadata": {},
   "source": [
    "### Useful matpltolib 2D plot commands\n",
    "\n",
    "The commands used previously have stacks of options and documentation. Check it out here:\n",
    "\n",
    "* [`plt.plot`](https://matplotlib.org/api/_as_gen/matplotlib.pyplot.plot.html#matplotlib.pyplot.plot)\n",
    "* [`plt.xlabel`](https://matplotlib.org/api/_as_gen/matplotlib.pyplot.plot.html#matplotlib.pyplot.xlabel)\n",
    "* [`plt.ylabel`](https://matplotlib.org/api/_as_gen/matplotlib.pyplot.plot.html#matplotlib.pyplot.ylabel)\n",
    "* [`plt.title`](https://matplotlib.org/api/_as_gen/matplotlib.pyplot.plot.html#matplotlib.title.plot)\n",
    "* [`plt.legend`](https://matplotlib.org/api/_as_gen/matplotlib.pyplot.plot.html#matplotlib.pyplot.legend)\n",
    "\n",
    "\n"
   ]
  },
  {
   "cell_type": "markdown",
   "metadata": {},
   "source": [
    "## Looking at some actual data\n",
    "\n",
    "The [Daymet service](https://daymet.ornl.gov/) provides a number of daily interpolated weather data over North America. We can order some data using an API, and get a CSV file to download. The API takes 5 pieces of information:\n",
    "\n",
    "* The Latitude in decimal degrees (e.g. 45.4)\n",
    "* The Longitude in decimal degrees (e.g. -115.0534)\n",
    "* The variable(s) of interest\n",
    "* The starting date in year-month-day format\n",
    "* The end date in year-month-day format\n",
    "\n",
    "The variables of interest are\n",
    "\n",
    "* `dayl`: Daylight duration in seconds\n",
    "* `prcp`: Precipitation in $mm\\dot d^{-1}$\n",
    "* `srad`: Daily average incident shortwave radiation ($W\\dot m^{-2}$)\n",
    "* `swe`: Snow water equivalent $kg\\cdot  m^{-2}$\n",
    "* `tmax`: Maximum daily temperature in $^{\\circ}$ centigrade\n",
    "* `tmin`: Minimum daily temperature in $^{\\circ}$ centigrade\n",
    "* `vp`: : Water vapour pressure in $Pa$\n",
    "\n",
    "The URL is built up from you selection as follows (the backlash symbol `\\` is used to split the line, there are no spaces):\n",
    "\n",
    "    https://daymet.ornl.gov/single-pixel/api/data?\\\n",
    "    lat=45.4&lon=-115.0534&vars=tmax&start=2000-01-01&end=2010-01-01\n",
    "    \n",
    "Hopefully, you can see the pattern: different options are given after the `=` signs, so if you want another location, all you have to do is to change the values there and make the query. An example is given below."
   ]
  },
  {
   "cell_type": "code",
   "execution_count": 23,
   "metadata": {},
   "outputs": [
    {
     "name": "stdout",
     "output_type": "stream",
     "text": [
      "(3650, 3)\n"
     ]
    }
   ],
   "source": [
    "import requests\n",
    "\n",
    "# We open the output file, `daymet.csv`\n",
    "with open(\"daymet_tmax.csv\", 'w') as fp:\n",
    "    # Define the URL with the parameters of interest\n",
    "    url = \"https://daymet.ornl.gov/single-pixel/api/\" + \\\n",
    "        \"data?lat=45.4&lon=-115.0534&vars=tmax&start=2000-01-01&end=2010-01-01\"\n",
    "    # make the HTTPS connection\n",
    "    r = requests.get(url)\n",
    "    # Read the data, convert it to UTF-8 and write it to file\n",
    "    fp.write(r.content.decode(\"utf-8\"))\n",
    "\n",
    "# You can check the text file to see its contents, but we now\n",
    "# (i) it's separated by commas\n",
    "# (ii) the first 9 lines are metadata that we're not interested in.\n",
    "temperature = np.loadtxt(\"daymet_tmax.csv\", skiprows=9, delimiter=\",\")\n",
    "\n",
    "# We expect to get ~10 years of data here, so 3650 daily records\n",
    "print(temperature.shape)"
   ]
  },
  {
   "cell_type": "markdown",
   "metadata": {},
   "source": [
    "#### Exercise\n",
    "\n",
    "Select 4 locations in different regions of North America (e.g. Anchorage, Albuquerque, Seattle, Chicago). Request data on maximum temperature, precipitation and incident solar radiation for the years between 1981 to 2010, and plot in 3 different figures:\n",
    "\n",
    "* Figure 1: The *mean daily temperature* and the variation (a shaded area around the mean going from mean value **minus** 1.96 times the standard deviation to mean value **plus** 1.96 times the standard deviation). Use a subplot or panel for each site\n",
    "* Figure 2: The *mean daily precipitation* and the variation (a shaded area around the mean going from mean value **minus** 1.96 times the standard deviation to mean value **plus** 1.96 times the standard deviation). Use a subplot or panel for each site\n",
    "* Figure 3: The *mean daily incident solar radiation* and the variation (a shaded area around the mean going from mean value **minus** 1.96 times the standard deviation to mean value **plus** 1.96 times the standard deviation). Use a subplot or panel for each site\n",
    "\n",
    "In each plot, the mean value should be a full line, and the variation should be an envelope, visually similar to the plot shown below (clearly not identical!!!!)\n",
    "\n",
    "![la niña plot](https://www.metoffice.gov.uk/binaries/content/gallery/mohippo/images/news/charts-and-images/compare_datasets_new_logo_1850-1900-20122017a-630.jpg)\n",
    "\n",
    "\n",
    "Label each plot with a title, units and so on. Some useful functions to consider\n",
    "\n",
    "* [`plt.subplots`](https://matplotlib.org/api/_as_gen/matplotlib.pyplot.subplots.html) Allows you to split a figure into several panels or subplots. In particular, pay attention to the `sharex` and `sharey` options that allow you to have the same scales for all plots so they can be directly compared.\n",
    "* [`plt.fill_between`](https://matplotlib.org/api/_as_gen/matplotlib.pyplot.fill_between.html) Allows you to fill the space between two curves. You may want to give the option `color=0.8` for a nice grey effect.\n",
    "\n",
    "In order to calculate the statistics, note that you can reorder the data from the CSV provided by the server into a long array that can then be reshaped as $365\\times\\textsf{number of years}$ and then use the `.mean()` and `.std()` array methods."
   ]
  },
  {
   "cell_type": "code",
   "execution_count": null,
   "metadata": {},
   "outputs": [],
   "source": []
  }
 ],
 "metadata": {
  "kernelspec": {
   "display_name": "Python 3",
   "language": "python",
   "name": "python3"
  },
  "language_info": {
   "codemirror_mode": {
    "name": "ipython",
    "version": 3
   },
   "file_extension": ".py",
   "mimetype": "text/x-python",
   "name": "python",
   "nbconvert_exporter": "python",
   "pygments_lexer": "ipython3",
   "version": "3.6.5"
  },
  "latex_envs": {
   "LaTeX_envs_menu_present": true,
   "autoclose": false,
   "autocomplete": true,
   "bibliofile": "biblio.bib",
   "cite_by": "apalike",
   "current_citInitial": 1,
   "eqLabelWithNumbers": true,
   "eqNumInitial": 1,
   "hotkeys": {
    "equation": "Ctrl-E",
    "itemize": "Ctrl-I"
   },
   "labels_anchors": false,
   "latex_user_defs": false,
   "report_style_numbering": false,
   "user_envs_cfg": false
  },
  "varInspector": {
   "cols": {
    "lenName": 16,
    "lenType": 16,
    "lenVar": 40
   },
   "kernels_config": {
    "python": {
     "delete_cmd_postfix": "",
     "delete_cmd_prefix": "del ",
     "library": "var_list.py",
     "varRefreshCmd": "print(var_dic_list())"
    },
    "r": {
     "delete_cmd_postfix": ") ",
     "delete_cmd_prefix": "rm(",
     "library": "var_list.r",
     "varRefreshCmd": "cat(var_dic_list()) "
    }
   },
   "types_to_exclude": [
    "module",
    "function",
    "builtin_function_or_method",
    "instance",
    "_Feature"
   ],
   "window_display": false
  }
 },
 "nbformat": 4,
 "nbformat_minor": 2
}
