{
 "cells": [
  {
   "cell_type": "markdown",
   "metadata": {},
   "source": [
    "# 2. Scientific calculations in Python: `numpy`, `matplotlib` and `scipy` libraries\n",
    "\n",
    "While Python has a rich set of modules and data types by default, for numerical computing you'll be using two main libraries that conform the backbone of the [Python scientific stack](https://scipy.org/about.html). These libraries implement a great deal of functionality related to mathematical operations and efficient computations on large data volumes. These libraries are [`numpy`](http://numpy.org) and [`scipy`](http://scipy.org). `numpy` deals with efficient arrays, similar to lists, that simplify many common processing operations. Of course, just doing calculations isn't much fun if you can't plot some results. To do this, we use the [`matplotlib`](http://matplotlib.org) library.\n",
    "\n",
    "But first, we'll see the concept of *functions*....\n"
   ]
  },
  {
   "cell_type": "markdown",
   "metadata": {},
   "source": [
    "## 2.1 Functions\n",
    "\n",
    "A function is a collection of Python statements that do something (usually on some data). For example, you may want to convert from Fahrenheit to Centigrade. The conversion is \n",
    "\n",
    "$$\n",
    "^{\\circ}C = \\left(^{\\circ}F -32\\right)\\cdot\\frac{5}{9}\n",
    "$$\n",
    "\n",
    "A Python function will have a name (and we hope that the name is self-explanatory as to what the function does), and a set of input parameters. In the case above, the function would look like this:\n"
   ]
  },
  {
   "cell_type": "code",
   "execution_count": 1,
   "metadata": {},
   "outputs": [],
   "source": [
    "def fahrenheit_to_centigrade(deg_fahrenheit):\n",
    "    \"\"\"A function to convert from degrees Fahrenheit to degrees Centigrade\n",
    "    \n",
    "    Parameters\n",
    "    ----------\n",
    "    deg_fahrenheit: float\n",
    "        Temperature in degrees F\n",
    "    \n",
    "    Returns\n",
    "    -------\n",
    "    Temperature converted to degrees C\n",
    "    \"\"\"\n",
    "    deg_c = (deg_fahrenheit - 32.)*5./9.\n",
    "    return deg_c\n",
    "    "
   ]
  },
  {
   "cell_type": "markdown",
   "metadata": {},
   "source": [
    "We see that the function has a name (`fahrenheit_to_centigrade`), and takes one parameter (`deg_fahrenheit`). The main body of the function is indented (like `if` and `for` statements). There is first a comment string, that describes what the function does, as well as what the inputs are, and what the output is. This is just useful documentation of the code. The main body of the function calculates `deg_C` from the given input, and **returns** it back to the user. This is how this works:"
   ]
  },
  {
   "cell_type": "code",
   "execution_count": 2,
   "metadata": {},
   "outputs": [
    {
     "name": "stdout",
     "output_type": "stream",
     "text": [
      "-40.000000 degrees F is -40.000000 degrees C\n",
      "-30.000000 degrees F is -34.444444 degrees C\n",
      "-20.000000 degrees F is -28.888889 degrees C\n",
      "-10.000000 degrees F is -23.333333 degrees C\n",
      "0.000000 degrees F is -17.777778 degrees C\n",
      "10.000000 degrees F is -12.222222 degrees C\n",
      "50.000000 degrees F is 10.000000 degrees C\n",
      "100.000000 degrees F is 37.777778 degrees C\n"
     ]
    }
   ],
   "source": [
    "for deg_F in [-40, -30, -20, -10, 0, 10, 50, 100]:\n",
    "    conv_temp = fahrenheit_to_centigrade(deg_F)\n",
    "    print(f\"{deg_F:f} degrees F is {conv_temp:f} degrees C\")\n"
   ]
  },
  {
   "cell_type": "markdown",
   "metadata": {},
   "source": [
    "Functions are a very useful way of modularising code: rather than copying and pasting blocks of code, you can just bundle the code in a function and re-use it. This allows you to test the function and have some confidence that whenever you use the function again, it will work.\n",
    "\n",
    "Note the use of [formatted string literals](https://www.python-course.eu/python3_formatted_output.php) in this example, the `f` here in the `print(f\"{expression}\")` statement. This is new to Python 3.6, and evaluates `expression` at run time.\n",
    "\n",
    "It is important to understand that inside a function block, the variable names defined **within the function block** aren't shared with the outside world. In our previous example, we cannot access `deg_c` outside the function (try `print(deg_c`). **However**, Python will make use of variables defined on the main scope (e.g. outside the function block). It's a good idea to assume that all variables you need are either internal (e.g. calculated inside the code block), or else they should be passed as input parameters.\n",
    "\n",
    "In some cases, you might want to set some optional input parameters. If the user doesn't give a value for this, a default value will be used. Let's see an example. What we want now is a function that converts **to** and **from** F to C. By default, it will convert `F->C`, but you can specify an optional input parameter `convert_to_c` to go `C->F`:"
   ]
  },
  {
   "cell_type": "code",
   "execution_count": 3,
   "metadata": {
    "code_folding": []
   },
   "outputs": [
    {
     "name": "stdout",
     "output_type": "stream",
     "text": [
      "-40.000000 degrees F is -40.000000 degrees C\n",
      "-30.000000 degrees F is -34.444444 degrees C\n",
      "-20.000000 degrees F is -28.888889 degrees C\n",
      "-10.000000 degrees F is -23.333333 degrees C\n",
      "0.000000 degrees F is -17.777778 degrees C\n",
      "10.000000 degrees F is -12.222222 degrees C\n",
      "50.000000 degrees F is 10.000000 degrees C\n",
      "100.000000 degrees F is 37.777778 degrees C\n",
      "****************************************\n",
      "-40.000000 degrees C is -40.000000 degrees F\n",
      "-34.400000 degrees C is -29.920000 degrees F\n",
      "-28.880000 degrees C is -19.984000 degrees F\n",
      "-23.333000 degrees C is -9.999400 degrees F\n",
      "-17.778000 degrees C is -0.000400 degrees F\n",
      "-12.220000 degrees C is 10.004000 degrees F\n",
      "10.000000 degrees C is 50.000000 degrees F\n",
      "37.780000 degrees C is 100.004000 degrees F\n"
     ]
    }
   ],
   "source": [
    "def convert_temperature_units(degrees_in, convert_to_c=True):\n",
    "    \"\"\"A function to convert from temperature. \n",
    "    \n",
    "    Parameters\n",
    "    ----------\n",
    "    deg_in: float\n",
    "        Temperature in degrees F\n",
    "    convert_to_c: boolean\n",
    "        if `True`, converts from F to C, if `False`, it \n",
    "        converts from C to F\n",
    "    \n",
    "    Returns\n",
    "    -------\n",
    "    Converted temperature\n",
    "    \"\"\"\n",
    "    if convert_to_c:\n",
    "        deg_converted = (degrees_in - 32.)*5./9.\n",
    "    else:\n",
    "        deg_converted = degrees_in*9/5. + 32.\n",
    "    return deg_converted\n",
    "\n",
    "\n",
    "for deg_F in [-40, -30, -20, -10, 0, 10, 50, 100]:\n",
    "    conv_temp = convert_temperature_units(deg_F)\n",
    "    print(f\"{deg_F:f} degrees F is {conv_temp:f} degrees C\")\n",
    "print(\"*\"*40)\n",
    "\n",
    "for deg_C in [-40, -34.4, -28.88, -23.333, -17.778, -12.22, 10., 37.78]:\n",
    "    conv_temp = convert_temperature_units(deg_C, convert_to_c=False)\n",
    "    print(f\"{deg_C:f} degrees C is {conv_temp:f} degrees F\")\n",
    "\n",
    "    "
   ]
  },
  {
   "cell_type": "markdown",
   "metadata": {},
   "source": [
    "Notice that the document string `\"\"\"A function to convert from temperature... \"\"\"` is what is printed when you request `help` on the function:"
   ]
  },
  {
   "cell_type": "code",
   "execution_count": 4,
   "metadata": {},
   "outputs": [
    {
     "name": "stdout",
     "output_type": "stream",
     "text": [
      "Help on function convert_temperature_units in module __main__:\n",
      "\n",
      "convert_temperature_units(degrees_in, convert_to_c=True)\n",
      "    A function to convert from temperature. \n",
      "    \n",
      "    Parameters\n",
      "    ----------\n",
      "    deg_in: float\n",
      "        Temperature in degrees F\n",
      "    convert_to_c: boolean\n",
      "        if `True`, converts from F to C, if `False`, it \n",
      "        converts from C to F\n",
      "    \n",
      "    Returns\n",
      "    -------\n",
      "    Converted temperature\n",
      "\n"
     ]
    }
   ],
   "source": [
    "help(convert_temperature_units)"
   ]
  },
  {
   "cell_type": "markdown",
   "metadata": {},
   "source": [
    "**E2.1.1 Exercise**\n",
    "\n",
    "* In the vein of converting units, write functions that convert from\n",
    "\n",
    "    * inches to m (and back)\n",
    "    * kg to stones (and back)\n",
    "\n",
    "Hint: A stone is equal to 14 pounds, and a pound is equal to 0.45359237 kg.\n",
    "\n",
    "**Ensure** that your functions are clearly named, have sensible variable names, a brief docmentation string, and remember to test the functions work: just demonstrate running the function with some input pairs where you know the output and checking it makese sense."
   ]
  },
  {
   "cell_type": "code",
   "execution_count": 5,
   "metadata": {},
   "outputs": [],
   "source": [
    "# Space for your solution"
   ]
  },
  {
   "cell_type": "markdown",
   "metadata": {},
   "source": [
    "\n",
    "## 2.2 `numpy`\n",
    "\n",
    "### 2.2.1 arrays\n",
    "\n",
    "You import the `numpy` library using\n",
    "\n",
    "    import numpy as np\n",
    "    \n",
    "This means that all the functionality of `numpy` is accessed by the prefix `np.`: e.g. `np.array`. The main element of `numpy` is the numpy array. An array is like a list, but unlike a list, all the elements are of the same type, floating point numbers for example. \n",
    "\n",
    "Let's see some arrays in action..."
   ]
  },
  {
   "cell_type": "code",
   "execution_count": 6,
   "metadata": {
    "ExecuteTime": {
     "end_time": "2018-09-26T16:26:31.395372Z",
     "start_time": "2018-09-26T16:26:31.387781Z"
    }
   },
   "outputs": [
    {
     "name": "stdout",
     "output_type": "stream",
     "text": [
      "[1. 1. 1. 1. 1.]\n",
      "<class 'numpy.ndarray'>\n",
      "[1 2 3 4]\n",
      "[1. 2. 3. 4.]\n"
     ]
    }
   ],
   "source": [
    "import numpy as np  # Import the numpy library\n",
    "\n",
    "# An array with 5 ones\n",
    "arr = np.ones(5)\n",
    "print(arr)\n",
    "print(type(arr))\n",
    "\n",
    "# An array started from a list of **integers**\n",
    "arr = np.array([1, 2, 3, 4])\n",
    "print(arr)\n",
    "\n",
    "# An array started from a list of numbers, what's the difference??\n",
    "arr = np.array([1., 2, 3, 4])\n",
    "print(arr)"
   ]
  },
  {
   "cell_type": "markdown",
   "metadata": {},
   "source": [
    "In the example above we have generated an array where all the elements are `1.0`, using [`np.ones`](https://docs.scipy.org/doc/numpy/reference/generated/numpy.ones.html), and then we have been able to generate arrays from lists using the [`np.array`](https://docs.scipy.org/doc/numpy/reference/generated/numpy.array.html) function. The difference between the 2nd and 3rd examples is that in the 2nd example, all the elements of the list are integers, and in the 3rd example, one is a floating point number. `numpy` automatically makes the array floating point by converting the integers to floating point numbers.\n",
    "\n",
    "What can we do with arrays? We can efficiently operate on individual elements without loops:"
   ]
  },
  {
   "cell_type": "code",
   "execution_count": 7,
   "metadata": {},
   "outputs": [
    {
     "name": "stdout",
     "output_type": "stream",
     "text": [
      "[2. 2. 2. 2. 2. 2. 2. 2. 2. 2.]\n"
     ]
    }
   ],
   "source": [
    "arr = np.ones(10)\n",
    "print(2 * arr)"
   ]
  },
  {
   "cell_type": "markdown",
   "metadata": {},
   "source": [
    "`numpy` is clever enough to figure out that the 2 multiplying the array is applied to all elements of the array, and returns an array of the same size as `arr` with the elements of `arr` multiplied by 2. We can also multiply two arrays of the same size. So let's create an array with the numbers 0 to 9 and one with the numbers 9 to 0 and do a times table:"
   ]
  },
  {
   "cell_type": "code",
   "execution_count": 8,
   "metadata": {},
   "outputs": [
    {
     "name": "stdout",
     "output_type": "stream",
     "text": [
      "[9. 9. 9. 9. 9. 9. 9. 9. 9. 9.]\n",
      "[ 1  2  3  4  5  6  7  8  9 10]\n",
      "[ 9. 18. 27. 36. 45. 54. 63. 72. 81. 90.]\n"
     ]
    }
   ],
   "source": [
    "arr1 = 9 * np.ones(10)\n",
    "arr2 = np.arange(1, 11)  # arange gives an array from 1 to 11, 11 not included\n",
    "\n",
    "print(arr1)\n",
    "print(arr2)\n",
    "\n",
    "print(arr1 * arr2)"
   ]
  },
  {
   "cell_type": "markdown",
   "metadata": {},
   "source": [
    "**E2.2.1 Exercise**\n",
    "\n",
    "* Using code similar to the above and a `for` loop, write the times tables for 2 to 10. The solution you're looking for should look a bit like this:\n",
    "\n",
    "        [ 2  4  6  8 10 12 14 16 18 20]\n",
    "        [ 3  6  9 12 15 18 21 24 27 30]\n",
    "        [ 4  8 12 16 20 24 28 32 36 40]\n",
    "        [ 5 10 15 20 25 30 35 40 45 50]\n",
    "        [ 6 12 18 24 30 36 42 48 54 60]\n",
    "        [ 7 14 21 28 35 42 49 56 63 70]\n",
    "        [ 8 16 24 32 40 48 56 64 72 80]\n",
    "        [ 9 18 27 36 45 54 63 72 81 90]\n",
    "        [ 10  20  30  40  50  60  70  80  90 100]"
   ]
  },
  {
   "cell_type": "code",
   "execution_count": 9,
   "metadata": {},
   "outputs": [],
   "source": [
    "# Your solution here"
   ]
  },
  {
   "cell_type": "markdown",
   "metadata": {},
   "source": [
    "If the arrays are of the same *shape*, you can do standard operations between them **element-wise**:"
   ]
  },
  {
   "cell_type": "code",
   "execution_count": 10,
   "metadata": {},
   "outputs": [
    {
     "name": "stdout",
     "output_type": "stream",
     "text": [
      "[27. 36. 45. 54.]\n",
      "[ 90. 160. 250. 360.]\n",
      "Array shapes:\n",
      "arr1:  (4,)\n",
      "arr2:  (4,)\n"
     ]
    }
   ],
   "source": [
    "arr1 = np.array([3, 4, 5, 6.])\n",
    "arr2 = np.array([30, 40, 50, 60.])\n",
    "\n",
    "print(arr2 - arr1)\n",
    "print(arr1 * arr2)\n",
    "\n",
    "print(\"Array shapes:\")\n",
    "print(\"arr1: \", arr1.shape)\n",
    "print(\"arr2: \", arr2.shape)"
   ]
  },
  {
   "cell_type": "markdown",
   "metadata": {},
   "source": [
    "The `numpy` documenation is huge. There's an [user's guide](https://docs.scipy.org/doc/numpy/user/index.html), as well as a reference to all the [contents of the library](https://docs.scipy.org/doc/numpy/reference/index.html). There's even [a tutorial availabe](https://docs.scipy.org/doc/numpy/user/quickstart.html) if you get bored with this one.\n",
    "\n",
    "### 2.2.2 More detail about `numpy.arrays` \n",
    "\n",
    "So far, we have seen a 1D array, which is the equivalent to a vector. But arrays can have more dimensions: a 2D array would be equivalent to a matrix (or an image, with rows and columns), and a 3D array would be a volume split into voxels, as seen below\n",
    "\n",
    "\n",
    "![numpy arrays](https://cdn-images-1.medium.com/max/1120/1*Ikn1J6siiiCSk4ivYUhdgw.png)\n",
    "\n",
    "So a 1D array has one axis, a 2D array has 2 axes, a 3D array 3, and so on. The `shape` of the array provides a tuple with the number of elements along each axis. Let's see this with some generally useful array creation options:"
   ]
  },
  {
   "cell_type": "code",
   "execution_count": 11,
   "metadata": {},
   "outputs": [
    {
     "name": "stdout",
     "output_type": "stream",
     "text": [
      "3*5 array:\n",
      "[[ 0  1  2  3  4]\n",
      " [ 5  6  7  8  9]\n",
      " [10 11 12 13 14]]\n",
      "2*3 array:\n",
      "[[1.5 2.  3. ]\n",
      " [4.  5.  6. ]]\n"
     ]
    }
   ],
   "source": [
    "# Create a 2D array from a list of rows. Note that the 3 rows have the same number of elements!\n",
    "arr1 = np.array([[0, 1, 2, 3, 4], [5, 6, 7, 8, 9], [10, 11, 12, 13, 14]])\n",
    "# A 2D array from a list of tuples.\n",
    "# We're specifically asking for floating point numbers\n",
    "arr2 = np.array([(1.5, 2, 3), (4, 5, 6)], dtype=np.float)\n",
    "print(\"3*5 array:\")\n",
    "print(arr1)\n",
    "print(\"2*3 array:\")\n",
    "print(arr2)"
   ]
  },
  {
   "cell_type": "markdown",
   "metadata": {},
   "source": [
    "### 2.2.3 Array creators\n",
    "\n",
    "Quite often, we will want to initialise an array to be all the same number. The methods for doing this as 0,1 and unspecified in `numpy` are `np.zeros()`, `np.ones()`, `np.empty()` respectively."
   ]
  },
  {
   "cell_type": "code",
   "execution_count": null,
   "metadata": {},
   "outputs": [],
   "source": [
    "# Creates a 3*4 array of 0s\n",
    "arr = np.zeros((3, 4))\n",
    "print(\"3*4 array of 0s\")\n",
    "print(arr)\n",
    "\n",
    "# Creates a 2x3x4 array of int 1's\n",
    "print(\"2*3*4 array of 1s (integers)\")\n",
    "arr = np.ones((2, 3, 4), dtype=np.int)\n",
    "print(arr)\n",
    "\n",
    "# Creates an empty (e.g. uninitialised) 2x3 array. Elements are random\n",
    "print(\"2*3 empty array (contents could be anything)\")\n",
    "arr = np.empty((2, 3))\n",
    "print(arr)"
   ]
  },
  {
   "cell_type": "markdown",
   "metadata": {},
   "source": [
    "**Exercise E2.2.2**\n",
    "\n",
    "* write a function that does the following:\n",
    "    * create a 2-D tuple called `indices` containing the integers `((0, 1, 2, 3, 4),(5, 6, 7, 8, 9))`\n",
    "    * create a 2-D numpy array called `data` of shape `(5,10)`, data type `int`, initialised with zero\n",
    "    * set the value of `data[r,c]` to be `1` for each of the 5 row,column pairs specified in `indices`.\n",
    "    * return the data array\n",
    "* print out the result returned\n",
    "\n",
    "The result should look like:\n",
    "\n",
    "    [[0 0 0 0 0 1 0 0 0 0]\n",
    "     [0 0 0 0 0 0 1 0 0 0]\n",
    "     [0 0 0 0 0 0 0 1 0 0]\n",
    "     [0 0 0 0 0 0 0 0 1 0]\n",
    "     [0 0 0 0 0 0 0 0 0 1]]\n",
    "\n",
    "**Hint**: You could use a `for` loop, but what does `data[indices]` give?"
   ]
  },
  {
   "cell_type": "code",
   "execution_count": null,
   "metadata": {},
   "outputs": [],
   "source": [
    "# do exercise here"
   ]
  },
  {
   "cell_type": "markdown",
   "metadata": {},
   "source": [
    "**Exercise 2.2.3**\n",
    "\n",
    "* write a more flexible version of you function above where `indices`, the value you want to set (`1` above) and the desired shape of `data` are specified through function keyword arguments (e.g. `indices=((0, 1, 2, 3, 4),(5, 6, 7, 8, 9)),value=1,shape=(5,10)`)\n",
    "\n"
   ]
  },
  {
   "cell_type": "code",
   "execution_count": null,
   "metadata": {},
   "outputs": [],
   "source": [
    "# do exercise here"
   ]
  },
  {
   "cell_type": "markdown",
   "metadata": {},
   "source": [
    "As well as initialising arrays with the same number as above, we often also want to initialise with common data patterns. This includes simple integer ranges `(start, stop, skip)` in a similar fashion to slicing in the last session, or variations on this theme:"
   ]
  },
  {
   "cell_type": "code",
   "execution_count": null,
   "metadata": {},
   "outputs": [],
   "source": [
    "### array creators\n",
    "\n",
    "print(\"1D array of numbers from 0 to 2 in increments of 0.3\")\n",
    "start = 0\n",
    "stop  = 2.0\n",
    "skip  = 0.3\n",
    "\n",
    "arr = np.arange(start,stop,skip)\n",
    "print(f'arr of shape {arr.shape}:\\n\\t{arr}')\n",
    "\n",
    "start = 0\n",
    "stop  = 34\n",
    "nsamp = 9\n",
    "arr = np.linspace(start,stop,nsamp)\n",
    "print(f\"array of shape {arr.shape} numbers equally spaced from {start} to {stop}:\\n\\t{arr}\")\n",
    "\n",
    "np.linspace(stop,start,9)"
   ]
  },
  {
   "cell_type": "markdown",
   "metadata": {},
   "source": [
    "**Exercise E2.2.4**\n",
    "\n",
    "* print an array of integer numbers from 100 to 1\n",
    "* print an array with 9 numbers equally spaced between 100 and 1\n",
    "\n",
    "Hint: what value of skip would be appropriate here? what about `start` and `stop`?"
   ]
  },
  {
   "cell_type": "code",
   "execution_count": null,
   "metadata": {},
   "outputs": [],
   "source": [
    "# do exercise here"
   ]
  },
  {
   "cell_type": "markdown",
   "metadata": {},
   "source": [
    "### 2.2.4 Summary statistics\n",
    "\n",
    "Below are some typical arithmetic operations that you can use on arrays. Remember that they happen **elementwise** (i.e. to the whole array)."
   ]
  },
  {
   "cell_type": "code",
   "execution_count": null,
   "metadata": {},
   "outputs": [],
   "source": [
    "b = np.arange(4)\n",
    "print(f'{b}^2 = {b**2}\\n')\n",
    "\n",
    "a = np.array([20, 30, 40, 50])\n",
    "print(f\"assuming in radians,\\n10*sin({a}) = {10 * np.sin(a)}\")\n",
    "\n",
    "print(\"\\nSome useful numpy array methods for summary statistics...\\n\")\n",
    "print(\"Find the maximum of an array: a.max(): \", a.max())\n",
    "print(\"Find the minimum of an array: a.min(): \", a.min())\n",
    "print(\"Find the sum of an array: a.sum(): \", a.sum())\n",
    "print(\"Find the mean of an array: a.mean(): \", a.mean())\n",
    "print(\"Find the standard deviation of an array: a.std(): \", a.std())"
   ]
  },
  {
   "cell_type": "markdown",
   "metadata": {},
   "source": [
    "Let's access an interesting dataset on the frequency of satellite launches to illustrate this.\n",
    "\n",
    "![SpaceX landing](https://media.giphy.com/media/26DNbCqVfLJbYrXIA/giphy.gif)"
   ]
  },
  {
   "cell_type": "code",
   "execution_count": 13,
   "metadata": {},
   "outputs": [
    {
     "name": "stdout",
     "output_type": "stream",
     "text": [
      "data shape (12, 63)\n",
      "some summary statistics over the period 1957 to 2020:\n",
      "The total number of launches is 43612\n",
      "The mean number of launches is 57.688 per month\n"
     ]
    }
   ],
   "source": [
    "from nsat import nsat\n",
    "\n",
    "'''\n",
    "This dataset gives the number of \n",
    "satellites launched per month and year\n",
    "data from https://www.n2yo.com\n",
    "'''\n",
    "\n",
    "# We use the code supplied in nsat.py\n",
    "# to generate the dataset (takes time)\n",
    "# or to load it if it exists\n",
    "\n",
    "# specify the years wanted\n",
    "years = 1957,2020\n",
    "\n",
    "# *years here means load as if it were\n",
    "# nsat(years[0],years[1])\n",
    "\n",
    "data = nsat(*years).data\n",
    "\n",
    "print(f'data shape {data.shape}')\n",
    "\n",
    "print(f'some summary statistics over the period {years[0]} to {years[1]}:')\n",
    "print(f'The total number of launches is {data.sum():d}')\n",
    "print(f'The mean number of launches is {data.mean():.3f} per month')"
   ]
  },
  {
   "cell_type": "markdown",
   "metadata": {},
   "source": [
    "**Exercise E2.2.5**\n",
    "\n",
    "* copy the code above but generate a fuller set of summary statistics including the standard deviation, minimum and maximum.\n"
   ]
  },
  {
   "cell_type": "code",
   "execution_count": 9,
   "metadata": {},
   "outputs": [],
   "source": [
    "# do exercise here"
   ]
  },
  {
   "cell_type": "markdown",
   "metadata": {},
   "source": [
    "Whilst we have generated some interesting summary statistics on the dataset, it's not really enough to give us a good idea of the data characteristics.\n",
    "\n",
    "To do that, we want to be able to ask somewhat more complex questions of the data, such as, which *year* has the most/least launches? which month do most launches happen in? which month in which year had the most launches? which years had more than 100 launches?\n",
    "\n",
    "To be able to address these, we need some new concepts:\n",
    "\n",
    "* methods `argmin()` and `argmax()` that provide the *index* where the min/max occurs\n",
    "* filtering and the related method `where()`\n",
    "* `axis` methods: the dataset is two-dimensional, and for some questions we need to operate only over one of these\n",
    "\n",
    "To illustrate:"
   ]
  },
  {
   "cell_type": "code",
   "execution_count": 21,
   "metadata": {},
   "outputs": [
    {
     "name": "stdout",
     "output_type": "stream",
     "text": [
      "type(sum_per_year): <class 'numpy.ndarray'>, sum_per_year.shape: (62,), sum_per_year.dtype: int64\n",
      "type(high): <class 'numpy.ndarray'>, high.shape: (62,), high.dtype: bool\n",
      "\n",
      "the year with most launches was 1999 with 4195\n",
      "the year with fewest launches was 1957 with 3\n",
      "\n",
      "The years with >= 1000 launches are:\n"
     ]
    },
    {
     "data": {
      "application/vnd.jupyter.widget-view+json": {
       "model_id": "a35f3708e14249049c7f137f372eac1a",
       "version_major": 2,
       "version_minor": 0
      }
     },
     "metadata": {},
     "output_type": "display_data"
    },
    {
     "name": "stdout",
     "output_type": "stream",
     "text": [
      "The years with <= 300 launches are:\n"
     ]
    },
    {
     "data": {
      "application/vnd.jupyter.widget-view+json": {
       "model_id": "0ed0e1d1d1bc4b1396ef79b9cad5d096",
       "version_major": 2,
       "version_minor": 0
      }
     },
     "metadata": {},
     "output_type": "display_data"
    }
   ],
   "source": [
    "from nsat import nsat\n",
    "import numpy as np\n",
    "\n",
    "satellite = nsat()\n",
    "\n",
    "data = satellite.data\n",
    "years = satellite.years\n",
    "\n",
    "year = np.arange(years[0],years[1],dtype=np.int)\n",
    "\n",
    "# sum the data over all months (axis 0)\n",
    "sum_per_year = data.sum(axis=0)\n",
    "\n",
    "imax = np.argmax(sum_per_year)\n",
    "imin = np.argmin(sum_per_year)\n",
    "\n",
    "# filtering \n",
    "# high(low) is an array set to True where the condition\n",
    "# is True, and False otherwise\n",
    "high = sum_per_year>=1000\n",
    "low  = sum_per_year<=300\n",
    "\n",
    "print(f'the year with most launches was {year[imax]} with {sum_per_year[imax]}')\n",
    "print(f'the year with fewest launches was {year[imin]} with {sum_per_year[imin]}')\n",
    "\n",
    "# use pandas for a pretty table here\n",
    "# and IPython.display.display to display it\n",
    "import pandas as pd\n",
    "import IPython\n",
    "\n",
    "print(f'\\nThe years with >= 1000 launches are:')\n",
    "df=pd.DataFrame([year[high],sum_per_year[high]])\n",
    "IPython.display.display(df)\n",
    "\n",
    "print(f'The years with <= 300 launches are:')\n",
    "df=pd.DataFrame([year[low],sum_per_year[low]])\n",
    "IPython.display.display(df)"
   ]
  },
  {
   "cell_type": "markdown",
   "metadata": {},
   "source": [
    "**Exercise E2.2.6**\n",
    "\n",
    "* copy the code above, and modify it to find the total launches *per month* (over all years)\n",
    "* show these data in a table\n",
    "* which month do launches mostly take place in? which month do launches most seldom take place in?"
   ]
  },
  {
   "cell_type": "code",
   "execution_count": 14,
   "metadata": {},
   "outputs": [],
   "source": [
    "# do exercise here"
   ]
  },
  {
   "cell_type": "markdown",
   "metadata": {},
   "source": [
    "The form of filtering above (`high = sum_per_year>=1000`) produces a numpy array of the same shape as that operated on (`sum_per_year` here) of `bool` data type.  It has entries of `True` where the condition is met, and `False` where it is not met."
   ]
  },
  {
   "cell_type": "code",
   "execution_count": 147,
   "metadata": {},
   "outputs": [
    {
     "name": "stdout",
     "output_type": "stream",
     "text": [
      "type(sum_per_year): <class 'numpy.ndarray'>, sum_per_year.shape: (62,), sum_per_year.dtype: int64\n",
      "type(high): <class 'numpy.ndarray'>, high.shape: (62,), high.dtype: bool\n",
      "\n",
      "sum_per_year: [   3   11   22   52  396  207  346  401 1527  786  466  690  641  906\n",
      "  636  654  875  694 1195 1264  891  783  857  637 1190  946  884  760\n",
      "  788 1375 1130  814  950  691  691  740 2131 1166  534  246  960  651\n",
      " 4195  730  582  277  243  209  192 1158  349  406  378  373  315  435\n",
      "  352  355  335  308  512  320]\n",
      "high: [False False False False False False False False  True False False False\n",
      " False False False False False False  True  True False False False False\n",
      "  True False False False False  True  True False False False False False\n",
      "  True  True False False False False  True False False False False False\n",
      " False  True False False False False False False False False False False\n",
      " False False]\n",
      "low: [ True  True  True  True False  True False False False False False False\n",
      " False False False False False False False False False False False False\n",
      " False False False False False False False False False False False False\n",
      " False False False  True False False False False False  True  True  True\n",
      "  True False False False False False False False False False False False\n",
      " False False]\n"
     ]
    }
   ],
   "source": [
    "from nsat import nsat\n",
    "# sum the data over all months (axis 0)\n",
    "sum_per_year = nsat().data.sum(axis=0)\n",
    "\n",
    "high = sum_per_year>=1000\n",
    "low  = sum_per_year<=300\n",
    "\n",
    "print(f'type(sum_per_year): {type(sum_per_year)}, sum_per_year.shape: {sum_per_year.shape}, ' \\\n",
    "        + f'sum_per_year.dtype: {sum_per_year.dtype}')\n",
    "print(f'type(high): {type(high)}, high.shape: {high.shape}, high.dtype: {high.dtype}\\n')\n",
    "\n",
    "print(f'sum_per_year: {sum_per_year}')\n",
    "print(f'high: {high}')\n",
    "print(f'low: {low}')"
   ]
  },
  {
   "cell_type": "markdown",
   "metadata": {},
   "source": [
    "We can think of this logical array as a 'data mask' that we use to select (filter) entries. \n",
    "\n",
    "The figure shows `log(sum_per_year)` in the top line of the image (numbers represented by colour shown in colourbar), then a representation of the `bool` arrays `high` and `low`. Where the `bool` value is shown yellow, the 'data mask' is true.\n",
    "![](arrayviz.jpg)"
   ]
  },
  {
   "cell_type": "code",
   "execution_count": 148,
   "metadata": {},
   "outputs": [
    {
     "name": "stdout",
     "output_type": "stream",
     "text": [
      "[1527 1195 1264 1190 1375 1130 2131 1166 4195 1158]\n",
      "[  3  11  22  52 207 246 277 243 209 192]\n"
     ]
    }
   ],
   "source": [
    "print(f'{sum_per_year[high]}')\n",
    "print(f'{sum_per_year[low]}')"
   ]
  },
  {
   "cell_type": "markdown",
   "metadata": {},
   "source": [
    "Sometimes, instead of just applying the filter as above, we want to know the indices of the filtered values. \n",
    "\n",
    "To do this, we can use the `np.where()` method. This takes a `bool` array as its argument (such as our data masks or other conditions) and returns a tuple of the indices where this is set `True`."
   ]
  },
  {
   "cell_type": "code",
   "execution_count": 149,
   "metadata": {},
   "outputs": [
    {
     "name": "stdout",
     "output_type": "stream",
     "text": [
      "indices:\n",
      "[1 3 4 4 5 5 5 6 8 8 9 9]\n",
      "[29 13 37 42 24 36 49 19 40 43  8 42]\n",
      "\n",
      "type(indices): <class 'tuple'>\n",
      "len(indices): 2, len(indices[0]): 12\n",
      "type(indices[0][0]): <class 'numpy.int64'>\n",
      "***********************\n",
      "busy months\n",
      "***********************\n",
      "0000 month 01 year 1986\n",
      "0001 month 03 year 1970\n",
      "0002 month 04 year 1994\n",
      "0003 month 04 year 1999\n",
      "0004 month 05 year 1981\n",
      "0005 month 05 year 1993\n",
      "0006 month 05 year 2006\n",
      "0007 month 06 year 1976\n",
      "0008 month 08 year 1997\n",
      "0009 month 08 year 2000\n",
      "0010 month 09 year 1965\n",
      "0011 month 09 year 1999\n",
      "***********************\n"
     ]
    }
   ],
   "source": [
    "from nsat import nsat\n",
    "data,years = nsat().data,nsat().years\n",
    "# where :\n",
    "# which months in the dataset were particularly busy ..\n",
    "# we select data > 400 as a condition \n",
    "\n",
    "indices = np.where(data > 400)\n",
    "print(f'indices:\\n{indices[0]}\\n{indices[1]}')\n",
    "print(f'\\ntype(indices): {type(indices)}')\n",
    "print(f'len(indices): {len(indices)}, len(indices[0]): {len(indices[0])}')\n",
    "print(f'type(indices[0][0]): {type(indices[0][0])}')\n",
    "\n",
    "year = np.arange(years[0],years[1],dtype=np.int)\n",
    "month = np.arange(12)\n",
    "\n",
    "nsamp = len(indices[0])\n",
    "\n",
    "# loop over the entries in the tuple\n",
    "print('*'*23)\n",
    "print('busy months')\n",
    "print('*'*23)\n",
    "for i in range(nsamp):\n",
    "    print(f'{i:04d} month {month[indices[0][i]]:02d}'+\\\n",
    "                  f' year {year[indices[1][i]]:04d}')\n",
    "print('*'*23)"
   ]
  },
  {
   "cell_type": "markdown",
   "metadata": {},
   "source": [
    "**Exercise E2.2.7**\n",
    "\n",
    "* Using code from the sections above, print out a table with the busiest launch months with an additional column stating the number of launches\n",
    "\n",
    "Hint: this is just adding another column to the print statement in the for loop"
   ]
  },
  {
   "cell_type": "code",
   "execution_count": 150,
   "metadata": {},
   "outputs": [],
   "source": [
    "# do exercise here"
   ]
  },
  {
   "cell_type": "markdown",
   "metadata": {},
   "source": [
    "You might notice the indices in the tuple derived above using `where` are *ordered*, but the effect of this is that the months are in sequential order, rather than the years. We have\n",
    "\n",
    "    month[indices[0][i]]\n",
    "    year[indices[1][i]]\n",
    "    \n",
    "If we want to put the data in year order, there are several ways we could go about this. An insteresting one, following the ideas in `argmax()` and `argmin()` above is to use `argsort()`. This gives the *indices* of the sorted array, rather than the values.\n",
    "\n",
    "So here, we can find the *indices* of the year-sorted array, and apply them to both `month` and `year` datasets:"
   ]
  },
  {
   "cell_type": "code",
   "execution_count": 151,
   "metadata": {},
   "outputs": [
    {
     "name": "stdout",
     "output_type": "stream",
     "text": [
      "years not in order: [1986 1970 1994 1999 1981 1993 2006 1976 1997 2000 1965 1999]\n",
      "but months are:     [1 3 4 4 5 5 5 6 8 8 9 9]\n",
      "\n",
      "year order: [10  1  7  4  0  5  2  8  3 11  9  6]\n",
      "\n",
      "years in order: [1965 1970 1976 1981 1986 1993 1994 1997 1999 1999 2000 2006]\n",
      "months in year order: [9 3 6 5 1 5 4 8 4 9 8 5]\n"
     ]
    }
   ],
   "source": [
    "# prepare data as above\n",
    "from nsat import nsat\n",
    "data,years = nsat().data,nsat().years\n",
    "indices = np.where(data > 400)\n",
    "year = np.arange(years[0],years[1],dtype=np.int)\n",
    "month = np.arange(12,dtype=np.int)\n",
    "\n",
    "# store the months and years\n",
    "# in their unsorted (original) form\n",
    "unsorted_months = month[indices[0]]\n",
    "unsorted_years = year[indices[1]]\n",
    "print(f'years not in order: {unsorted_years}')\n",
    "print(f'but months are:     {unsorted_months}\\n')\n",
    "\n",
    "\n",
    "# get the indices to put years in order\n",
    "year_order = np.argsort(indices[1])\n",
    "\n",
    "# apply this to months and years\n",
    "print(f'year order: {year_order}\\n')\n",
    "print(f'years in order: {unsorted_years[year_order]}')\n",
    "print(f'months in year order: {unsorted_months[year_order]}')\n"
   ]
  },
  {
   "cell_type": "markdown",
   "metadata": {},
   "source": [
    "**Exercise E2.2.8**\n",
    "\n",
    "* Use this example of `argsort()` to redo Exercise E2.2.7, putting the data in correct year order"
   ]
  },
  {
   "cell_type": "code",
   "execution_count": 152,
   "metadata": {},
   "outputs": [],
   "source": [
    "# do exercise here"
   ]
  },
  {
   "cell_type": "markdown",
   "metadata": {},
   "source": [
    "### 2.2.5 Summary\n",
    "\n",
    "In this section, you have been introduced to more detail on arrays in `numpy`. The big advantages of `numpy` are that you can easily perform array operators (such as adding two arrays together), and that `numpy` has a large number of useful functions for manipulating N-dimensional data in array form. This makes it particularly appropriate for raster geospatial data processing.\n",
    "\n",
    "We have seen how to create various forms of array (e.g. `np.ones()`, `np.arange()`), how to calculate some basic statistics (`min()`, `max()` etc), and finding the array index where some pattern occurs (e.g. `argmin()`, `argsort()` or `where()`). "
   ]
  },
  {
   "cell_type": "markdown",
   "metadata": {},
   "source": [
    "## 2.3 Plotting with Matplotlib\n",
    "\n",
    "There are [quite a few graphical libraries for Python](https://scipy.org/topical-software.html#plotting-data-visualization-3-d-programming), but [matplotlib](http://matplotlib.org) is probably the most famous one. It does pretty much all you need in terms of 2D plots, and simple 3D plots, and is fairly straightforward to use. Have a look at the [matplotlib gallery](https://matplotlib.org/gallery/index.html) for a fairly comprehensive list of examples of what the library can do as well as the code that was used in the examples.\n",
    "\n",
    "**Importing matplotlib**\n",
    "\n",
    "You can import matplotlib with \n",
    "\n",
    "    import matplotlib.pyplot as plt\n",
    "    \n",
    "As with `numpy`, it's custom to use the `plt` prefix to call matplotlib commands. In the notebook, you should also issue the following command just after the import\n",
    "\n",
    "    %matplotlib notebook\n",
    "    \n",
    "or\n",
    "\n",
    "    %matplotlib inline\n",
    "    \n",
    "    \n",
    "The former command will make the plots in the notebook interactive (i.e. point-and-click-ey), and the second will just stick the plots into the notebook as PNG files.\n",
    "\n",
    "**Simple 2D plots**\n",
    "\n",
    "The most basic plots are 2D plots (e.g. x and y). \n",
    "\n"
   ]
  },
  {
   "cell_type": "code",
   "execution_count": 159,
   "metadata": {},
   "outputs": [
    {
     "name": "stdout",
     "output_type": "stream",
     "text": [
      "data shape (12, 62)\n"
     ]
    },
    {
     "data": {
      "text/plain": [
       "[<matplotlib.lines.Line2D at 0x11f4762b0>]"
      ]
     },
     "execution_count": 159,
     "metadata": {},
     "output_type": "execute_result"
    },
    {
     "data": {
      "image/png": "[encoded data removed]",
      "text/plain": [
       "<Figure size 432x288 with 1 Axes>"
      ]
     },
     "metadata": {
      "needs_background": "light"
     },
     "output_type": "display_data"
    }
   ],
   "source": [
    "import matplotlib.pyplot as plt\n",
    "%matplotlib inline\n",
    "\n",
    "from nsat import nsat\n",
    "import numpy as np\n",
    "'''\n",
    "This dataset gives the number of \n",
    "satellites launched per month and year\n",
    "\n",
    "data from https://www.n2yo.com\n",
    "'''\n",
    "data,years = nsat().data,nsat().years\n",
    "year = np.arange(years[0],years[1],dtype=np.int)\n",
    "# sum the data over all months (axis 0)\n",
    "sum_per_year = data.sum(axis=0)\n",
    "\n",
    "print(f'data shape {data.shape}')\n",
    "\n",
    "# plot x as year\n",
    "# plot y as the number of satellites per year\n",
    "plt.plot(year,sum_per_year,label='launches per year')"
   ]
  },
  {
   "cell_type": "markdown",
   "metadata": {},
   "source": [
    "Whilst this plot is fine, there are a few simple things we could do improve it. \n",
    "\n",
    "We will go through some of the options below, but to get a taste of improved ploitting, lets use e.g.:\n",
    "\n",
    "* reset the image shape/size\n",
    "    * `plt.figure(figsize=(13,3))`\n",
    "* plot the mean value (as a red dashed line) for comparison\n",
    "    * `plt.plot([year[0],year[-1]],[mean,mean],'r--',label='mean')`\n",
    "* limit the dataset to range of variable `year`\n",
    "    * `plt.xlim(year[0],year[-1])`\n",
    "* put labels on the x and y axes\n",
    "    * `plt.xlabel('year')`\n",
    "    * `plt.ylabel('# satellite launches')`\n",
    "* set a title\n",
    "    * `plt.title('data from https://www.n2yo.com')`\n",
    "* use a legend (in conjunction with `label=` using `plot`)\n",
    "    * `plt.legend(loc='best')`\n",
    "* use a log scale in the y-axis\n",
    "    * `plt.semilogy()`\n",
    "    \n",
    "What you choose to do will depend on what you want to show on the graph, but the examples above are quite common."
   ]
  },
  {
   "cell_type": "code",
   "execution_count": 164,
   "metadata": {},
   "outputs": [
    {
     "data": {
      "text/plain": [
       "[]"
      ]
     },
     "execution_count": 164,
     "metadata": {},
     "output_type": "execute_result"
    },
    {
     "data": {
      "image/png": "[encoded data removed]",
      "text/plain": [
       "<Figure size 936x216 with 1 Axes>"
      ]
     },
     "metadata": {
      "needs_background": "light"
     },
     "output_type": "display_data"
    }
   ],
   "source": [
    "import matplotlib.pyplot as plt\n",
    "%matplotlib inline\n",
    "from nsat import nsat\n",
    "import numpy as np\n",
    "'''data as above'''\n",
    "data,years = nsat().data,nsat().years\n",
    "year = np.arange(years[0],years[1],dtype=np.int)\n",
    "sum_per_year = data.sum(axis=0)\n",
    "\n",
    "# calculate mean of sum_per_year\n",
    "mean = sum_per_year.mean()\n",
    "\n",
    "plt.figure(figsize=(13,3))\n",
    "plt.plot(year,sum_per_year,label='launches per year')\n",
    "plt.plot([year[0],year[-1]],[mean,mean],'r--',label='mean')\n",
    "plt.xlim(year[0],year[-1])\n",
    "plt.xlabel('year')\n",
    "plt.ylabel('# satellite launches')\n",
    "plt.title('data from https://www.n2yo.com')\n",
    "plt.legend(loc='best')\n",
    "plt.semilogy()"
   ]
  },
  {
   "cell_type": "markdown",
   "metadata": {},
   "source": [
    "**Exercise E2.3.1**\n",
    "\n",
    "* produce a plot showing launches per year as a function of year, showing data for all months individually.\n",
    "\n",
    "Hint: do a simple plot first, then add some improvements gradually. At present you might need to use a loop to go over each month."
   ]
  },
  {
   "cell_type": "code",
   "execution_count": 176,
   "metadata": {},
   "outputs": [],
   "source": [
    "# do exercise here"
   ]
  },
  {
   "cell_type": "markdown",
   "metadata": {},
   "source": [
    "Some of the last methods are particularly useful for multi-dimensional arrays. You could have an array an array that stores the values of a measured magnitude every hour for a whole year, which you would store in an e.g. `24 x 365` array. If you wanted to find out the mean hourly value over the year, you'd have to average the 365 data points per hour, or if the array is called `a`, you could do `a.mean(axis=1)`, which will return a 24 element 1D array with the average value over the year in each element."
   ]
  },
  {
   "cell_type": "code",
   "execution_count": null,
   "metadata": {},
   "outputs": [],
   "source": [
    "b = np.arange(12).reshape(3, 4)\n",
    "print(\"Original array:\")\n",
    "print(b)\n",
    "print(\"Sum of columns (1st dimension of the array):\")\n",
    "print(b.sum(axis=0))  # [12, 15, 18, 21]\n",
    "print(\"Minimum per row (2nd dimension of the array):\")\n",
    "print(b.min(axis=1))  # [0, 4, 8]"
   ]
  },
  {
   "cell_type": "markdown",
   "metadata": {},
   "source": [
    "### Indexing and \"slicing\" arrays\n",
    "\n",
    "Selecting different elements of the array to operate in them is a very common task. `numpy` has a very rich syntax for selecting different bits of the array.\n",
    "\n",
    "Similar to lists, you can refer to elements in the array by their position. You can also use the `:` symbol to specify a range (a **slice**) of positions `first_element:(last_element+1`. If you want to start counting from the end of the array, use negative numbers: `-1` refers to the last element of the array, `-2` the one before last and so on. In a slice, you can also specify a step as the third element in `first_element:(last_element+1:step`. If the step is negative you count from the back.\n",
    "\n",
    "All this proably appears mind bogging, but it's easier shown in practice. You'll get used to it quite quickly once you start using it"
   ]
  },
  {
   "cell_type": "code",
   "execution_count": null,
   "metadata": {},
   "outputs": [],
   "source": [
    "a = np.array([0, 1, 2, 3, 4, 5, 6, 7, 8, 9, 10])\n",
    "print(a[2])  # 2\n",
    "print(a[2:5])  # [2, 3, 4]\n",
    "print(a[-1])  # 10\n",
    "print(a[:8])  # [0, 1, 2, 3, 4, 5, 6, 7]\n",
    "print(a[2:])  # [1, 2, 3, 4, 5, 6, 7, 8, 9, 10]\n",
    "print(a[5:2:-1]) # [5, 4, 3]\n"
   ]
  },
  {
   "cell_type": "markdown",
   "metadata": {},
   "source": [
    "The concept extends cleanly to multidimensional arrays..."
   ]
  },
  {
   "cell_type": "code",
   "execution_count": null,
   "metadata": {},
   "outputs": [],
   "source": [
    "b = np.array([[0, 1, 2, 3], [10, 11, 12, 13], [20, 21, 22, 23], [30, 31, 32, 33],\n",
    "     [40, 41, 42, 43]])\n",
    "\n",
    "print(b[2, 3])  # 23\n",
    "print(b[0:5, 1])  # each row in the second column of b \n",
    "print(b[:, 1])  # same thing as above \n",
    "print(b[1:3, :])  # each column in the second and third row of b\n"
   ]
  },
  {
   "cell_type": "markdown",
   "metadata": {},
   "source": [
    "Another useful way to select elements is by using what's called a mask: an array of logical (boolean) elements that only selects the elements that are `True`:"
   ]
  },
  {
   "cell_type": "code",
   "execution_count": null,
   "metadata": {},
   "outputs": [],
   "source": [
    "a = np.arange(10)\n",
    "select_me = a >= 7\n",
    "print(a[select_me])"
   ]
  },
  {
   "cell_type": "markdown",
   "metadata": {},
   "source": [
    "The previous point also shows something interesting: you can apply comparisons element by element. So in the previous example, `select_me` is a 10 element array where all the elements of `a` that are equal or higher than 7 are set to True.\n",
    "\n",
    "If you want to build up element by element logical operations, it's best to use specialised functions like [`np.logical_and`](https://docs.scipy.org/doc/numpy/reference/generated/numpy.logical_and.html) and friends"
   ]
  },
  {
   "cell_type": "code",
   "execution_count": null,
   "metadata": {},
   "outputs": [],
   "source": [
    "a = np.arange(100)\n",
    "sel1 = a > 45\n",
    "sel2 = a < 73\n",
    "print(a[np.logical_and(sel1, sel2)])"
   ]
  },
  {
   "cell_type": "markdown",
   "metadata": {},
   "source": [
    "### Reading data\n",
    "\n",
    "It's a bit tedious just making up numbers to play with them, but it's easy to load up data from external files. The most common data interchange format is [CSV (comma-seperated values)](https://en.wikipedia.org/wiki/Comma-separated_values), a plain text format. Think of CSV as a plain text table. Each element in each row is separated by a comma (although other symbols, such as white space, semicolons `;`, tabs `\\t` or pipe `|` symbols are often found as delimiters). The first few lines might contain some metadata that describes the dataset, and the first line will also contain the names of the headers of the different columns.  Lines starting with `#` tend to be ignored. An example file might look like this\n",
    "```\n",
    "# Monthly transatlantic airtravel, in thousands of passengers, for 1958-1960. \n",
    "# There are 4 fields, \"Month\", \"1958\", \"1959\" and \"1960\" and 12 records, \"JAN\" through \"DEC\". \n",
    "# There is also an initial header line.\n",
    "# And some lines with comments starting with #\n",
    "# Data obtained from https://people.sc.fsu.edu/~jburkardt/data/csv/csv.html\n",
    "\"Month\", \"1958\", \"1959\", \"1960\"\n",
    "\"JAN\",  340,  360,  417\n",
    "\"FEB\",  318,  342,  391\n",
    "\"MAR\",  362,  406,  419\n",
    "\"APR\",  348,  396,  461\n",
    "\"MAY\",  363,  420,  472\n",
    "\"JUN\",  435,  472,  535\n",
    "\"JUL\",  491,  548,  622\n",
    "\"AUG\",  505,  559,  606\n",
    "\"SEP\",  404,  463,  508\n",
    "\"OCT\",  359,  407,  461\n",
    "\"NOV\",  310,  362,  390\n",
    "\"DEC\",  337,  405,  432\n",
    "```\n",
    "\n",
    "We can see the first few lines are comments or metadata, the first line without a `#` is the headers, and we note that text is entered between `\"`s. In this case, the delimiter is a comma. We can read the data as an array with [`np.loadtxt`](https://docs.scipy.org/doc/numpy/reference/generated/numpy.loadtxt.html), telling it...\n",
    "\n",
    "* to ignore lines starting by #\n",
    "* to ignore the first column as it's text\n",
    "* to note that the separator is a comma"
   ]
  },
  {
   "cell_type": "code",
   "execution_count": 166,
   "metadata": {},
   "outputs": [
    {
     "name": "stdout",
     "output_type": "stream",
     "text": [
      "[[340. 360. 417.]\n",
      " [318. 342. 391.]\n",
      " [362. 406. 419.]\n",
      " [348. 396. 461.]\n",
      " [363. 420. 472.]\n",
      " [435. 472. 535.]\n",
      " [491. 548. 622.]\n",
      " [505. 559. 606.]\n",
      " [404. 463. 508.]\n",
      " [359. 407. 461.]\n",
      " [310. 362. 390.]\n",
      " [337. 405. 432.]]\n",
      "(12, 3)\n"
     ]
    }
   ],
   "source": [
    "air_travel = np.loadtxt(\"airtravel.csv\", comments=\"#\", skiprows=6, \\\n",
    "                        usecols=[1,2,3], delimiter=\",\")\n",
    "print(air_travel)\n",
    "print(air_travel.shape)"
   ]
  },
  {
   "cell_type": "markdown",
   "metadata": {},
   "source": [
    "While `np.loadtxt` is quite flexible for dealing with text files, [`pandas`](https://pandas.pydata.org) absolutely shines at working with tabular data. You can find a [pandas quickstart tutorial here](https://pandas.pydata.org/pandas-docs/stable/10min.html) if you are curious about it!\n",
    "\n",
    "Before we go into plotting, we can do some fun calculations (yay!) using our airtravel data\n",
    "\n",
    "\n",
    "* Calculate the total number of passengers per year\n",
    "* Calculate the average number of passengers per month\n",
    "* Can you spot any trends in the data?\n",
    "\n",
    "*Hint* Remember the `.sum()`, `.mean()` methods for arrays? "
   ]
  },
  {
   "cell_type": "code",
   "execution_count": null,
   "metadata": {},
   "outputs": [],
   "source": [
    "# Space for your solution"
   ]
  },
  {
   "cell_type": "markdown",
   "metadata": {},
   "source": [
    "Let's plot our previous air travel dataset... We'll plot it as annual lines, so the x axis will be month number (running from 1 to 12) and the y axis will be 1000s of passengers. Different line colours will be used for every year. We'll also add x and y axes labels, as well as a legend:\n",
    "\n"
   ]
  },
  {
   "cell_type": "code",
   "execution_count": 167,
   "metadata": {},
   "outputs": [
    {
     "data": {
      "text/plain": [
       "<matplotlib.legend.Legend at 0x11f23de10>"
      ]
     },
     "execution_count": 167,
     "metadata": {},
     "output_type": "execute_result"
    },
    {
     "data": {
      "image/png": "[encoded data removed]",
      "text/plain": [
       "<Figure size 432x288 with 1 Axes>"
      ]
     },
     "metadata": {
      "needs_background": "light"
     },
     "output_type": "display_data"
    }
   ],
   "source": [
    "# You can probably just put this at the top of every notebook you write\n",
    "# Adding it here for completeness\n",
    "%matplotlib inline\n",
    "import numpy as np\n",
    "import matplotlib.pyplot as plt\n",
    "\n",
    "\n",
    "# Load airtravel data\n",
    "air_travel = np.loadtxt(\"airtravel.csv\", skiprows=6, usecols=[1,2,3], delimiter=\",\")\n",
    "\n",
    "mths = np.arange(1, 13)\n",
    "plt.plot(mths, air_travel[:, 0], '-', label=\"1958\")\n",
    "plt.plot(mths, air_travel[:, 1], '-', label=\"1959\")\n",
    "plt.plot(mths, air_travel[:, 2], '-', label=\"1960\")\n",
    "plt.xlabel(\"Month\")\n",
    "plt.ylabel(\"1000s of travellers per month\")\n",
    "plt.legend(loc=\"best\")"
   ]
  },
  {
   "cell_type": "markdown",
   "metadata": {},
   "source": [
    "You may not want to use lines to join the data points, but symbols like dots, crosses, etc. "
   ]
  },
  {
   "cell_type": "code",
   "execution_count": null,
   "metadata": {},
   "outputs": [],
   "source": [
    "plt.figure()\n",
    "plt.plot(mths, air_travel[:, 0], 'x', label=\"1958\")\n",
    "plt.plot(mths, air_travel[:, 1], '+', label=\"1959\")\n",
    "plt.plot(mths, air_travel[:, 2], 'o', label=\"1960\")\n",
    "plt.xlabel(\"Month\")\n",
    "plt.ylabel(\"1000s of travellers per moth\")\n",
    "plt.legend(loc=\"best\")"
   ]
  },
  {
   "cell_type": "markdown",
   "metadata": {},
   "source": [
    "We can also use dots **and** lines. Moreover, we can change the type of line: from full lines to dashed to dash-dot..."
   ]
  },
  {
   "cell_type": "code",
   "execution_count": null,
   "metadata": {},
   "outputs": [],
   "source": [
    "plt.figure()\n",
    "plt.plot(mths, air_travel[:, 0], 'x-', label=\"1958\")\n",
    "plt.plot(mths, air_travel[:, 1], '+--', label=\"1959\")\n",
    "plt.plot(mths, air_travel[:, 2], 'o-.', label=\"1960\")\n",
    "plt.xlabel(\"Month\")\n",
    "plt.ylabel(\"1000s of travellers per moth\")\n",
    "plt.legend(loc=\"best\")"
   ]
  },
  {
   "cell_type": "markdown",
   "metadata": {},
   "source": [
    "Let's plot now a function we have defined. Such a function could be a damped sinewave which is written as\n",
    "\n",
    "$$\n",
    "y(t) = A\\cdot \\exp(-\\lambda\\cdot t)\\cdot \\cos(\\omega\\cdot t + \\phi)\n",
    "$$\n",
    "\n",
    "where $A$ is the amplitude of the signal, $\\lambda$ is the decay rate, $\\omega=2\\pi/f$ is the angular frequency, and $\\phi$ is a phase angle. In numpy, the function could be written as\n",
    "```python\n",
    "def damped_sine(time, amp, decay, omega, phi):\n",
    "    \"\"\"Damped sine function.\n",
    "    Parameters\n",
    "    -----------\n",
    "    time: array\n",
    "        An array of time steps\n",
    "    amp: float\n",
    "        Amplitude of the signal\n",
    "    lambda: float\n",
    "        The decay rate\n",
    "    omega: float\n",
    "        The angular frequency\n",
    "    phi: float\n",
    "        The phase angle\n",
    "    \"\"\"\n",
    "    return amp*np.exp(-decay*t)*np.cos(omega*t + phi)\n",
    "```    \n",
    "\n"
   ]
  },
  {
   "cell_type": "code",
   "execution_count": null,
   "metadata": {},
   "outputs": [],
   "source": [
    "def damped_sine(time, amp, decay, omega, phi):\n",
    "    \"\"\"Damped sine function.\n",
    "    Parameters\n",
    "    -----------\n",
    "    time: array\n",
    "        An array of time steps\n",
    "    amp: float\n",
    "        Amplitude of the signal\n",
    "    lambda: float\n",
    "        The decay rate\n",
    "    omega: float\n",
    "        The angular frequency\n",
    "    phi: float\n",
    "        The phase angle\n",
    "    \"\"\"\n",
    "    return amp*np.exp(-decay*t)*np.cos(omega*t + phi)\n",
    "\n",
    "t = np.linspace(0, 10, 100)\n",
    "amp = 10.\n",
    "decay = .5\n",
    "omega = 2*np.pi*70\n",
    "phi = 0.\n",
    "plt.figure()\n",
    "plt.plot(t, damped_sine(t, amp, decay, omega, phi), '-', label=\"No delay\")\n",
    "plt.plot(t, damped_sine(t, amp, decay, omega, np.deg2rad(90.)), '-', label=\"90 degree delay\")\n",
    "plt.xlabel(\"Time [s]\")\n",
    "plt.ylabel(\"Amplitude [-]\")\n",
    "plt.title(\"Damped sinewave\")\n",
    "plt.legend(loc=\"best\")"
   ]
  },
  {
   "cell_type": "markdown",
   "metadata": {},
   "source": [
    "### Useful matpltolib 2D plot commands\n",
    "\n",
    "The commands used previously have stacks of options and documentation. Check it out here:\n",
    "\n",
    "* [`plt.plot`](https://matplotlib.org/api/_as_gen/matplotlib.pyplot.plot.html#matplotlib.pyplot.plot)\n",
    "* [`plt.xlabel`](https://matplotlib.org/api/_as_gen/matplotlib.pyplot.plot.html#matplotlib.pyplot.xlabel)\n",
    "* [`plt.ylabel`](https://matplotlib.org/api/_as_gen/matplotlib.pyplot.plot.html#matplotlib.pyplot.ylabel)\n",
    "* [`plt.title`](https://matplotlib.org/api/_as_gen/matplotlib.pyplot.plot.html#matplotlib.title.plot)\n",
    "* [`plt.legend`](https://matplotlib.org/api/_as_gen/matplotlib.pyplot.plot.html#matplotlib.pyplot.legend)\n",
    "\n",
    "\n"
   ]
  },
  {
   "cell_type": "markdown",
   "metadata": {},
   "source": [
    "## Looking at some actual data\n",
    "\n",
    "The [Daymet service](https://daymet.ornl.gov/) provides a number of daily interpolated weather data over North America. We can order some data using an API, and get a CSV file to download. The API takes 5 pieces of information:\n",
    "\n",
    "* The Latitude in decimal degrees (e.g. 45.4)\n",
    "* The Longitude in decimal degrees (e.g. -115.0534)\n",
    "* The variable(s) of interest\n",
    "* The starting date in year-month-day format\n",
    "* The end date in year-month-day format\n",
    "\n",
    "The variables of interest are\n",
    "\n",
    "* `dayl`: Daylight duration in seconds\n",
    "* `prcp`: Precipitation in $mm\\dot d^{-1}$\n",
    "* `srad`: Daily average incident shortwave radiation ($W\\dot m^{-2}$)\n",
    "* `swe`: Snow water equivalent $kg\\cdot  m^{-2}$\n",
    "* `tmax`: Maximum daily temperature in $^{\\circ}$ centigrade\n",
    "* `tmin`: Minimum daily temperature in $^{\\circ}$ centigrade\n",
    "* `vp`: : Water vapour pressure in $Pa$\n",
    "\n",
    "The URL is built up from you selection as follows (the backlash symbol `\\` is used to split the line, there are no spaces):\n",
    "\n",
    "    https://daymet.ornl.gov/single-pixel/api/data?\\\n",
    "    lat=45.4&lon=-115.0534&vars=tmax&start=2000-01-01&end=2010-01-01\n",
    "    \n",
    "Hopefully, you can see the pattern: different options are given after the `=` signs, so if you want another location, all you have to do is to change the values there and make the query. An example is given below."
   ]
  },
  {
   "cell_type": "code",
   "execution_count": null,
   "metadata": {},
   "outputs": [],
   "source": [
    "import requests\n",
    "\n",
    "# We open the output file, `daymet.csv`\n",
    "with open(\"daymet_tmax.csv\", 'w') as fp:\n",
    "    # Define the URL with the parameters of interest\n",
    "    url = \"https://daymet.ornl.gov/single-pixel/api/\" + \\\n",
    "        \"data?lat=45.4&lon=-115.0534&vars=tmax&start=2000-01-01&end=2010-01-01\"\n",
    "    # make the HTTPS connection\n",
    "    r = requests.get(url)\n",
    "    # Read the data, convert it to UTF-8 and write it to file\n",
    "    fp.write(r.content.decode(\"utf-8\"))\n",
    "\n",
    "# You can check the text file to see its contents, but we now\n",
    "# (i) it's separated by commas\n",
    "# (ii) the first 9 lines are metadata that we're not interested in.\n",
    "temperature = np.loadtxt(\"daymet_tmax.csv\", skiprows=9, delimiter=\",\")\n",
    "\n",
    "# We expect to get ~10 years of data here, so 3650 daily records\n",
    "print(temperature.shape)"
   ]
  },
  {
   "cell_type": "markdown",
   "metadata": {},
   "source": [
    "#### Exercise\n",
    "\n",
    "Select 4 locations in different regions of North America (e.g. Anchorage, Albuquerque, Seattle, Chicago). Request data on maximum temperature, precipitation and incident solar radiation for the years between 1981 to 2010, and plot in 3 different figures:\n",
    "\n",
    "* Figure 1: The *mean daily temperature* and the variation (a shaded area around the mean going from mean value **minus** 1.96 times the standard deviation to mean value **plus** 1.96 times the standard deviation). Use a subplot or panel for each site\n",
    "* Figure 2: The *mean daily precipitation* and the variation (a shaded area around the mean going from mean value **minus** 1.96 times the standard deviation to mean value **plus** 1.96 times the standard deviation). Use a subplot or panel for each site\n",
    "* Figure 3: The *mean daily incident solar radiation* and the variation (a shaded area around the mean going from mean value **minus** 1.96 times the standard deviation to mean value **plus** 1.96 times the standard deviation). Use a subplot or panel for each site\n",
    "\n",
    "In each plot, the mean value should be a full line, and the variation should be an envelope, visually similar to the plot shown below (clearly not identical!!!!)\n",
    "\n",
    "![la niña plot](https://www.metoffice.gov.uk/binaries/content/gallery/mohippo/images/news/charts-and-images/compare_datasets_new_logo_1850-1900-20122017a-630.jpg)\n",
    "\n",
    "\n",
    "Label each plot with a title, units and so on. Some useful functions to consider\n",
    "\n",
    "* [`plt.subplots`](https://matplotlib.org/api/_as_gen/matplotlib.pyplot.subplots.html) Allows you to split a figure into several panels or subplots. In particular, pay attention to the `sharex` and `sharey` options that allow you to have the same scales for all plots so they can be directly compared.\n",
    "* [`plt.fill_between`](https://matplotlib.org/api/_as_gen/matplotlib.pyplot.fill_between.html) Allows you to fill the space between two curves. You may want to give the option `color=0.8` for a nice grey effect.\n",
    "\n",
    "In order to calculate the statistics, note that you can reorder the data from the CSV provided by the server into a long array that can then be reshaped as $365\\times\\textsf{number of years}$ and then use the `.mean()` and `.std()` array methods."
   ]
  },
  {
   "cell_type": "code",
   "execution_count": null,
   "metadata": {},
   "outputs": [],
   "source": []
  },
  {
   "cell_type": "code",
   "execution_count": 90,
   "metadata": {},
   "outputs": [
    {
     "data": {
      "text/plain": [
       "[<matplotlib.lines.Line2D at 0x11d325b00>]"
      ]
     },
     "execution_count": 90,
     "metadata": {},
     "output_type": "execute_result"
    },
    {
     "data": {
      "image/png": "[encoded data removed]",
      "text/plain": [
       "<Figure size 432x288 with 1 Axes>"
      ]
     },
     "metadata": {
      "needs_background": "light"
     },
     "output_type": "display_data"
    }
   ],
   "source": [
    "# sort example\n",
    "\n",
    "import numpy as np\n",
    "import matplotlib.pyplot as plt\n",
    "%matplotlib inline\n",
    "\n",
    "nsamp = 10\n",
    "mean, sd = 10.0, 2.0\n",
    "\n",
    "x = np.random.normal(10,2,nsamp)\n",
    "plt.plot(x)"
   ]
  }
 ],
 "metadata": {
  "kernelspec": {
   "display_name": "Python 3",
   "language": "python",
   "name": "python3"
  },
  "language_info": {
   "codemirror_mode": {
    "name": "ipython",
    "version": 3
   },
   "file_extension": ".py",
   "mimetype": "text/x-python",
   "name": "python",
   "nbconvert_exporter": "python",
   "pygments_lexer": "ipython3",
   "version": "3.6.6"
  },
  "latex_envs": {
   "LaTeX_envs_menu_present": true,
   "autoclose": false,
   "autocomplete": true,
   "bibliofile": "biblio.bib",
   "cite_by": "apalike",
   "current_citInitial": 1,
   "eqLabelWithNumbers": true,
   "eqNumInitial": 1,
   "hotkeys": {
    "equation": "Ctrl-E",
    "itemize": "Ctrl-I"
   },
   "labels_anchors": false,
   "latex_user_defs": false,
   "report_style_numbering": false,
   "user_envs_cfg": false
  },
  "toc": {
   "base_numbering": 1,
   "nav_menu": {},
   "number_sections": false,
   "sideBar": false,
   "skip_h1_title": false,
   "title_cell": "Table of Contents",
   "title_sidebar": "Contents",
   "toc_cell": false,
   "toc_position": {},
   "toc_section_display": false,
   "toc_window_display": false
  },
  "varInspector": {
   "cols": {
    "lenName": 16,
    "lenType": 16,
    "lenVar": 40
   },
   "kernels_config": {
    "python": {
     "delete_cmd_postfix": "",
     "delete_cmd_prefix": "del ",
     "library": "var_list.py",
     "varRefreshCmd": "print(var_dic_list())"
    },
    "r": {
     "delete_cmd_postfix": ") ",
     "delete_cmd_prefix": "rm(",
     "library": "var_list.r",
     "varRefreshCmd": "cat(var_dic_list()) "
    }
   },
   "types_to_exclude": [
    "module",
    "function",
    "builtin_function_or_method",
    "instance",
    "_Feature"
   ],
   "window_display": false
  }
 },
 "nbformat": 4,
 "nbformat_minor": 2
}
