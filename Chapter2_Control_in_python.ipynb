{
 "cells": [
  {
   "cell_type": "markdown",
   "metadata": {},
   "source": [
    "# 2. Control in Python"
   ]
  },
  {
   "cell_type": "markdown",
   "metadata": {},
   "source": [
    "We then learn about how to loop over groups of things, which gives us control to iterate some process.\n",
    "\n",
    "We need to spend a little time on strings, as you will likely to quite a bit of string processing in Scientific Computing (e.g. reading/writing data to/from ASCII text files). \n",
    "\n"
   ]
  },
  {
   "cell_type": "markdown",
   "metadata": {},
   "source": [
    "## 2.1 Loops and Conditional Statements: if, for, while"
   ]
  },
  {
   "cell_type": "markdown",
   "metadata": {},
   "source": [
    "### 2.1.1 If\n",
    "\n",
    "So far, we have come across the ideas of variables, data types, and two ways of grouping objects together (tuples and lists).\n",
    "\n",
    "Another fundamental aspect of any programming language is conditional statements. The simplest form of this is an `if ... else ...` statement:"
   ]
  },
  {
   "cell_type": "code",
   "execution_count": 3,
   "metadata": {},
   "outputs": [
    {
     "name": "stdout",
     "output_type": "stream",
     "text": [
      "You don't have nothing in your pocket\n"
     ]
    }
   ],
   "source": [
    "pockets = ['phone','keys','wallet','frog'] \n",
    "\n",
    "this_item = 'nothing'\n",
    "\n",
    "# test if something is in the list \n",
    "if this_item in pockets:\n",
    "    print (\"You do have\",this_item,'in your pocket')\n",
    "else:\n",
    "    print (\"You don't have\",this_item,'in your pocket')"
   ]
  },
  {
   "cell_type": "markdown",
   "metadata": {},
   "source": [
    "Here, \n",
    "\n",
    "    this_item in pockets\n",
    "\n",
    "is a membership test as we have seen above (it returns `True` or `False`).\n",
    "\n",
    "If it's `True`, the code block\n",
    "\n",
    "    print \"You do have\",this_item,'in your pocket'\n",
    "\n",
    "is executed. If `False`, then the next condition is checked. \n",
    "\n",
    "\n",
    "Note the use of indentation here (using `tab` or spaces) to represent the structure of the conditional statements.  \n",
    "\n",
    "Note also the use of a colon (`:`) to mark the end of the conditional test."
   ]
  },
  {
   "cell_type": "code",
   "execution_count": 5,
   "metadata": {},
   "outputs": [
    {
     "name": "stdout",
     "output_type": "stream",
     "text": [
      "x is more than zero\n",
      "thresholded x =  3\n"
     ]
    }
   ],
   "source": [
    "'''An if example\n",
    "\n",
    "   Threshold the value of x at zero\n",
    "'''\n",
    "\n",
    "x = 3\n",
    "\n",
    "# threshold at zero\n",
    "# and print some information about what we did\n",
    "\n",
    "if x < 0:\n",
    "    print ('x less than 0')\n",
    "    x = 0\n",
    "elif x == 0:\n",
    "    print ('x is zero')\n",
    "else:\n",
    "    print ( 'x is more than zero')\n",
    "    \n",
    "print ('thresholded x = ',x)"
   ]
  },
  {
   "cell_type": "markdown",
   "metadata": {},
   "source": [
    "The syntax of this is:\n",
    "\n",
    "```python\n",
    "    if condition1 is True:\n",
    "        ...\n",
    "    elif condition2 is True:\n",
    "        ...\n",
    "    else:\n",
    "        ...\n",
    "```\n",
    "where `condition1` and `condition2` are logical tests (e.g. `this_item in pockets`, `today == \"Wednesday\"`, `x > 10` etc.) and the `is True` part of the syntax is implicit (i.e. you don't need to type `is True`).\n",
    "\n",
    "The word `elif` means `else if`. The tests are considered in the order they are givem so that if `condition1` is `not True`, we examine `condition2`. If that is `not True`, we fall through to the final `else` block.\n"
   ]
  },
  {
   "cell_type": "code",
   "execution_count": 6,
   "metadata": {},
   "outputs": [
    {
     "name": "stdout",
     "output_type": "stream",
     "text": [
      "Yours is the Earth and everything that’s in it ...\n"
     ]
    }
   ],
   "source": [
    "# nested conditional statements: If\n",
    "\n",
    "what_you_keep = 'your head'\n",
    "when_you_do_it = 'all about you are losing theirs'\n",
    "whom_you_trust_when_all_men_doubt_you = 'yourself'\n",
    "\n",
    "# first tests\n",
    "if ( what_you_keep == 'your head' ) and \\\n",
    "    (when_you_do_it == 'all about you are losing theirs'):\n",
    "\n",
    "    # second level tests\n",
    "    if whom_you_trust_when_all_men_doubt_you == 'yourself':\n",
    "        print (\"Yours is the Earth and everything that’s in it ...\")\n",
    "    else:\n",
    "        print (\"Nearly there ...\")\n",
    "\n",
    "else:\n",
    "    print (\"Have a look at http://www.poetryfoundation.org/poem/175772\")"
   ]
  },
  {
   "cell_type": "markdown",
   "metadata": {},
   "source": [
    "### 2.1.2 for\n",
    "\n",
    "Very commonly, we need to iterate or 'loop' over some set of items.\n",
    "\n",
    "The basic stucture for doing this (in Python, and many other languages) is `for ... in ...`:"
   ]
  },
  {
   "cell_type": "code",
   "execution_count": 7,
   "metadata": {},
   "outputs": [
    {
     "name": "stdout",
     "output_type": "stream",
     "text": [
      "1\n",
      "2\n",
      "3\n",
      "blast off\n"
     ]
    }
   ],
   "source": [
    "count_list = range(1,4)\n",
    "\n",
    "# for loop\n",
    "for count in count_list:\n",
    "    '''print counter in loop'''\n",
    "    print (count)\n",
    "    \n",
    "print ('blast off')"
   ]
  },
  {
   "cell_type": "markdown",
   "metadata": {},
   "source": [
    "which has the syntax:\n",
    "\n",
    "    for var in list:\n",
    "        ...\n",
    "\n",
    "\n",
    "where the variable `var` is set to each of the items in `list`, in the order in which they appear in `list`."
   ]
  },
  {
   "cell_type": "markdown",
   "metadata": {},
   "source": [
    "\n",
    "2.1.3 enumerate\n",
    "\n",
    "Commonly, when iterating over a set of items, we also need access to a counter, telling us which item in the list we are currently on.\n",
    "\n",
    "This is done using the function [`enumerate()`](http://docs.python.org/2/library/functions.html#enumerate). This returns the `tuple` `(count,item)` where `count` is the index of `item` in `list`."
   ]
  },
  {
   "cell_type": "code",
   "execution_count": 11,
   "metadata": {},
   "outputs": [
    {
     "name": "stdout",
     "output_type": "stream",
     "text": [
      "The 0 th word is Call\n",
      "The 1 th word is me\n",
      "The 2 th word is Ishmael\n"
     ]
    }
   ],
   "source": [
    "word_list = ['Call', 'me', 'Ishmael']\n",
    "\n",
    "for i,w in enumerate(word_list):\n",
    "    print ('The',i,'th','word is',w)"
   ]
  },
  {
   "cell_type": "markdown",
   "metadata": {},
   "source": [
    "Here the syntax:\n",
    "\n",
    "    for count,var in enumerate(list):\n",
    "        ..."
   ]
  },
  {
   "cell_type": "code",
   "execution_count": null,
   "metadata": {},
   "outputs": [],
   "source": []
  }
 ],
 "metadata": {
  "kernelspec": {
   "display_name": "Python 3",
   "language": "python",
   "name": "python3"
  },
  "language_info": {
   "codemirror_mode": {
    "name": "ipython",
    "version": 3
   },
   "file_extension": ".py",
   "mimetype": "text/x-python",
   "name": "python",
   "nbconvert_exporter": "python",
   "pygments_lexer": "ipython3",
   "version": "3.6.6"
  },
  "toc": {
   "base_numbering": 1,
   "nav_menu": {},
   "number_sections": false,
   "sideBar": false,
   "skip_h1_title": false,
   "title_cell": "Table of Contents",
   "title_sidebar": "Contents",
   "toc_cell": false,
   "toc_position": {},
   "toc_section_display": false,
   "toc_window_display": false
  }
 },
 "nbformat": 4,
 "nbformat_minor": 2
}
