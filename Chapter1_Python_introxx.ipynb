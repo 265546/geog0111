{
 "cells": [
  {
   "cell_type": "markdown",
   "metadata": {
    "toc": true
   },
   "source": [
    "<h1>Table of Contents<span class=\"tocSkip\"></span></h1>\n",
    "<div class=\"toc\"><ul class=\"toc-item\"><li><span><a href=\"#1.-Introduction-to-Python\" data-toc-modified-id=\"1.-Introduction-to-Python-1\">1. Introduction to Python</a></span><ul class=\"toc-item\"><li><span><a href=\"#1.1-Getting-Started\" data-toc-modified-id=\"1.1-Getting-Started-1.1\">1.1 Getting Started</a></span><ul class=\"toc-item\"><li><span><a href=\"#1.1.1-Comments-and-print-function\" data-toc-modified-id=\"1.1.1-Comments-and-print-function-1.1.1\">1.1.1 Comments and print function</a></span></li><li><span><a href=\"#1.1.2-Variables,-Values-and-Data-types\" data-toc-modified-id=\"1.1.2-Variables,-Values-and-Data-types-1.1.2\">1.1.2 Variables, Values and Data types</a></span></li><li><span><a href=\"#1.1.3-Arithmetic\" data-toc-modified-id=\"1.1.3-Arithmetic-1.1.3\">1.1.3 Arithmetic</a></span></li><li><span><a href=\"#1.1.4-Assignment-Operators\" data-toc-modified-id=\"1.1.4-Assignment-Operators-1.1.4\">1.1.4 Assignment Operators</a></span></li><li><span><a href=\"#1.1.5-Logical-Operators\" data-toc-modified-id=\"1.1.5-Logical-Operators-1.1.5\">1.1.5 Logical Operators</a></span></li><li><span><a href=\"#1.1.6-Comparison-Operators-and-if\" data-toc-modified-id=\"1.1.6-Comparison-Operators-and-if-1.1.6\">1.1.6 Comparison Operators and <code>if</code></a></span></li><li><span><a href=\"#1.1.7-Summary\" data-toc-modified-id=\"1.1.7-Summary-1.1.7\">1.1.7 Summary</a></span></li></ul></li><li><span><a href=\"#1.2--Text-and-looping\" data-toc-modified-id=\"1.2--Text-and-looping-1.2\">1.2  Text and looping</a></span><ul class=\"toc-item\"><li><span><a href=\"#1.2.1--len\" data-toc-modified-id=\"1.2.1--len-1.2.1\">1.2.1  <code>len</code></a></span></li><li><span><a href=\"#1.2.2-for-...-in-...-and-enumerate\" data-toc-modified-id=\"1.2.2-for-...-in-...-and-enumerate-1.2.2\">1.2.2 <code>for ... in ...</code> and <code>enumerate</code></a></span></li><li><span><a href=\"#1.2.3-slice\" data-toc-modified-id=\"1.2.3-slice-1.2.3\">1.2.3 <code>slice</code></a></span></li><li><span><a href=\"#1.2.4-replace\" data-toc-modified-id=\"1.2.4-replace-1.2.4\">1.2.4 <code>replace</code></a></span></li><li><span><a href=\"#1.2.5-find\" data-toc-modified-id=\"1.2.5-find-1.2.5\">1.2.5 <code>find</code></a></span></li><li><span><a href=\"#1.2.5-split-and-splitlines\" data-toc-modified-id=\"1.2.5-split-and-splitlines-1.2.6\">1.2.5 <code>split</code> and <code>splitlines</code></a></span></li><li><span><a href=\"#1.2.6-Summary\" data-toc-modified-id=\"1.2.6-Summary-1.2.7\">1.2.6 Summary</a></span></li></ul></li><li><span><a href=\"#1.3.-Groups-of-things\" data-toc-modified-id=\"1.3.-Groups-of-things-1.3\">1.3. Groups of things</a></span><ul class=\"toc-item\"><li><span><a href=\"#1.3.1-tuple\" data-toc-modified-id=\"1.3.1-tuple-1.3.1\">1.3.1 <code>tuple</code></a></span></li><li><span><a href=\"#1.3.2--list\" data-toc-modified-id=\"1.3.2--list-1.3.2\">1.3.2  <code>list</code></a></span></li><li><span><a href=\"#1.2.3-help\" data-toc-modified-id=\"1.2.3-help-1.3.3\">1.2.3 <code>help</code></a></span></li><li><span><a href=\"#1.3.3-Arrays:-np.array\" data-toc-modified-id=\"1.3.3-Arrays:-np.array-1.3.4\">1.3.3 Arrays: <code>np.array</code></a></span></li></ul></li></ul></li></ul></div>"
   ]
  },
  {
   "cell_type": "markdown",
   "metadata": {},
   "source": [
    "\n",
    "# 1. Introduction to Python\n",
    "\n",
    "\n",
    "Python is a popular general purpose, free language. As opposed to other systems that are focused towards a particular task (e.g. R for statistics), Python has a strong following on the web, on systems operations and in data analysis. For scientific computing, a large number of useful add-ons (\"libraries\") are available to help you analyse and process data. This is an invaluable resource.\n",
    "\n",
    "In addition to being free, Python is also very portable, and easy to pick up. \n",
    "\n",
    "\n",
    "The aim of this Chapter is to introduce you to some of the fundamental concepts in Python. Mainly, this is based around fundamental data types in Python (`int`, `float`, `str`, `bool` etc.) and ways to group them (`tuple`, `list`, array, string and `dict`).\n",
    "\n",
    "Although some of the examples we use are very simple to explain a concept, the more developed ones should be directly applicable to the sort of programming you are likely to need to do.\n",
    "\n",
    "Further, a more advanced section of the chapter is available, that goes into some more detail and complkications. This too has a set of exercises with worked examples.\n"
   ]
  },
  {
   "cell_type": "markdown",
   "metadata": {},
   "source": [
    "In this session, you will be introduced to some of the basic concepts in Python.\n",
    "\n",
    "**The session should last 4 hours (one week).**"
   ]
  },
  {
   "cell_type": "markdown",
   "metadata": {},
   "source": [
    "## 1.1 Getting Started"
   ]
  },
  {
   "cell_type": "markdown",
   "metadata": {},
   "source": [
    "### 1.1.1 Comments and print function\n",
    "\n",
    "Comments are statements ignored by the language interpreter.\n",
    "\n",
    "Any text after a # in a *code block* is a comment.\n",
    "\n",
    "You can 'run' the code in a code block using the 'run' widget (above) or hitting the keys ('typing') <shift> and <return> at the same time. \n",
    "   \n",
    "**E1.1.1 Exercise**\n",
    "\n",
    "* Try running the code block below\n",
    "* Explain what happened ('what the computer did')"
   ]
  },
  {
   "cell_type": "code",
   "execution_count": 55,
   "metadata": {},
   "outputs": [],
   "source": [
    "# Hello world"
   ]
  },
  {
   "cell_type": "markdown",
   "metadata": {},
   "source": [
    "You can also use text blocks (contained in quotes) to contain comments, but note that if it is the last statement in the code, the text block may be printed out to the terminal. "
   ]
  },
  {
   "cell_type": "code",
   "execution_count": 56,
   "metadata": {},
   "outputs": [
    {
     "data": {
      "text/plain": [
       "'\\nHello \\nworld\\nis printed\\n'"
      ]
     },
     "execution_count": 56,
     "metadata": {},
     "output_type": "execute_result"
    }
   ],
   "source": [
    "# single line text\n",
    "'hello world is not printed'\n",
    "\n",
    "# multi-line text\n",
    "'''\n",
    "Hello \n",
    "world\n",
    "is printed\n",
    "'''"
   ]
  },
  {
   "cell_type": "markdown",
   "metadata": {},
   "source": [
    " \n",
    "**E1.1.2 Exercise**\n",
    " \n",
    "* Copy the text from above in the window below\n",
    "\n",
    "* Then put a new text block at the end and note down what happens\n",
    "        \n",
    "* What does the `\\n` mean/do?\n"
   ]
  },
  {
   "cell_type": "code",
   "execution_count": 57,
   "metadata": {},
   "outputs": [],
   "source": [
    "# do the exercise here"
   ]
  },
  {
   "cell_type": "markdown",
   "metadata": {},
   "source": [
    "\n",
    "\n",
    "To print some statement (by default, to the screen you are using), use the `print` method:"
   ]
  },
  {
   "cell_type": "code",
   "execution_count": 58,
   "metadata": {},
   "outputs": [
    {
     "name": "stdout",
     "output_type": "stream",
     "text": [
      "hello world\n"
     ]
    }
   ],
   "source": [
    "print('hello world')"
   ]
  },
  {
   "cell_type": "code",
   "execution_count": 59,
   "metadata": {},
   "outputs": [
    {
     "name": "stdout",
     "output_type": "stream",
     "text": [
      "hello world\n"
     ]
    }
   ],
   "source": [
    "print('hello','world')"
   ]
  },
  {
   "cell_type": "markdown",
   "metadata": {},
   "source": [
    "In Python 3.X, `print` is a function with the *argument(s)* (here, the string you want printed) enclosed in the function's (round) brackets.\n",
    "\n",
    "\n",
    "**E1.1.3 Exercise**\n",
    "\n",
    "* Copy the print statement from above code block.\n",
    "\n",
    "* Change the words in the quotes and print them out.\n",
    "\n",
    "* Add some comments to the code block explaining what you have done and seen.\n"
   ]
  },
  {
   "cell_type": "code",
   "execution_count": 60,
   "metadata": {},
   "outputs": [],
   "source": [
    "# do the exercise here"
   ]
  },
  {
   "cell_type": "markdown",
   "metadata": {},
   "source": [
    "### 1.1.2 Variables, Values and Data types"
   ]
  },
  {
   "cell_type": "markdown",
   "metadata": {},
   "source": [
    "The idea of **variables** is fundamental to any programming. You can think of this as the *name* of *something*, so it is a way of allowing us to refer to some object in the language.\n",
    "\n",
    "What the variable *is* set to is called its **value**.\n",
    "\n",
    "So let's start with a variable we will call (*declare to be*) `x`.\n",
    "\n",
    "We will give a *value* of the string `'one'` to this variable:"
   ]
  },
  {
   "cell_type": "code",
   "execution_count": 61,
   "metadata": {},
   "outputs": [
    {
     "name": "stdout",
     "output_type": "stream",
     "text": [
      "one\n"
     ]
    }
   ],
   "source": [
    "x = 'one'\n",
    "\n",
    "print(x)"
   ]
  },
  {
   "cell_type": "markdown",
   "metadata": {},
   "source": [
    "**E1.1.4 Exercise**\n",
    "\n",
    "* set the a variable called x to some different string (e.g. 'hello world')\n",
    "    \n",
    "* print the value of the variable `x`\n",
    "    \n",
    "* Try this again, putting some 'newlines' (`\\n`) in the string"
   ]
  },
  {
   "cell_type": "code",
   "execution_count": 62,
   "metadata": {},
   "outputs": [],
   "source": [
    "# do the exercise here"
   ]
  },
  {
   "cell_type": "code",
   "execution_count": 63,
   "metadata": {},
   "outputs": [
    {
     "name": "stdout",
     "output_type": "stream",
     "text": [
      "1 is type <class 'int'>\n"
     ]
    }
   ],
   "source": [
    "# Now we set x to the value 1\n",
    "\n",
    "x = 1\n",
    "\n",
    "print(x,'is type',type(x))"
   ]
  },
  {
   "cell_type": "markdown",
   "metadata": {},
   "source": [
    "In a computing language, the *sort of thing* the variable can be set to is called its **data type**. \n",
    "\n",
    "In python, we can access this with the method `type()` as in the example above.\n",
    "\n",
    "In the example above, the datatype is an **integer** number (e.g. `1, 2, 3, 4`).\n",
    "\n",
    "In 'natural language', we might read the example above as 'x is one'.\n",
    "\n",
    "\n",
    "**E1.1.5 Exercise**\n",
    "\n",
    "* set the a variable called `x` to the integer `5`\n",
    "    \n",
    "* print the value and type of the variable `x`\n",
    "    \n",
    "* change the data type used for `x` to something else (e.g. a string)"
   ]
  },
  {
   "cell_type": "code",
   "execution_count": 64,
   "metadata": {},
   "outputs": [],
   "source": [
    "# do the exercise here"
   ]
  },
  {
   "cell_type": "markdown",
   "metadata": {},
   "source": [
    "\n",
    "Setting `x = 1` is different to:"
   ]
  },
  {
   "cell_type": "code",
   "execution_count": 65,
   "metadata": {},
   "outputs": [],
   "source": [
    "x = 'one'"
   ]
  },
  {
   "cell_type": "markdown",
   "metadata": {},
   "source": [
    "because here we have set value of the variable `x` to a **string** (i.e. some text).\n",
    "\n",
    "A string is enclosed in quotes, e.g. `\"one\"` or `'one'`, or even `\"'one'\"` or `'\"one\"'`.\n",
    "\n"
   ]
  },
  {
   "cell_type": "code",
   "execution_count": 66,
   "metadata": {},
   "outputs": [
    {
     "name": "stdout",
     "output_type": "stream",
     "text": [
      "one\n",
      "one\n",
      "'one'\n",
      "\"one\"\n"
     ]
    }
   ],
   "source": [
    "print (\"one\")\n",
    "print ('one')\n",
    "print (\"'one'\")\n",
    "print ('\"one\"')"
   ]
  },
  {
   "cell_type": "markdown",
   "metadata": {},
   "source": [
    "**E1.1.6 Exercise**\n",
    "\n",
    "* create a variable `name` containing your name, as a string.\n",
    "        \n",
    "* using this variable and the print function, print out a statement such as `my name is Fred` (if your name were `Fred`)\n",
    "        "
   ]
  },
  {
   "cell_type": "code",
   "execution_count": 67,
   "metadata": {},
   "outputs": [],
   "source": [
    "# do the exercise here"
   ]
  },
  {
   "cell_type": "markdown",
   "metadata": {},
   "source": [
    "Setting `x = 1` or `x = 'one'` is different to:"
   ]
  },
  {
   "cell_type": "code",
   "execution_count": 68,
   "metadata": {},
   "outputs": [],
   "source": [
    "x = 1.0"
   ]
  },
  {
   "cell_type": "markdown",
   "metadata": {},
   "source": [
    "because here we have set value of the variable `x` to a **floating point** number (these are treated and stored differently to integers in computing).\n",
    "\n",
    "This in turn is different to:"
   ]
  },
  {
   "cell_type": "code",
   "execution_count": 69,
   "metadata": {},
   "outputs": [],
   "source": [
    "x = True"
   ]
  },
  {
   "cell_type": "markdown",
   "metadata": {},
   "source": [
    "where `True` is a **logical** or **boolean** datatype (something is `True` or `False`).\n",
    "\n"
   ]
  },
  {
   "cell_type": "markdown",
   "metadata": {},
   "source": [
    "**E1.1.7 Exercise**\n",
    "\n",
    "* in the code block below, create a variable called `my_var` and set it to some value (your choice of value, but be clear about the data type you intend)\n",
    "           \n",
    "* print the value of the variable to the screen, along with the data type."
   ]
  },
  {
   "cell_type": "code",
   "execution_count": 70,
   "metadata": {},
   "outputs": [],
   "source": [
    "# do the exercise here"
   ]
  },
  {
   "cell_type": "markdown",
   "metadata": {},
   "source": [
    "We have so far seen four datatypes:\n",
    "\n",
    "- integer (`int`): 32 bits long on most machines\n",
    "- (double-precision) floating point (`float`): (64 bits long)\n",
    "- Boolean (`bool`)\n",
    "- string (`str`)\n",
    "\n",
    "but we will come across more (and even create our own!) as we go through the course.\n",
    "\n",
    "In each of these cases above, we have used the variable `x` to contain these different data types.\n",
    "\n",
    "As we saw above, if you want to know what the data type of a variable is, you can use the method `type()`"
   ]
  },
  {
   "cell_type": "code",
   "execution_count": 71,
   "metadata": {},
   "outputs": [
    {
     "name": "stdout",
     "output_type": "stream",
     "text": [
      "<class 'int'>\n",
      "<class 'float'>\n",
      "<class 'str'>\n",
      "<class 'bool'>\n"
     ]
    }
   ],
   "source": [
    "print (type(1));\n",
    "print (type(1.0));\n",
    "print (type('one'));\n",
    "print (type(True));"
   ]
  },
  {
   "cell_type": "markdown",
   "metadata": {},
   "source": [
    "You can explicitly convert between data types, e.g.:"
   ]
  },
  {
   "cell_type": "code",
   "execution_count": 72,
   "metadata": {},
   "outputs": [
    {
     "name": "stdout",
     "output_type": "stream",
     "text": [
      "int(1.1) =  1\n",
      "float(1) =  1.0\n",
      "str(1) =  1\n",
      "bool(1) =  True\n"
     ]
    }
   ],
   "source": [
    "print ('int(1.1) = ',int(1.1))\n",
    "print ('float(1) = ',float(1))\n",
    "print ('str(1) = ',str(1))\n",
    "print ('bool(1) = ',bool(1))"
   ]
  },
  {
   "cell_type": "markdown",
   "metadata": {},
   "source": [
    "but only when it makes sense:"
   ]
  },
  {
   "cell_type": "code",
   "execution_count": 73,
   "metadata": {},
   "outputs": [
    {
     "name": "stdout",
     "output_type": "stream",
     "text": [
      "converting the string '1' to an integer makes sense: 1\n"
     ]
    }
   ],
   "source": [
    "print (\"converting the string '1' to an integer makes sense:\",int('1'))"
   ]
  },
  {
   "cell_type": "code",
   "execution_count": 74,
   "metadata": {},
   "outputs": [
    {
     "ename": "ValueError",
     "evalue": "invalid literal for int() with base 10: 'one'",
     "output_type": "error",
     "traceback": [
      "\u001b[0;31m---------------------------------------------------------------------------\u001b[0m",
      "\u001b[0;31mValueError\u001b[0m                                Traceback (most recent call last)",
      "\u001b[0;32m<ipython-input-74-11bdc0c0e878>\u001b[0m in \u001b[0;36m<module>\u001b[0;34m()\u001b[0m\n\u001b[0;32m----> 1\u001b[0;31m \u001b[0mprint\u001b[0m \u001b[0;34m(\u001b[0m\u001b[0;34m\"converting the string 'one' to an integer doesn't:\"\u001b[0m\u001b[0;34m,\u001b[0m\u001b[0mint\u001b[0m\u001b[0;34m(\u001b[0m\u001b[0;34m'one'\u001b[0m\u001b[0;34m)\u001b[0m\u001b[0;34m)\u001b[0m\u001b[0;34m\u001b[0m\u001b[0m\n\u001b[0m",
      "\u001b[0;31mValueError\u001b[0m: invalid literal for int() with base 10: 'one'"
     ]
    }
   ],
   "source": [
    "print (\"converting the string 'one' to an integer doesn't:\",int('one'))"
   ]
  },
  {
   "cell_type": "markdown",
   "metadata": {},
   "source": [
    "When you get an error (such as above), you will need to learn to *read* the error message to work out what you did wrong.\n",
    "\n",
    "**E1.1.8 Exercise**\n",
    "\n",
    "* why did the statement abovce not work?\n",
    "    \n",
    "* type some other data conversions below that *do* work."
   ]
  },
  {
   "cell_type": "code",
   "execution_count": 75,
   "metadata": {},
   "outputs": [],
   "source": [
    "# do the exercise here"
   ]
  },
  {
   "cell_type": "markdown",
   "metadata": {},
   "source": [
    "### 1.1.3 Arithmetic"
   ]
  },
  {
   "cell_type": "markdown",
   "metadata": {},
   "source": [
    "Often we will want to do some [arithmetic](http://www.tutorialspoint.com/python/python_basic_operators.htm) with numbers in a program, and we use the 'normal' (derived from C) operators for this.\n",
    "\n",
    "Note the way this works for integers and floating point representations."
   ]
  },
  {
   "cell_type": "code",
   "execution_count": 76,
   "metadata": {},
   "outputs": [
    {
     "name": "stdout",
     "output_type": "stream",
     "text": [
      "110\n",
      "-90.0\n",
      "0.5\n",
      "0.5\n",
      "200.0\n",
      "8.0\n",
      "1\n",
      "32\n"
     ]
    }
   ],
   "source": [
    "'''\n",
    "    Some examples of arithmetic operations in Python\n",
    "\n",
    "    Note how, if we mix float and int, the result is raised to float\n",
    "    (as the more general form)\n",
    "'''\n",
    "\n",
    "print (10 + 100)     # int addition\n",
    "print (10. - 100)    # float subtraction\n",
    "print (1./2.)        # float division\n",
    "print (1/2)          # int division\n",
    "print (10.*20.)      # float multiplication\n",
    "print (2 ** 3.)      # float exponent\n",
    "\n",
    "print (65%2)         # int remainder\n",
    "print (65//2)        # floor operation"
   ]
  },
  {
   "cell_type": "markdown",
   "metadata": {},
   "source": [
    "**E1.1.9 Exercise**\n",
    "\n",
    "* change the numbers in the examples above to make sure you understand these basic operations.\n",
    "\n",
    "* try combining operations and use brackets `()` to check that that works as expected.\n",
    "\n",
    "* see what happens when you add (i.e. use `+`) strings together"
   ]
  },
  {
   "cell_type": "code",
   "execution_count": 77,
   "metadata": {},
   "outputs": [],
   "source": [
    "# do the exercise here"
   ]
  },
  {
   "cell_type": "markdown",
   "metadata": {},
   "source": [
    "### 1.1.4 Assignment Operators"
   ]
  },
  {
   "cell_type": "code",
   "execution_count": 328,
   "metadata": {},
   "outputs": [
    {
     "name": "stdout",
     "output_type": "stream",
     "text": [
      "42.0\n"
     ]
    }
   ],
   "source": [
    "'''\n",
    "    Assignment operators\n",
    "\n",
    "    x = 3   assigns the value 3 to the variable x\n",
    "    x += 2  adds 2 onto the value of x\n",
    "            so is the same as x = x + 2\n",
    "            similarly /=, *=, -=\n",
    "    x %= 2  is the same as x = x % 2\n",
    "    x **= 2 is the same as x = x ** 2\n",
    "    x //= 2 is the same as x = x // 2\n",
    "\n",
    "    A 'magic' trick\n",
    "    ===============\n",
    "\n",
    "    based on\n",
    "    https://www.wikihow.com/Read-Someone%27s-Mind-With-Math-(Math-Trick)\n",
    "\n",
    "    whatever you put as myNumber, the answer is 42\n",
    "\n",
    "    Try this with integers or floating point numbers ...\n",
    "'''\n",
    "\n",
    "# pick a number \n",
    "myNumber = 34.67\n",
    "\n",
    "x = myNumber\n",
    "\n",
    "x *= 2\n",
    "\n",
    "x *= 5\n",
    "\n",
    "x /= myNumber\n",
    "\n",
    "x -= 7\n",
    "\n",
    "x += 39\n",
    "\n",
    "# The answer will always be 42\n",
    "print(x)"
   ]
  },
  {
   "cell_type": "markdown",
   "metadata": {},
   "source": [
    "**E1.1.10 Exercise**\n",
    "\n",
    "* change the number assigned to `myNumber` and check if `42` is still returned\n",
    "* copy and edit the code to print the value of `x` each time you change it, and add comments explaining what is happening for each line of code. This should allow you to follow more carefully what has happened with the arithmetic and also to simplify the code (use fewer statements to achieve the same thing)."
   ]
  },
  {
   "cell_type": "code",
   "execution_count": 80,
   "metadata": {},
   "outputs": [],
   "source": [
    "# do the exercise here"
   ]
  },
  {
   "cell_type": "markdown",
   "metadata": {},
   "source": [
    "### 1.1.5 Logical Operators"
   ]
  },
  {
   "cell_type": "markdown",
   "metadata": {},
   "source": [
    "Logical operators combine boolean variables. Recall from above:"
   ]
  },
  {
   "cell_type": "code",
   "execution_count": 233,
   "metadata": {},
   "outputs": [
    {
     "name": "stdout",
     "output_type": "stream",
     "text": [
      "<class 'bool'> <class 'bool'>\n"
     ]
    }
   ],
   "source": [
    "print (type(True),type(False));"
   ]
  },
  {
   "cell_type": "markdown",
   "metadata": {},
   "source": [
    "The three main logical operators you will use are:\n",
    "\n",
    "    not, and, or\n",
    "    \n",
    "The impact of the `not` opeartor should be straightforward to understand, though we can first write it in a 'truth table':   \n",
    "\n",
    "\n",
    "\n",
    "| A  | not A  | \n",
    "|:---:|:---:|\n",
    "|  T | F | \n",
    "|   F |  T | "
   ]
  },
  {
   "cell_type": "code",
   "execution_count": 234,
   "metadata": {},
   "outputs": [
    {
     "name": "stdout",
     "output_type": "stream",
     "text": [
      "not True is False\n",
      "not False is True\n"
     ]
    }
   ],
   "source": [
    "print('not True is',not True)\n",
    "print('not False is',not False)"
   ]
  },
  {
   "cell_type": "markdown",
   "metadata": {},
   "source": [
    "**E1.1.11 Exercise:**\n",
    "    \n",
    "* write a statement to set a variable `x` to `True` and print the value of `x` and `not x`\n",
    "       \n",
    "* what does `not not x` give? Make sure you understand why \n",
    "    \n",
    "\n",
    "\n",
    "\n"
   ]
  },
  {
   "cell_type": "code",
   "execution_count": 235,
   "metadata": {},
   "outputs": [],
   "source": [
    "# do the exercise here"
   ]
  },
  {
   "cell_type": "markdown",
   "metadata": {},
   "source": [
    "The operators `and` and `or` should also be quite straightforward to understand: they have the same meaning as in normal english. Note that `or` is 'inclusive' (so, read `A or B` as 'either A or B or both of them')."
   ]
  },
  {
   "cell_type": "code",
   "execution_count": 236,
   "metadata": {},
   "outputs": [
    {
     "name": "stdout",
     "output_type": "stream",
     "text": [
      "True and True is True\n",
      "True and False is False\n",
      "False and True is False\n",
      "False and False is False\n"
     ]
    }
   ],
   "source": [
    "print ('True and True is',True and True)\n",
    "print ('True and False is',True and False)\n",
    "print ('False and True is',False and True)\n",
    "print ('False and False is',False and False)"
   ]
  },
  {
   "cell_type": "markdown",
   "metadata": {},
   "source": [
    "So, `A and B` is `True`, if and only if both `A` is `True` and `B` is `True`. Otherwise, it is `False`\n",
    "\n",
    "We can represent this in a 'truth table':\n",
    "\n",
    "\n",
    "| A  | B  | A and B  | \n",
    "|:---:|:---:|:---:|\n",
    "|  T |  T |  T | \n",
    "|  T |  F |  F | \n",
    "|  F |  T |  F | \n",
    "|  F |  F |  F | \n",
    "\n",
    "\n",
    "**E1.1.12 Exercise:**\n",
    "\n",
    "* draw a truth table *on some paper*, label the columns `A`, `B` and `A and B` and fill in the columns `A` and `B` as above\n",
    "* without looking at the example above, write the value of `A and B` in the third column.\n",
    "* draw another truth table *on some paper*, label the columns `A`, `B` and `A and B` and fill in the columns `A` and `B` as above\n",
    "* write the value of `A or B` in the third column.\n",
    "\n",
    "If you are unsure, test the response using code, below."
   ]
  },
  {
   "cell_type": "code",
   "execution_count": 237,
   "metadata": {},
   "outputs": [
    {
     "name": "stdout",
     "output_type": "stream",
     "text": [
      "True\n"
     ]
    }
   ],
   "source": [
    "# do the testing here e.g.\n",
    "print (True or False)"
   ]
  },
  {
   "cell_type": "markdown",
   "metadata": {},
   "source": [
    "**E1.1.13 Exercise**\n",
    "\n",
    "* Copy the following truth table onto paper and fill in the final column:\n",
    "\n",
    "| A  | B  | C | ((A and B) or C)  | \n",
    "|:---:|:---:|:---:|:---:|\n",
    "| T|  T |  T |   | \n",
    "| T|  T |  F |   | \n",
    "| T|  F |  T |   | \n",
    "| T |  F |  F |   | \n",
    "| F|  T |  T |   | \n",
    "| F|  T |  F |   | \n",
    "| F|  F |  T |   | \n",
    "| F |  F |  F |   | \n",
    "\n",
    "* Try some other compound statements\n",
    "\n",
    "If you are unsure, or to check your answers, test the response using code, below.\n"
   ]
  },
  {
   "cell_type": "code",
   "execution_count": 238,
   "metadata": {},
   "outputs": [
    {
     "name": "stdout",
     "output_type": "stream",
     "text": [
      "True\n"
     ]
    }
   ],
   "source": [
    "# do the testing here e.g.\n",
    "print ((True and False) or True)"
   ]
  },
  {
   "cell_type": "markdown",
   "metadata": {},
   "source": [
    "### 1.1.6 Comparison Operators and `if`"
   ]
  },
  {
   "cell_type": "markdown",
   "metadata": {},
   "source": [
    "A comparison operator 'compares' two terms (e.g. variables) and returns a boolean data type (`True` or `False`).\n",
    "\n",
    "For example, to see if the value of some variable `a` is 'the same value as' ('equivalent to') the value of some variable `b`, we use the equivalence operator (`==`). To test for non equivalence, we use the not equivalent operator `!=` (read the `!` as 'not'):\n"
   ]
  },
  {
   "cell_type": "code",
   "execution_count": 239,
   "metadata": {},
   "outputs": [
    {
     "name": "stdout",
     "output_type": "stream",
     "text": [
      "a is 100 and\n",
      "b is 10 \n",
      "\n",
      "\ta is equivalent to b? False\n"
     ]
    }
   ],
   "source": [
    "a = 100\n",
    "b = 10\n",
    "\n",
    "# Note the use of \\n and \\t in here\n",
    "# \n",
    "print ('a is',a,'and\\nb is',b,'\\n')\n",
    "print ('\\ta is equivalent to b?',a == b)"
   ]
  },
  {
   "cell_type": "markdown",
   "metadata": {},
   "source": [
    "**E1.1.14 Exercise**\n",
    "\n",
    "* copy the code above and change the values (or type) of the variables `a` and `b` to test their equivalence.\n",
    "* what does the `\\t` in the print statement do?\n",
    "* add a `print` statement to your code that tests for 'non equivalence'\n",
    "* write some code to see if `(a or b)` is equivalent to `(b or a)` or not"
   ]
  },
  {
   "cell_type": "code",
   "execution_count": 240,
   "metadata": {},
   "outputs": [],
   "source": [
    "# do the exercise here"
   ]
  },
  {
   "cell_type": "markdown",
   "metadata": {},
   "source": [
    "A full set of comparison operators is:\n",
    "\n",
    "|symbol| meaning|\n",
    "|:---:|:---:|\n",
    "| is | [is identical to](https://www.geeksforgeeks.org/difference-operator-python/) |\n",
    "| is not | is not identical to |\n",
    "| == | is equivalent to |\n",
    "| != | is not equivalent to |\n",
    "| > | greater than |\n",
    "|>= | greater than or equal to|\n",
    "|<  | less than|\n",
    "|<=  | less than or equal to    |\n",
    "\n",
    "so that, for example:"
   ]
  },
  {
   "cell_type": "code",
   "execution_count": 241,
   "metadata": {},
   "outputs": [
    {
     "name": "stdout",
     "output_type": "stream",
     "text": [
      "False\n",
      "True\n",
      "False\n",
      "False\n",
      "True\n",
      "False\n"
     ]
    }
   ],
   "source": [
    "# Comparison examples\n",
    "\n",
    "# is one plus one list identical to two list?\n",
    "print ([1 + 1] is [2])\n",
    "\n",
    "# is one plus one list equal to two list?\n",
    "print ([1 + 1] == [2])\n",
    "\n",
    "# is one less than or equal to 0.999?\n",
    "print (1 <= 0.999)\n",
    "\n",
    "# is one plus one not equal to two?\n",
    "print (1 + 1 != 2)\n",
    "\n",
    "# note the use of single quotes inside a double quoted string here\n",
    "# is 'more' greater than 'less'?\n",
    "print (\"more\" > \"less\")\n",
    "\n",
    "# \"is 100 less than 2?\"\n",
    "print (100 < 2)\n"
   ]
  },
  {
   "cell_type": "markdown",
   "metadata": {},
   "source": [
    "**Aside on string comparisons**\n",
    "\n",
    "In the case of string comparisons, the [ASCII](http://www.asciitable.com) codes of the string characters are compared. So for example the statement \"more\" > \"less\" returns True.\n",
    "\n",
    "Here, the comparison is effectively\n",
    "\n",
    "    m > l\n",
    "\n",
    "Since `m` comes after `l` in the alphabet, the ASCII\n",
    "code for `m` (109) is greater than the ASCII code \n",
    "for `l` (108) (see http://www.asciitable.com) so\n",
    "\n",
    "    109 > 108\n",
    "\n",
    "returns True. Note that ASCII capital letters come before the lower case letters. \n",
    "\n",
    "In practice, we mainly avoid string comparisons (other than to confirm equivalence). So there is little direct use of string comparisons other than `==`. It is useful to know how this works however, in case it crops up or happens 'by accident'. It is also worth understanding what ASCII codes are.\n"
   ]
  },
  {
   "cell_type": "markdown",
   "metadata": {},
   "source": [
    "**Conditional test**\n",
    "\n",
    "One common use of comparisons is for program control, using an `if` statement:\n",
    "\n",
    "    if condition1 is True:\n",
    "        doit1()\n",
    "    elif condition2 is True:\n",
    "        doit2()\n",
    "    else:\n",
    "        doit3()\n",
    "        \n",
    "where `is` compares identity. This allows us to run blocks of code (e.g. the method `doit1()`) only under a particular condition (or set of conditions).\n",
    "\n",
    "In Python, the statement(s) we run on condition (here `doit1()` etc.) are *indented*. \n",
    "\n",
    "The indent can be one or more spaces or a `<tab>` character, the choice is up to the programmer. However, it **must be consistent**.\n",
    "\n"
   ]
  },
  {
   "cell_type": "code",
   "execution_count": 242,
   "metadata": {},
   "outputs": [
    {
     "name": "stdout",
     "output_type": "stream",
     "text": [
      "test is [2]\n",
      "passed test 2: \"if test == [2]\"\n",
      "retval is True\n"
     ]
    }
   ],
   "source": [
    "test = [1+1]\n",
    "print('test is {}'.format(test))\n",
    "\n",
    "# initialise retval\n",
    "retval = None\n",
    "\n",
    "# conduct some tests, and set the \n",
    "# variable retval to True if we pass\n",
    "# any test\n",
    "\n",
    "if test is [2]:\n",
    "    retval = True\n",
    "    print('passed test 1: \"if test is [2]\"')\n",
    "elif test == [2]:\n",
    "    retval = True\n",
    "    print('passed test 2: \"if test == [2]\"')\n",
    "else:\n",
    "    retval = False\n",
    "    print('failed both tests')\n",
    "    \n",
    "print('retval is',retval)"
   ]
  },
  {
   "cell_type": "markdown",
   "metadata": {},
   "source": [
    "**E1.1.15 Exercise**\n",
    "\n",
    "* copy the example above, and change it to use other examples from the 'Comparison examples' code block. Change the value of `test` to get different responses and make notes as to why you get the result you do.\n",
    "* try out some more complicated conditions, e.g. multipler tests, combined with an `and` operator."
   ]
  },
  {
   "cell_type": "code",
   "execution_count": 243,
   "metadata": {},
   "outputs": [],
   "source": [
    "# do the exercise here"
   ]
  },
  {
   "cell_type": "markdown",
   "metadata": {},
   "source": [
    "### 1.1.7 Summary\n",
    "\n",
    "In this section, you have had an introduction to the Python programming language, running in a [`jupyter notebook`](http://jupyter.org) environment.\n",
    "\n",
    "You have seen how to write comments in code, how to form `print` statements and basic concepts of variables, values, and data types. You have seen how to maniputae data with arithmetic and assignment operators, as well as the basics in dealing with logic and tests returning logical values."
   ]
  },
  {
   "cell_type": "markdown",
   "metadata": {},
   "source": [
    "\n",
    "\n",
    "## 1.2  Text and looping\n",
    "In Python, collections of characters (`a`, `b`, `1`, ...) are called strings. Strings and characters are input by surrounding the relevant text in either double (`\"`) or single (`'`) quotes. There are a number of special characters that can be encoded in a string provided they're \"escaped\". For example, some we have come across are:\n",
    "\n",
    "* `\\n`: the carriage return\n",
    "* `\\t`: a tabulator"
   ]
  },
  {
   "cell_type": "code",
   "execution_count": 244,
   "metadata": {},
   "outputs": [
    {
     "name": "stdout",
     "output_type": "stream",
     "text": [
      "I'm a happy string\n",
      "I'm a happy string\n",
      "\tI'm a happy string\n",
      "I'm\n",
      "a\n",
      "happy\n",
      "string\n"
     ]
    }
   ],
   "source": [
    "print (\"I'm a happy string\")\n",
    "print ('I\\'m a happy string') # the apostrophe has been escaped as not to be confused by end of string\n",
    "print (\"\\tI'm a happy string\")\n",
    "print (\"I'm\\na\\nhappy\\nstring\")"
   ]
  },
  {
   "cell_type": "markdown",
   "metadata": {},
   "source": [
    "We can do a number of things with strings, which are very useful. These so-called string methods are defined on all strings by Python by default, and can be used with every string.\n",
    "For one, we can concatenate strings using the `+` symbol as we saw above.\n"
   ]
  },
  {
   "cell_type": "markdown",
   "metadata": {},
   "source": [
    "### 1.2.1  `len`\n",
    "\n",
    "Gives the length of the string as number of characters:"
   ]
  },
  {
   "cell_type": "code",
   "execution_count": 245,
   "metadata": {},
   "outputs": [
    {
     "name": "stdout",
     "output_type": "stream",
     "text": [
      "the length of  is 0\n",
      "the length of Hellothereeveryone is 18\n"
     ]
    }
   ],
   "source": [
    "t = ''\n",
    "print ('the length of',t,'is',len(t))\n",
    "\n",
    "\n",
    "s = \"Hello\" + \"there\" + \"everyone\"\n",
    "\n",
    "print ('the length of',s,'is',len(s))"
   ]
  },
  {
   "cell_type": "markdown",
   "metadata": {},
   "source": [
    "**Exercise E1.2.1**\n",
    "\n",
    "* what does a zero-length string look like?\n",
    "* The `Hello there everyone` example above has no spaces between the words. Copy the code to the block below and modify it to have spaces.\n",
    "* confirm that you get the expected increase in length."
   ]
  },
  {
   "cell_type": "code",
   "execution_count": 246,
   "metadata": {},
   "outputs": [],
   "source": [
    "# do exercise here"
   ]
  },
  {
   "cell_type": "markdown",
   "metadata": {},
   "source": [
    "### 1.2.2 `for ... in ...` and `enumerate`"
   ]
  },
  {
   "cell_type": "markdown",
   "metadata": {},
   "source": [
    "Very commonly, we need to iterate or 'loop' over some set of items.\n",
    "\n",
    "The basic stucture for doing this (in Python, and many other languages) is `for item in group:`, where `item` is the name of some variable and `group` is a set of values. \n",
    "\n",
    "The loop is run so that `item` takes on the first value in `group`, then the second, etc."
   ]
  },
  {
   "cell_type": "code",
   "execution_count": 247,
   "metadata": {},
   "outputs": [
    {
     "name": "stdout",
     "output_type": "stream",
     "text": [
      "4\n",
      "3\n",
      "2\n",
      "1\n",
      "blast off!\n"
     ]
    }
   ],
   "source": [
    "# for loop\n",
    "group = [4,3,2,1]\n",
    "\n",
    "for item in group:\n",
    "    '''print counter in loop'''\n",
    "    print(item)\n",
    "    \n",
    "print ('blast off!')"
   ]
  },
  {
   "cell_type": "markdown",
   "metadata": {},
   "source": [
    "The `group` in this example is the list of integer numbers `[4,3,2,1]`. A `list` is a group of comma-separated items contained in square brackets `[]`.\n",
    "\n",
    "In Python, the statement(s) we run whilst looping (here `print(item)`) are *indented*. \n",
    "\n",
    "The indent can be one or more spaces or a `<tab>` character, the choice is up to the programmer. However, it **must be consistent**.\n",
    "\n",
    "**Exercise 1.2.1**\n",
    "\n",
    "* generate a list of strings called `group` with the names of (some of) the items in your pocket or bag (or make some up!)\n",
    "* set up a `for` loop to go through and print each item"
   ]
  },
  {
   "cell_type": "code",
   "execution_count": 248,
   "metadata": {},
   "outputs": [],
   "source": [
    "# do exercise here"
   ]
  },
  {
   "cell_type": "markdown",
   "metadata": {},
   "source": [
    "Quite often, we want to keep track of the 'index' of the item in the loop (the 'item number').\n",
    "\n",
    "One way to do this would be to use a variable (called `count` here). \n",
    "\n",
    "Before we enter the loop, we initialise the value to zero."
   ]
  },
  {
   "cell_type": "code",
   "execution_count": 249,
   "metadata": {},
   "outputs": [
    {
     "name": "stdout",
     "output_type": "stream",
     "text": [
      "item 0 is hat\n",
      "item 1 is dog\n",
      "item 2 is keys\n"
     ]
    }
   ],
   "source": [
    "# for loop\n",
    "group = ['hat','dog','keys']\n",
    "\n",
    "# initialise a variable count\n",
    "count = 0\n",
    "\n",
    "for item in group:\n",
    "    '''print counter in loop'''\n",
    "    \n",
    "    print('item',count,'is',item)\n",
    "    \n",
    "    # add 1 onto count\n",
    "    count += 1"
   ]
  },
  {
   "cell_type": "markdown",
   "metadata": {},
   "source": [
    "**Exercise 1.2.2**\n",
    "\n",
    "* copy the code above, and check to see if the value of `count` at the end of the loop is the same as the length of the list. Why should this be so?\n",
    "* change the code so that the counting starts at 1, rather than 0. \n"
   ]
  },
  {
   "cell_type": "code",
   "execution_count": 251,
   "metadata": {},
   "outputs": [],
   "source": [
    "# do exercise here"
   ]
  },
  {
   "cell_type": "markdown",
   "metadata": {},
   "source": [
    "Since counting in loops is a common task, we can use the built in method `enumerate()` to achieve the same thing as above. The syntax is then:"
   ]
  },
  {
   "cell_type": "code",
   "execution_count": 252,
   "metadata": {},
   "outputs": [
    {
     "name": "stdout",
     "output_type": "stream",
     "text": [
      "item 0 is hat\n",
      "item 1 is dog\n",
      "item 2 is keys\n"
     ]
    }
   ],
   "source": [
    "# for loop\n",
    "group = ['hat','dog','keys']\n",
    "\n",
    "for count,item in enumerate(group):\n",
    "    '''print counter in loop'''\n",
    "    print('item',count,'is',item)\n"
   ]
  },
  {
   "cell_type": "markdown",
   "metadata": {},
   "source": [
    "**Exercise 1.2.3**\n",
    "\n",
    "* copy the code above, and check to see if the value of `count` at the end of the loop is the same as the length of the list.\n",
    "* change the code so that the printed count starts at 1, rather than 0. \n",
    "\n",
    "Hint: how can you make it print `count+1` rather than `count`? "
   ]
  },
  {
   "cell_type": "code",
   "execution_count": 255,
   "metadata": {},
   "outputs": [],
   "source": [
    "# do exercise here"
   ]
  },
  {
   "cell_type": "markdown",
   "metadata": {},
   "source": [
    "### 1.2.3 `slice` \n",
    "\n",
    "A string can be thought of as an ordered 'array' of characters. \n",
    "\n",
    "So, for example the string `hello` can be thought of as a construct containing `h` then `e`, `l`, `l`, and `o`. \n",
    "\n",
    "We can index a string, so that e.g. `'hello'[0]` is `h`, `'hello'[1]` is `e` etc.\n",
    "\n",
    "We have seen above the idea of the 'length' of a string. In this example, the length of the string `hello` is 5."
   ]
  },
  {
   "cell_type": "code",
   "execution_count": 268,
   "metadata": {},
   "outputs": [
    {
     "name": "stdout",
     "output_type": "stream",
     "text": [
      "length of hello is 5\n",
      "character 0 of hello is h\n",
      "character 1 of hello is e\n",
      "character 3 of hello is l\n"
     ]
    }
   ],
   "source": [
    "string = 'hello'\n",
    "\n",
    "# length\n",
    "slen = len(string)\n",
    "print('length of {} is {}'.format(string,slen))\n",
    "\n",
    "# select these indices\n",
    "indices = 0,1,3\n",
    "\n",
    "# loop over each item in indices\n",
    "for index in indices:\n",
    "    print('character {} of {} is {}'.format(index,string,string[index]))\n"
   ]
  },
  {
   "cell_type": "markdown",
   "metadata": {},
   "source": [
    "**Exercise E1.2.4**\n",
    "\n",
    "* copy the code above, and see what happens if you set a value in `indices` that is the value of length of the string. Why does it respond so?\n",
    "* make the code robust to this issue, but using an `if` statement to test if `index` is in the required range."
   ]
  },
  {
   "cell_type": "code",
   "execution_count": 269,
   "metadata": {},
   "outputs": [],
   "source": [
    "# do exercise here"
   ]
  },
  {
   "cell_type": "markdown",
   "metadata": {},
   "source": [
    "\n",
    "\n",
    "We can use the idea of a 'slice' to access particular elements within the string.\n",
    "\n",
    "For a slice, we can specify:\n",
    "\n",
    "* start index (0 is the first)\n",
    "* stop index (not including this)\n",
    "* skip (do every 'skip' character)\n",
    "\n",
    "When specifying this as array access, this is given as, e.g.:\n",
    "\n",
    "`array[start:stop:skip]`\n",
    "\n",
    "* The default start is 0\n",
    "* The default stop is the length of the array\n",
    "* The default skip is 1\n",
    "\n",
    "You can specify a slice with the default values by leaving the terms out:\n",
    "\n",
    "`array[::2]`\n",
    "\n",
    "would give values in the array `array` from 0 to the end, in steps of 2.\n",
    "\n",
    "This idea is fundamental to array processing in Python. We will see later that the same mechanism applies to all ordered groups.\n"
   ]
  },
  {
   "cell_type": "code",
   "execution_count": 270,
   "metadata": {},
   "outputs": [
    {
     "name": "stdout",
     "output_type": "stream",
     "text": [
      "Hello World 11\n",
      "HloWrd\n",
      "rld\n"
     ]
    }
   ],
   "source": [
    "s = \"Hello World\"\n",
    "print (s,len(s))\n",
    "\n",
    "start = 0\n",
    "stop  = 11\n",
    "skip  = 2\n",
    "print (s[start:stop:skip])\n",
    "\n",
    "# use -ve numbers to specify from the end\n",
    "# use None to take the default value\n",
    "\n",
    "start = -3\n",
    "stop  = None\n",
    "skip  = 1\n",
    "print (s[start:stop:skip])"
   ]
  },
  {
   "cell_type": "markdown",
   "metadata": {},
   "source": [
    "**Exercise E1.2.5**\n",
    "\n",
    "The example above allows us to access an individual character(s) of the array.\n",
    "\n",
    "* copy the example above, and print the string starting from the default start value, up to the default stop value, in steps of `2`.\n",
    "* write code to print out the 4$^{th}$ letter (character) of the string `s`.\n"
   ]
  },
  {
   "cell_type": "code",
   "execution_count": 271,
   "metadata": {},
   "outputs": [],
   "source": [
    "# do exercise here"
   ]
  },
  {
   "cell_type": "markdown",
   "metadata": {},
   "source": [
    "### 1.2.4 `replace`\n",
    "\n",
    "We can replace all occurrences of a string within a string by some other string. We can also replace a string by an empty string, thus in effect removing it:"
   ]
  },
  {
   "cell_type": "code",
   "execution_count": 272,
   "metadata": {},
   "outputs": [
    {
     "name": "stdout",
     "output_type": "stream",
     "text": [
      "I'm a very unhappy string\n"
     ]
    }
   ],
   "source": [
    "print (\"I'm a very happy string\".replace(\"happy\", \"unhappy\"))"
   ]
  },
  {
   "cell_type": "markdown",
   "metadata": {},
   "source": [
    "**Exercise E1.2.6**\n",
    "\n",
    "* copy the statement above, and use the `replace` method to make it print out `\"I'm a happy string\"`. \n",
    "\n",
    "Hint: you want to replace the string `very ` with, effectively, nothing, i.e. a zero-length string."
   ]
  },
  {
   "cell_type": "code",
   "execution_count": 273,
   "metadata": {},
   "outputs": [],
   "source": [
    "# do exercise here"
   ]
  },
  {
   "cell_type": "markdown",
   "metadata": {},
   "source": [
    "### 1.2.5 `find`\n",
    "\n",
    "Quite often, we might want to find a string inside another string, and potentially give the location (as in characters from the start of the string) where this string occurs. We can use the `find` method, which will return either a `-1` if the string isn't found, or an integer giving the index of where the string starts (for the first time)."
   ]
  },
  {
   "cell_type": "code",
   "execution_count": 274,
   "metadata": {},
   "outputs": [
    {
     "name": "stdout",
     "output_type": "stream",
     "text": [
      "4\n",
      "11\n"
     ]
    }
   ],
   "source": [
    "print (\"I'm a very happy string\".find(\"a\"))\n",
    "print (\"I'm a very happy string\".find(\"happy\"))"
   ]
  },
  {
   "cell_type": "markdown",
   "metadata": {},
   "source": [
    "Let's use the idea of `find()` to sort out a messy table of data that we get from a web page.\n",
    "\n",
    "First, we need to import the package `requests` to access some information from a [URL](https://en.wikipedia.org/wiki/URL) (from a web page). The data we get will be in [html](https://en.wikipedia.org/wiki/HTML).\n",
    "\n",
    "The data we will examine is a dataset of [ENSO](https://en.wikipedia.org/wiki/ENSO) values for each month of the year from January 1950 to present, made available by [NOAA](https://en.wikipedia.org/wiki/NOAA)/\n",
    "\n",
    "If you visit  you will see the data table we are interested in. So, how do we 'grab' this?\n",
    "\n",
    "The [URL](https://en.wikipedia.org/wiki/URL) points to [html](https://en.wikipedia.org/wiki/HTML) code. When you display this in a browser, it is rendered appropriately. \n",
    "\n",
    "If you access the html directly, you will get the following:"
   ]
  },
  {
   "cell_type": "code",
   "execution_count": 275,
   "metadata": {},
   "outputs": [
    {
     "name": "stdout",
     "output_type": "stream",
     "text": [
      "<html>\n",
      "<head><title>MEI timeseries from Dec/Jan 1940/50 up to the present</title></head>\n",
      "<body>\n",
      "<pre>\n",
      "MEI Index (updated: 7 September 2018)\n",
      "\n",
      "Bimonthly MEI values (in 1/1000 of standard deviations), starting with Dec1949/Jan1950, thru last\n",
      "month.  More information on the MEI can be found on the <a href=\"mei.html\">MEI homepage</a>.\n",
      "Missing values are left blank.  Note that values can still change with each monthly update, even \n",
      "though such changes are typically smaller than +/-0.1.  All values are normalized for each bimonthly\n",
      "season so that the 44 values from 1950 to 1993 have an average of zero and a standard deviation of \"1\".  \n",
      "Responses to 'FAQs' can be found below this table:\n",
      "\n",
      "YEAR    DECJAN  JANFEB  FEBMAR  MARAPR  APRMAY  MAYJUN  JUNJUL  JULAUG  AUGSEP  SEPOCT  OCTNOV  NOVDEC\n",
      "1950\t-1.03\t-1.133\t-1.283\t-1.071\t-1.434\t-1.412\t-1.269\t-1.042\t-.597\t-.406\t-1.138\t-1.235\n",
      "1951\t-1.049\t-1.152\t-1.178\t-.511\t-.374\t.288\t.679\t.818\t.773\t.768\t.726\t.504\n",
      "1952\t.433\t.138\t.071\t.224\t-.307\t-.756\t-.305\t-.374\t\n"
     ]
    }
   ],
   "source": [
    "# Web scraping example\n",
    "\n",
    "import requests\n",
    "\n",
    "url = \"http://www.esrl.noaa.gov/psd/enso/mei/table.html\"\n",
    "\n",
    "# This line will pull the URL data as a string\n",
    "txt = requests.get(url).text\n",
    "\n",
    "# show the first 1000 characters (see 'slice' above: this is the same as [None:1000:None])\n",
    "print(txt[:1000])"
   ]
  },
  {
   "cell_type": "markdown",
   "metadata": {},
   "source": [
    "We notice the presence of html codes in the text string (e.g. `<html>`, `<pre>`). There are particular packages for neatly parsing html (scraping information from web pages), one of the most common being [BeautifulSoup](https://www.crummy.com/software/BeautifulSoup/bs4/doc/). This will tend to be more useful if the html is well fomatted, and the data contained in `<table>` sections, or similar structures. Here, we just have a block of text in the `<pre>` section.\n",
    "\n",
    "If we want to *just* access the dataset here then, we might notice that the data we want to access starts when we see the string `YEAR`.\n",
    "\n",
    "We can use `find()` to discover the index of this in the string:"
   ]
  },
  {
   "cell_type": "code",
   "execution_count": 110,
   "metadata": {},
   "outputs": [
    {
     "name": "stdout",
     "output_type": "stream",
     "text": [
      "start of useful data at index 689\n",
      "---------------------------------\n",
      "YEAR    DECJAN  JANFEB  FEBMAR  MARAPR  APRMAY  MAYJUN  JUNJUL  JULAUG  AUGSEP  SEPOCT  OCTNOV  NOVDEC\n",
      "1950\t-1.03\t-1.133\t-1.283\t-1.071\t-1.434\t-1.412\t-1.269\t-1.042\t-.597\t-.406\t-1.138\t-1.235\n",
      "1951\t-1.049\t-1.152\t-1.178\t-.511\t-.374\t.288\t.679\t.818\t.773\t.768\t.726\t.504\n",
      "1952\t.433\t.138\t.071\t.224\t-.307\t-.756\t-.305\t-.374\t.347\t.306\t-.328\t-.098\n",
      "1953\t.044\t.401\t.277\t.687\t.756\t.191\t.382\t.209\t.527\t.124\t.099\t.351\n",
      "1954\t-.036\t-.027\t.154\t-.616\t-1.465\t-1.558\t-1.355\t-1.456\t-1.138\t-1.32\t-1.113\t-1.088\n",
      "1955\t-.74\t-.669\t-1.117\t-1.621\t-1.653\t-2.247\t-1.976\t-2.05\t-1.803\t-1.725\t-1.813\t-1.846\n",
      "1956\t-1.408\t-1.275\t-1.371\t-1.216\t-1.304\t-1.523\t-1.244\t-1.118\t-1.327\t-1.461\t-1.014\t-.993\n",
      "1957\t-.915\t-.348\t.108\t.383\t.813\t.73\t.926\t1.132\t1.158\t1.114\t1.167\t1.268\n",
      "1958\t1.473\t1.454\t1.313\t.991\t.673\t.812\t.7\t.421\t.209\t.237\t.501\t.691\n",
      "1959\t.553\t.81\t.502\t.202\t-.025\t-.062\t-.112\t.111\t.126\t-.038\t-.151\t-.247\n",
      "1960\t-.287\t-.253\t-.082\t.007\t-.322\t-.287\t-.318\t-.25\t-.439\t-.332\t-.308\t-.39\n",
      "1961\t-.15\t-.235\t-.073\t.017\t-.302\t-.185\t-.208\t-.3\t-.271\t-.51\t-.416\n"
     ]
    }
   ],
   "source": [
    "start = txt.find('YEAR')\n",
    "\n",
    "print('start of useful data at index {}\\n---------------------------------'.format(start))\n",
    "print(txt[start:start+1000])"
   ]
  },
  {
   "cell_type": "markdown",
   "metadata": {},
   "source": [
    "If we look again at the web page [http://www.esrl.noaa.gov/psd/enso/mei/table.html](http://www.esrl.noaa.gov/psd/enso/mei/table.html), we might notice that the end of the useful data is delimited by two newlines and the string `(1)`, i.e., as a string `\\n\\n(1)`. So we should be able to use `find()` again to get the location of the end of the data (i.e. `stop`, in the sense of a slice).\n",
    "\n",
    "**Exercise 1.2.6**\n",
    "\n",
    "* use this observation to form a string called `data_table`, containing all of the useful data (i.e. `txt[start:stop]`).\n",
    "* print the string `data_table`.\n"
   ]
  },
  {
   "cell_type": "code",
   "execution_count": 276,
   "metadata": {},
   "outputs": [],
   "source": [
    "# do exercise here"
   ]
  },
  {
   "cell_type": "markdown",
   "metadata": {},
   "source": [
    "This exercise is a very good example of [web scraping](https://en.wikipedia.org/wiki/Web_scraping). Web scraping is often rather messy (you have to work out some 'key' to reliably delimit the information you want) but can be extreemely valuable for accessing datasets that are not cleanly presented. We have only gonbe part of the way to extracting a useful dataset here, because the dataset we are interested in (the ENSO data) are still represented as a string, whereas we really want them to be a set of floating point numbers. We will deal with this later.\n",
    "\n"
   ]
  },
  {
   "cell_type": "markdown",
   "metadata": {},
   "source": [
    "### 1.2.5 `split` and `splitlines`"
   ]
  },
  {
   "cell_type": "markdown",
   "metadata": {},
   "source": [
    "The first 'line' of `` should contain the 'header' information, i.e. the title of the data columns (`YEAR`, `DECJAN` etc.). We want to separate the header from the numbers in the data table, so we want to 'split' the string called `data_table` into a header string and data string. \n",
    "\n",
    "One approach to this would be split the string into 'lines' of text (rather than one block). Effectively that means splitting into multiple strings whenever we hit a `\\n` character. Rather than do that explicitly, we use the `splitlines()` method:\n",
    "\n"
   ]
  },
  {
   "cell_type": "code",
   "execution_count": 296,
   "metadata": {},
   "outputs": [
    {
     "name": "stdout",
     "output_type": "stream",
     "text": [
      "<class 'list'> 70\n",
      "line 0 <class 'str'>\n",
      "\tYEAR    DECJAN  JANFEB  FEBMAR  MARAPR  APRMAY  MAYJUN  JUNJUL  JULAUG  AUGSEP  SEPOCT  OCTNOV  NOVDEC\n",
      "line 1 <class 'str'>\n",
      "\t1950\t-1.03\t-1.133\t-1.283\t-1.071\t-1.434\t-1.412\t-1.269\t-1.042\t-.597\t-.406\t-1.138\t-1.235\n",
      "line 69 <class 'str'>\n",
      "\t2018\t-.623\t-.731\t-.502\t-.432\t.465\t.469\t.076\t.132\n"
     ]
    }
   ],
   "source": [
    "import requests\n",
    "url = \"http://www.esrl.noaa.gov/psd/enso/mei/table.html\"\n",
    "txt = requests.get(url).text\n",
    "\n",
    "# copy the useful data\n",
    "start = txt.find('YEAR')\n",
    "stop  = txt.find('\\n\\n(1)')\n",
    "data_table = txt[start:stop]\n",
    "\n",
    "# split into a list of strings\n",
    "data_lines = data_table.splitlines()\n",
    "\n",
    "# tell me something useful\n",
    "print(type(data_lines),len(data_lines))\n",
    "\n",
    "# loop over some examples\n",
    "for i in 0,1,len(data_lines)-1:\n",
    "    print('line {} {}\\n\\t{}'.format(i,type(data_lines[i]),data_lines[i]))"
   ]
  },
  {
   "cell_type": "markdown",
   "metadata": {},
   "source": [
    "This splits each 'line' of text into an entry in a `list`, so that the header data is now given in the first entry (`data_lines[0]`) and the lines containinmg data, after that.\n",
    "\n",
    "\n",
    "From the print out above, we notice that the final 'data line' (index `-1`) is shorter than (has fewer entries than) the other lines. This is because we are only part way through this year!.\n",
    "\n",
    "In 'real' datasets, we quite often have 'messy' lines of data such as this (or data missing for other reasons). How you want to deal with the 'messy bits' depends on the sort of analysis you want to do. \n",
    "\n",
    "One option (the simplest) would be to simply remove the last line (ignore this year's data):"
   ]
  },
  {
   "cell_type": "code",
   "execution_count": 299,
   "metadata": {},
   "outputs": [
    {
     "name": "stdout",
     "output_type": "stream",
     "text": [
      "header: YEAR    DECJAN  JANFEB  FEBMAR  MARAPR  APRMAY  MAYJUN  JUNJUL  JULAUG  AUGSEP  SEPOCT  OCTNOV  NOVDEC\n",
      "line 0 <class 'str'>\n",
      "\t1950\t-1.03\t-1.133\t-1.283\t-1.071\t-1.434\t-1.412\t-1.269\t-1.042\t-.597\t-.406\t-1.138\t-1.235\n",
      "line 1 <class 'str'>\n",
      "\t1951\t-1.049\t-1.152\t-1.178\t-.511\t-.374\t.288\t.679\t.818\t.773\t.768\t.726\t.504\n",
      "line 67 <class 'str'>\n",
      "\t2017\t-.052\t-.043\t-.08\t.744\t1.445\t1.039\t.456\t.009\t-.449\t-.551\t-.277\t-.576\n"
     ]
    }
   ],
   "source": [
    "header = data_lines[0]\n",
    "\n",
    "# select the data block as being from entry 1 to -1\n",
    "# so, **not including the last row**\n",
    "data = data_lines[1:-1]\n",
    "\n",
    "print('header:',header)\n",
    "\n",
    "for i in 0,1,len(data)-1:\n",
    "    print('line {} {}\\n\\t{}'.format(i,type(data[i]),data[i]))"
   ]
  },
  {
   "cell_type": "markdown",
   "metadata": {},
   "source": [
    "**Exercise 1.2.7**\n",
    "\n",
    "* copy the code from above and explore the response using line indices `-1` and `-2`."
   ]
  },
  {
   "cell_type": "code",
   "execution_count": 300,
   "metadata": {},
   "outputs": [],
   "source": [
    "# do exercise here"
   ]
  },
  {
   "cell_type": "markdown",
   "metadata": {},
   "source": [
    "If we want to manipulate or plot the information contained in this (the numbers), we need to convert each of the string representations to a floating point number, e.g. the number `-1.03` rather than the string `'-1.03'`.\n",
    "\n",
    "Each entry in the list `data` is a string, as we saw above.\n",
    "\n",
    "We can split an individual string (such as `data[0]` into a list of strings, using the string method `split()`. By default, this splits on 'white space' (i.e. spaces or tab characters), so, e.g.:\n",
    "\n"
   ]
  },
  {
   "cell_type": "code",
   "execution_count": 301,
   "metadata": {},
   "outputs": [
    {
     "name": "stdout",
     "output_type": "stream",
     "text": [
      "1950\t-1.03\t-1.133\t-1.283\t-1.071\t-1.434\t-1.412\t-1.269\t-1.042\t-.597\t-.406\t-1.138\t-1.235\n",
      "['1950', '-1.03', '-1.133', '-1.283', '-1.071', '-1.434', '-1.412', '-1.269', '-1.042', '-.597', '-.406', '-1.138', '-1.235'] 13\n"
     ]
    }
   ],
   "source": [
    "line = data[0].split()\n",
    "print(data[0])\n",
    "print(line,len(line))"
   ]
  },
  {
   "cell_type": "markdown",
   "metadata": {},
   "source": [
    "So, we have split the long string into 13 strings in a list. \n",
    "\n",
    "We want to generate a new list with 13 corresponding floating point values:"
   ]
  },
  {
   "cell_type": "code",
   "execution_count": 302,
   "metadata": {},
   "outputs": [
    {
     "name": "stdout",
     "output_type": "stream",
     "text": [
      "['1950', '-1.03', '-1.133', '-1.283', '-1.071', '-1.434', '-1.412', '-1.269', '-1.042', '-.597', '-.406', '-1.138', '-1.235']\n",
      "[1950.0, -1.03, -1.133, -1.283, -1.071, -1.434, -1.412, -1.269, -1.042, -0.597, -0.406, -1.138, -1.235]\n"
     ]
    }
   ],
   "source": [
    "# split the line on whitespace\n",
    "line = data[0].split()\n",
    "\n",
    "# make a new list of the same length\n",
    "# by copying the variable line\n",
    "float_data = line.copy()\n",
    "\n",
    "for index,line_data in enumerate(line):\n",
    "    # insert the cast float into the list\n",
    "    # in the right order (use index)\n",
    "    float_data[index] = float(line_data)\n",
    "    \n",
    "# this is the string list\n",
    "print(line)\n",
    "\n",
    "# this is the float list\n",
    "print(float_data)"
   ]
  },
  {
   "cell_type": "markdown",
   "metadata": {},
   "source": [
    "**Exercise 1.2.8**\n",
    "\n",
    "* set a variable to be the string `\"2, 3, 5, 7, 11, 13, 17, 19, 23, 29\"`\n",
    "* use the approach above to generate a **list of integers** of the first 10 prime numbers. \n",
    "* print the list with syntax of the pattern of 'prime number 3 is 7'\n",
    "\n",
    "Make sure you convert each prime number to an integer, rather than leaving it as a string!\n",
    "\n",
    "Hint: We can still use the method `split()` to do split the string into a list of strings, but this time the [separator](https://python-reference.readthedocs.io/en/latest/docs/str/split.html) is a comma, rather than whitespace. "
   ]
  },
  {
   "cell_type": "code",
   "execution_count": 321,
   "metadata": {},
   "outputs": [],
   "source": [
    "# do exercise here\n",
    "pstring = \"2, 3, 5, 7, 11, 13, 17, 19, 23, 29\""
   ]
  },
  {
   "cell_type": "markdown",
   "metadata": {},
   "source": [
    "Normally, we wouldn't go to the trouble of first copying the list. \n",
    "\n",
    "Instead, **where the contents of the loop are simple** (e.g. a single statement) we would use a different way of using a `for` loop, called an **implicit loop**.\n",
    "\n",
    "In this case:\n",
    "\n",
    "    for item in group:\n",
    "        doit(group)\n",
    "        \n",
    "becomes:\n",
    "\n",
    "    [doit(group) for item in group]\n",
    "    \n",
    "with the additional feature that everything returned by `doit(group)` for each item of `group` is put in a list."
   ]
  },
  {
   "cell_type": "code",
   "execution_count": 322,
   "metadata": {},
   "outputs": [
    {
     "name": "stdout",
     "output_type": "stream",
     "text": [
      "2010\t1.066\t1.526\t1.462\t.978\t.658\t-.228\t-1.103\t-1.671\t-1.86\t-1.888\t-1.472\t-1.558\n",
      "[1950.0, -1.03, -1.133, -1.283, -1.071, -1.434, -1.412, -1.269, -1.042, -0.597, -0.406, -1.138, -1.235]\n"
     ]
    }
   ],
   "source": [
    "# split the line on whitespace\n",
    "\n",
    "# implicit for loop\n",
    "float_data = [float(line_data) for line_data in data[0].split()]\n",
    "    \n",
    "# this is the string list\n",
    "print(line)\n",
    "# this is the float list\n",
    "print(float_data)"
   ]
  },
  {
   "cell_type": "markdown",
   "metadata": {},
   "source": [
    "The statement:\n",
    "\n",
    "    float_data = [float(line_data) for line_data in line]\n",
    "\n",
    "is much more [Pythonic](https://docs.python-guide.org/writing/style/) than the code above. It is simple, elegant and neat."
   ]
  },
  {
   "cell_type": "markdown",
   "metadata": {},
   "source": [
    "We can *nest* for statements, i.e. put one for loop inside another. This allows us to treat data of multiple dimensions.\n",
    "\n",
    "In the examples above, we converted only the data in `data[0]` to a list of floating point numbers.\n",
    "If we wanted to process *all* lines of data, we would have to loop over them as well, in an 'outer' loop.\n",
    "\n"
   ]
  },
  {
   "cell_type": "code",
   "execution_count": 323,
   "metadata": {},
   "outputs": [
    {
     "name": "stdout",
     "output_type": "stream",
     "text": [
      "line 0 is [1950.0, -1.03, -1.133, -1.283, -1.071, -1.434, -1.412, -1.269, -1.042, -0.597, -0.406, -1.138, -1.235]\n",
      "line 10 is [1960.0, -0.287, -0.253, -0.082, 0.007, -0.322, -0.287, -0.318, -0.25, -0.439, -0.332, -0.308, -0.39]\n",
      "line 20 is [1970.0, 0.38, 0.432, 0.228, 0.014, -0.099, -0.636, -1.055, -1.007, -1.226, -1.068, -1.063, -1.203]\n",
      "line 30 is [1980.0, 0.677, 0.601, 0.684, 0.912, 0.958, 0.911, 0.769, 0.329, 0.302, 0.223, 0.27, 0.111]\n",
      "line 40 is [1990.0, 0.243, 0.573, 0.951, 0.46, 0.652, 0.511, 0.147, 0.127, 0.398, 0.303, 0.4, 0.362]\n",
      "line 50 is [2000.0, -1.122, -1.189, -1.09, -0.397, 0.251, 0.001, -0.159, -0.145, -0.21, -0.367, -0.701, -0.55]\n",
      "line 60 is [2010.0, 1.066, 1.526, 1.462, 0.978, 0.658, -0.228, -1.103, -1.671, -1.86, -1.888, -1.472, -1.558]\n"
     ]
    }
   ],
   "source": [
    "# use a step of 10 for illustration purposes\n",
    "# to save space when printing\n",
    "\n",
    "step = 10\n",
    "\n",
    "for index,line in enumerate(data_table.splitlines()[1:-1:step]):\n",
    "    # convert each line to list of floats\n",
    "    float_data = [float(line_data) for line_data in line.split()]\n",
    "    print('line {} is {}'.format(index*step,float_data))"
   ]
  },
  {
   "cell_type": "markdown",
   "metadata": {},
   "source": [
    "Note that whilst we have calculated `float_data` in the loop for each line, it gets over-written with each new line as things stand.\n",
    "\n",
    "We can do the same thing, and generate a list of the responses more neatly, using an implicit loop inside another implicit loop:"
   ]
  },
  {
   "cell_type": "code",
   "execution_count": 324,
   "metadata": {},
   "outputs": [],
   "source": [
    "all_float_data = [[float(line_data) for line_data in line.split()] for line in data_table.splitlines()[1:-1]]"
   ]
  },
  {
   "cell_type": "markdown",
   "metadata": {},
   "source": [
    "The variable `all_float_data` is now a sort of 'two dimensional' list, within which we can refer to individual items as e.g. `all_float_data[10][3]` for row `10`, column `3`.\n",
    "\n",
    "Let's use this idea to print out column 0 of each row (containing the `YEAR` data). We will use the method `range(nrows)` that (implicitly) generates a list `[0,1,2,3, ..., nrows-1]`. \n",
    "\n",
    "Notice the use of `end=' '` in the `print` statement. This replaces the usual newline by whetever is specified by the keyword `end`. Note also that we have used `{:.0f}` to specify the format term. This indicates that the term is to be printed as a floating point number (the `f`) with zero numbers after the decimal point (`.0`)"
   ]
  },
  {
   "cell_type": "code",
   "execution_count": 325,
   "metadata": {},
   "outputs": [
    {
     "name": "stdout",
     "output_type": "stream",
     "text": [
      "column 0 of the data gives:\n",
      "\n",
      "1950 1951 1952 1953 1954 1955 1956 1957 1958 1959 1960 1961 1962 1963 1964 1965 1966 1967 1968 1969 1970 1971 1972 1973 1974 1975 1976 1977 1978 1979 1980 1981 1982 1983 1984 1985 1986 1987 1988 1989 1990 1991 1992 1993 1994 1995 1996 1997 1998 1999 2000 2001 2002 2003 2004 2005 2006 2007 2008 2009 2010 2011 2012 2013 2014 2015 2016 2017 "
     ]
    }
   ],
   "source": [
    "nrows = len(all_float_data)\n",
    "i = 0\n",
    "\n",
    "print('column {} of the data gives:\\n'.format(i))\n",
    "for row in range(nrows):\n",
    "    print('{:.0f}'.format(all_float_data[row][i]),end=' ')"
   ]
  },
  {
   "cell_type": "markdown",
   "metadata": {},
   "source": [
    "**Exercise 1.2.9**\n",
    "\n",
    "* use an implicit loop to create a list of ENSO values in a variable `enso` for the years 1950 up to last year for the period `DECJAN`.\n",
    "* produce a plot of ENSO for `DECJAN` as a function of year (see below on how to do that).\n",
    "\n",
    "Hint: check which column in the header is `DECJAN`. To start you off on this, we give you the implicit loop code for extracting the column containing the `YEAR` data (column 0). We also give you the code to achieve the plotting."
   ]
  },
  {
   "cell_type": "code",
   "execution_count": 327,
   "metadata": {},
   "outputs": [
    {
     "data": {
      "text/plain": [
       "Text(0,0.5,'ENSO')"
      ]
     },
     "execution_count": 327,
     "metadata": {},
     "output_type": "execute_result"
    },
    {
     "data": {
      "image/png": "[encoded data removed]",
      "text/plain": [
       "<Figure size 864x216 with 1 Axes>"
      ]
     },
     "metadata": {
      "needs_background": "light"
     },
     "output_type": "display_data"
    }
   ],
   "source": [
    "# do exercise here\n",
    "\n",
    "# generate a list called years of column 0 data\n",
    "years = [all_float_data[row][0] for row in range(nrows)]\n",
    "\n",
    "# you need to put the enso data in here!\n",
    "# this is put in as a dummy that should plot a straight line!\n",
    "enso = years.copy()\n",
    "\n",
    "# for plotting\n",
    "import pylab as plt\n",
    "%matplotlib inline\n",
    "\n",
    "# \n",
    "plt.figure(0,figsize=(12,3))\n",
    "plt.plot(years,enso)\n",
    "plt.xlabel('year')\n",
    "plt.ylabel('ENSO')"
   ]
  },
  {
   "cell_type": "markdown",
   "metadata": {},
   "source": [
    "### 1.2.6 Summary\n",
    "\n",
    "In section 1.2 you have been introduced to text representation in Python, as strings (type `str`), and shown that this sort of variable can be thought of an an 'array', and that it has a length attribute that can be accessed with `len()`.\n",
    "\n",
    "Other useful string manipulation methods you were introduced to are: `replace()`, `find()`, `split()` and `splitlines()`, though of course there are [many more](https://docs.python.org/3/library/string.html).\n",
    "\n",
    "In an 'array', we can use an index to refer to a particular item (e.g. index 0 for the first item, 1 for the second, -1 for the last). We can use this idea to manipulate strings. \n",
    "\n",
    "In a more general sense, we can take a 'slice' of an array, with the syntax `[start:stop:skip]` giving access to a regularly spaced part of an array. We can use this, for example, to print out every 10th value (`skip=10`).\n",
    "\n",
    "You were also introduced to the idea of looping control structures, using a `for ... in ...:` statement, and the equivalent implicit form. This introduced the idea of [indented code blocks](https://wiki.python.org/moin/Why%20separate%20sections%20by%20indentation%20instead%20of%20by%20brackets%20or%20%27end%27) and (related) nested structures (loops within loops).\n",
    "\n",
    "In passing, you have also been shown how to pull html data from a URL (scraping) using the [`requests`](http://docs.python-requests.org/en/master/) package, and also how to produce a simple data plot, using [`pylab`](https://matplotlib.org/index.html)."
   ]
  },
  {
   "cell_type": "markdown",
   "metadata": {},
   "source": [
    "## 1.3. Groups of things\n",
    "Very often, we will want to group items together. There are several main mechanisms for doing this in Python, known as:\n",
    "\n",
    "* string e.g. `hello`\n",
    "* tuple, e.g. `(1, 2, 3)`\n",
    "* list, e.g. `[1, 2, 3]`\n",
    "* numpy array e.g. `np.array([1, 2, 3])`\n",
    "\n",
    "A slightly different form of group is a dictionary:\n",
    "\n",
    "* dict, e.g. `{1:'one', 2:'two', 3:'three'}`\n",
    "\n",
    "You will notice that each of the grouping structures tuple, list and dict use a different form of bracket. The numpy array is fundamental to much work that we will do later.\n",
    "\n",
    "We have dealt with the idea of a string as an ordered collection in the material above.\n",
    "\n",
    "We noted the concept of length (`len()`), that elements of the ordered collection could be accessed via an index, and came across the concept of a slice. All of these same ideas apply to the first set of groups (string, tuple, list, numpy array) as they are all ordered collections.\n",
    "\n",
    "A dictionary is not (by default) ordered, however, so indices have no role. Instead, we use 'keys'."
   ]
  },
  {
   "cell_type": "markdown",
   "metadata": {},
   "source": [
    "### 1.3.1 `tuple`\n",
    "A tuple is a group of items separated by commas. In the case of a tuple, the brackets are optional.\n",
    "You can have a group of differnt types in a tuple (e.g. int, int, str, bool)"
   ]
  },
  {
   "cell_type": "code",
   "execution_count": 332,
   "metadata": {},
   "outputs": [
    {
     "name": "stdout",
     "output_type": "stream",
     "text": [
      "(1, 2, 'three', False)\n",
      "1 2 three False\n"
     ]
    }
   ],
   "source": [
    "# load into the tuple\n",
    "t = (1, 2, 'three', False)\n",
    "\n",
    "# unload from the tuple\n",
    "a,b,c,d = t\n",
    "\n",
    "print(t)\n",
    "print(a,b,c,d)"
   ]
  },
  {
   "cell_type": "markdown",
   "metadata": {},
   "source": [
    "If there is only one element in a tuple, you must put a comma , at the end, otherwise it is not interpreted as a tuple:\n",
    "\n"
   ]
  },
  {
   "cell_type": "code",
   "execution_count": 333,
   "metadata": {},
   "outputs": [
    {
     "name": "stdout",
     "output_type": "stream",
     "text": [
      "1 <class 'int'>\n",
      "(1,) <class 'tuple'>\n"
     ]
    }
   ],
   "source": [
    "t = (1)\n",
    "print (t,type(t))\n",
    "t = (1,)\n",
    "print (t,type(t))"
   ]
  },
  {
   "cell_type": "markdown",
   "metadata": {},
   "source": [
    "You can have an empty tuple though:\n",
    "\n"
   ]
  },
  {
   "cell_type": "code",
   "execution_count": 334,
   "metadata": {},
   "outputs": [
    {
     "name": "stdout",
     "output_type": "stream",
     "text": [
      "() <class 'tuple'>\n"
     ]
    }
   ],
   "source": [
    "t = ()\n",
    "print (t,type(t))"
   ]
  },
  {
   "cell_type": "markdown",
   "metadata": {},
   "source": [
    "**E1.3.1 Exercise**\n",
    "\n",
    "* create a tuple called t that contains the integers 1 to 5 inclusive\n",
    "* print out the value of t\n",
    "* use the tuple to set variables a1,a2,a3,a4,a5"
   ]
  },
  {
   "cell_type": "code",
   "execution_count": 335,
   "metadata": {},
   "outputs": [],
   "source": [
    "# do exercise here"
   ]
  },
  {
   "cell_type": "markdown",
   "metadata": {},
   "source": [
    "\n",
    "### 1.3.2  `list`\n",
    "A `list` is similar to a `tuple`. One main difference is that you can change individual elements in a list but not in a tuple.\n",
    "To convert between a list and tuple, use the 'casting' methods `list()` and `tuple()`:"
   ]
  },
  {
   "cell_type": "code",
   "execution_count": 340,
   "metadata": {},
   "outputs": [
    {
     "name": "stdout",
     "output_type": "stream",
     "text": [
      "type of (1, 2, 3) is <class 'tuple'>\n",
      "type of [1, 2, 3] is <class 'list'>\n"
     ]
    }
   ],
   "source": [
    "\n",
    "# a tuple\n",
    "t0 = (1,2,3)\n",
    "\n",
    "# cast to a list\n",
    "l = list(t0)\n",
    "\n",
    "# cast to a tuple\n",
    "t = tuple(l)\n",
    "\n",
    "print('type of {} is {}'.format(t,type(t)))\n",
    "print('type of {} is {}'.format(l,type(l)))"
   ]
  },
  {
   "cell_type": "markdown",
   "metadata": {},
   "source": [
    "You can concatenate (join) lists or tuples with the `+` operator:\n",
    "\n"
   ]
  },
  {
   "cell_type": "code",
   "execution_count": 343,
   "metadata": {},
   "outputs": [
    {
     "name": "stdout",
     "output_type": "stream",
     "text": [
      "joint list: [1, 2, 3, 4, 5, 6]\n"
     ]
    }
   ],
   "source": [
    "l0 = [1,2,3]\n",
    "l1 = [4,5,6]\n",
    "\n",
    "l = l0 + l1\n",
    "print ('joint list:',l)"
   ]
  },
  {
   "cell_type": "markdown",
   "metadata": {},
   "source": [
    "**E1.3.2 Exercise**\n",
    "* copy the code from the cell above, but instead of lists, use tuples"
   ]
  },
  {
   "cell_type": "code",
   "execution_count": 349,
   "metadata": {},
   "outputs": [],
   "source": [
    "# do exercise here"
   ]
  },
  {
   "cell_type": "markdown",
   "metadata": {},
   "source": [
    "A common method associated with lists or tuples is:\n",
    "* `index()`\n",
    "\n",
    "Some useful methods that will operate on lists and tuples are:\n",
    "* `len()`\n",
    "* `sort()`\n",
    "* `min(),max()`\n",
    "\n"
   ]
  },
  {
   "cell_type": "code",
   "execution_count": 347,
   "metadata": {},
   "outputs": [
    {
     "name": "stdout",
     "output_type": "stream",
     "text": [
      "the index of 4 in (2, 8, 4, 32, 16) is 2\n",
      "the length of the <class 'tuple'> (2, 8, 4, 32, 16) is 5\n"
     ]
    }
   ],
   "source": [
    "l0 = (2,8,4,32,16)\n",
    "\n",
    "# print the index of the item integer 4 \n",
    "# in the tuple / list\n",
    "\n",
    "item_number = 4\n",
    "\n",
    "# Note the dot . here\n",
    "# as index is a method of the class list\n",
    "ind  = l0.index(item_number)\n",
    "\n",
    "# notice that this is different\n",
    "# as len() is not a list method, but \n",
    "# does operatate on lists/tuples\n",
    "# Note: do not use len as a variable name!\n",
    "llen = len(l0)\n",
    "\n",
    "# note the use of integers in the braces e.g. {0}\n",
    "# rather than empty braces as before. This allows us to\n",
    "# refer to particular items in the format argument list\n",
    "print('the index of {0} in {1} is {2}'.format(item_number,l0,ind))\n",
    "print('the length of the {0} {1} is {2}'.format(type(l0),l0,llen))"
   ]
  },
  {
   "cell_type": "markdown",
   "metadata": {},
   "source": [
    "\n",
    "**E1.3.3 Exercise**\n",
    "\n",
    "* copy the code to the block below, and test that this works with lists, as well as tuples\n",
    "* find the index of the integer 16 in the tuple/list\n",
    "* what is the index of the first item?\n",
    "* what is the length of the tuple/list?\n",
    "* what is the index of the last item?"
   ]
  },
  {
   "cell_type": "code",
   "execution_count": 51,
   "metadata": {},
   "outputs": [],
   "source": [
    "# do exercise here"
   ]
  },
  {
   "cell_type": "markdown",
   "metadata": {},
   "source": [
    "A list has a much richer set of methods than a tuple. This is because we can add or remove list items (but not tuple).\n",
    "\n",
    "* `insert(i,j)` : insert `j` beore item `i` in the list\n",
    "* `append(j)` : append `j` to the end of the list\n",
    "* `sort()` : sort the list\n",
    "\n",
    "This shows that tuples and lists are 'ordered' (i.e. they maintain the order they are loaded in) so that indiviual elements may be accessed through an 'index'. The index values start at 0 as we saw above. The index of the last element in a list/tuple is the length of the group, minus 1. This can also be referred to an index `-1`."
   ]
  },
  {
   "cell_type": "code",
   "execution_count": 348,
   "metadata": {},
   "outputs": [
    {
     "name": "stdout",
     "output_type": "stream",
     "text": [
      "the list [64, 2, 8, 4, 32, 128, 16, 256] once sorted is [2, 4, 8, 16, 32, 64, 128, 256]\n"
     ]
    }
   ],
   "source": [
    "l0 = [2,8,4,32,16]\n",
    "\n",
    "# insert 64 at the begining (before item 0)\n",
    "# Note that this inserts 'in place'\n",
    "# i.e. the list is changed by calling this\n",
    "l0.insert(0,64)\n",
    "\n",
    "\n",
    "# insert 128 *before* the last item (item -1)\n",
    "l0.insert(-1,128)\n",
    "\n",
    "# append 256 on the end\n",
    "l0.append(256)\n",
    "\n",
    "# copy the list \n",
    "# and sort the copy\n",
    "# Note the use of the copy() method here\n",
    "# to create a copy\n",
    "l1 = l0.copy()\n",
    "\n",
    "# Note that this sorts 'in place'\n",
    "# i.e. the list is changed by calling this\n",
    "l1.sort()\n",
    "\n",
    "print('the list {0} once sorted is {1}'.format(l0,l1))"
   ]
  },
  {
   "cell_type": "markdown",
   "metadata": {},
   "source": [
    "**E1.3.4 Exercise**\n",
    "\n",
    "* copy the above code and try out some different locations for inserting values (e.g. what does index `-2` mean?)\n",
    "* what happens if you take off the `.copy()` statement in the line `l1 = l0.copy()`, i.e. just use `l1 = l0`?  [Why is this?](https://www.afternerd.com/blog/python-copy-list/)"
   ]
  },
  {
   "cell_type": "code",
   "execution_count": 103,
   "metadata": {},
   "outputs": [],
   "source": [
    "# do exercise here"
   ]
  },
  {
   "cell_type": "markdown",
   "metadata": {},
   "source": [
    "### 1.2.3 `help`\n",
    "\n",
    "You can get help on an object using the `help()` method. This will return a full manual page of the class documentation."
   ]
  },
  {
   "cell_type": "code",
   "execution_count": 104,
   "metadata": {},
   "outputs": [
    {
     "name": "stdout",
     "output_type": "stream",
     "text": [
      "Help on class list in module builtins:\n",
      "\n",
      "class list(object)\n",
      " |  list() -> new empty list\n",
      " |  list(iterable) -> new list initialized from iterable's items\n",
      " |  \n",
      " |  Methods defined here:\n",
      " |  \n",
      " |  __add__(self, value, /)\n",
      " |      Return self+value.\n",
      " |  \n",
      " |  __contains__(self, key, /)\n",
      " |      Return key in self.\n",
      " |  \n",
      " |  __delitem__(self, key, /)\n",
      " |      Delete self[key].\n",
      " |  \n",
      " |  __eq__(self, value, /)\n",
      " |      Return self==value.\n",
      " |  \n",
      " |  __ge__(self, value, /)\n",
      " |      Return self>=value.\n",
      " |  \n",
      " |  __getattribute__(self, name, /)\n",
      " |      Return getattr(self, name).\n",
      " |  \n",
      " |  __getitem__(...)\n",
      " |      x.__getitem__(y) <==> x[y]\n",
      " |  \n",
      " |  __gt__(self, value, /)\n",
      " |      Return self>value.\n",
      " |  \n",
      " |  __iadd__(self, value, /)\n",
      " |      Implement self+=value.\n",
      " |  \n",
      " |  __imul__(self, value, /)\n",
      " |      Implement self*=value.\n",
      " |  \n",
      " |  __init__(self, /, *args, **kwargs)\n",
      " |      Initialize self.  See help(type(self)) for accurate signature.\n",
      " |  \n",
      " |  __iter__(self, /)\n",
      " |      Implement iter(self).\n",
      " |  \n",
      " |  __le__(self, value, /)\n",
      " |      Return self<=value.\n",
      " |  \n",
      " |  __len__(self, /)\n",
      " |      Return len(self).\n",
      " |  \n",
      " |  __lt__(self, value, /)\n",
      " |      Return self<value.\n",
      " |  \n",
      " |  __mul__(self, value, /)\n",
      " |      Return self*value.\n",
      " |  \n",
      " |  __ne__(self, value, /)\n",
      " |      Return self!=value.\n",
      " |  \n",
      " |  __new__(*args, **kwargs) from builtins.type\n",
      " |      Create and return a new object.  See help(type) for accurate signature.\n",
      " |  \n",
      " |  __repr__(self, /)\n",
      " |      Return repr(self).\n",
      " |  \n",
      " |  __reversed__(...)\n",
      " |      L.__reversed__() -- return a reverse iterator over the list\n",
      " |  \n",
      " |  __rmul__(self, value, /)\n",
      " |      Return value*self.\n",
      " |  \n",
      " |  __setitem__(self, key, value, /)\n",
      " |      Set self[key] to value.\n",
      " |  \n",
      " |  __sizeof__(...)\n",
      " |      L.__sizeof__() -- size of L in memory, in bytes\n",
      " |  \n",
      " |  append(...)\n",
      " |      L.append(object) -> None -- append object to end\n",
      " |  \n",
      " |  clear(...)\n",
      " |      L.clear() -> None -- remove all items from L\n",
      " |  \n",
      " |  copy(...)\n",
      " |      L.copy() -> list -- a shallow copy of L\n",
      " |  \n",
      " |  count(...)\n",
      " |      L.count(value) -> integer -- return number of occurrences of value\n",
      " |  \n",
      " |  extend(...)\n",
      " |      L.extend(iterable) -> None -- extend list by appending elements from the iterable\n",
      " |  \n",
      " |  index(...)\n",
      " |      L.index(value, [start, [stop]]) -> integer -- return first index of value.\n",
      " |      Raises ValueError if the value is not present.\n",
      " |  \n",
      " |  insert(...)\n",
      " |      L.insert(index, object) -- insert object before index\n",
      " |  \n",
      " |  pop(...)\n",
      " |      L.pop([index]) -> item -- remove and return item at index (default last).\n",
      " |      Raises IndexError if list is empty or index is out of range.\n",
      " |  \n",
      " |  remove(...)\n",
      " |      L.remove(value) -> None -- remove first occurrence of value.\n",
      " |      Raises ValueError if the value is not present.\n",
      " |  \n",
      " |  reverse(...)\n",
      " |      L.reverse() -- reverse *IN PLACE*\n",
      " |  \n",
      " |  sort(...)\n",
      " |      L.sort(key=None, reverse=False) -> None -- stable sort *IN PLACE*\n",
      " |  \n",
      " |  ----------------------------------------------------------------------\n",
      " |  Data and other attributes defined here:\n",
      " |  \n",
      " |  __hash__ = None\n",
      "\n"
     ]
    }
   ],
   "source": [
    "#the method help()\n",
    "help(list)"
   ]
  },
  {
   "cell_type": "markdown",
   "metadata": {},
   "source": [
    "You can get a shorter set of basic help by putting `?` after the object. \n",
    "\n",
    "In a notebook, this will show in a new window at the bottom of the book. You can get rid of this by clicking the x."
   ]
  },
  {
   "cell_type": "code",
   "execution_count": 37,
   "metadata": {},
   "outputs": [],
   "source": [
    "list?"
   ]
  },
  {
   "cell_type": "markdown",
   "metadata": {},
   "source": [
    "Another useful thing is to see a list of potential methods in a class. This is achieved by hitting the `<tab>` key, e.g."
   ]
  },
  {
   "cell_type": "code",
   "execution_count": 39,
   "metadata": {},
   "outputs": [],
   "source": [
    "# place the cursor after the `.` below\n",
    "# hit the <tab> key, rather than <return> in this cell\n",
    "# Dont run this cell\n",
    "list."
   ]
  },
  {
   "cell_type": "markdown",
   "metadata": {},
   "source": [
    "Really, this is just using the fact that `<tab>` key performs variable name completion.\n",
    "\n",
    "This means that if you e.g. have variables called `the_long_one` and `the_long_two` set:"
   ]
  },
  {
   "cell_type": "code",
   "execution_count": 40,
   "metadata": {},
   "outputs": [],
   "source": [
    "the_long_one = 1\n",
    "the_long_two = 2"
   ]
  },
  {
   "cell_type": "markdown",
   "metadata": {},
   "source": [
    "The next time you want to refer to this string in code, you need only type as many letters needed to distinguish this from other variable names, then hit `<tab>` to complete the name as far as possible."
   ]
  },
  {
   "cell_type": "markdown",
   "metadata": {},
   "source": [
    "**E1.3.5 Exercise**\n",
    "\n",
    "* in the cell below, place the cursor after the letter t and hit `<tab>`. It should show you a list of things that begin with `t`. \n",
    "* Use this to write the line of code `the_long_one = 1000`\n",
    "* in the cell below, place the cursor after the letters `th` and hit `<tab>`. It should show you a list of things that begin with `th`. In this case it should just give you the options of `the_long_one` or `the_long_two`. \n",
    "* If you hit `<tab>` again, the variable name will be completed as far as it can, here, up to `the_long_`. Use this to write the line of code `the_long_two = 2000`"
   ]
  },
  {
   "cell_type": "code",
   "execution_count": null,
   "metadata": {},
   "outputs": [],
   "source": [
    "# do exercise here ... put the cursor after the t or th and\n",
    "# use <tab> for completion. Dont run this cell\n",
    "t\n",
    "th"
   ]
  },
  {
   "cell_type": "markdown",
   "metadata": {},
   "source": [
    "### 1.3.3 Arrays: `np.array`\n",
    "\n",
    "An array is a group of objects of the same type. Because they are of the same type, they can be stored efficiently in compter memory, and also accessed efficiently.\n",
    "\n",
    "Whilst there are different ways of forming arrays, the most common is to use numpy arrays, using the package `numpy`. To use this, we must first import the package into the current workspace. We do this with the `import` method. Using the optional `as` statement allows us to use a shorter (or more suitable) name for the package. We will generally call numpy `np`, so we use:\n",
    "\n",
    "`import numpy as np`\n",
    "\n",
    "to import ('load') the numpy package. Quite often, we will want to plot datasets. This is typically done using the package `pylab`. We typically call that `plt`, so:\n",
    "\n",
    "`import pylab as plt`\n",
    "\n",
    "Often, we will read data from a file/URL as we did above for the ENSO dataset. In that case, we had to step through each item to convert from string form to floating point number.\n",
    "\n",
    "This sort of thing is much more simply done using numpy arrays.\n",
    "\n",
    "First, we will access the data similar to above (but separating the header and data blocks more directly).\n",
    "\n",
    "Then we loop over each line, using `splitlines()` and `split()` as above to generate 2-dimensional list of strings."
   ]
  },
  {
   "cell_type": "code",
   "execution_count": 381,
   "metadata": {},
   "outputs": [
    {
     "name": "stdout",
     "output_type": "stream",
     "text": [
      "['YEAR', 'DECJAN', 'JANFEB', 'FEBMAR', 'MARAPR', 'APRMAY', 'MAYJUN', 'JUNJUL', 'JULAUG', 'AUGSEP', 'SEPOCT', 'OCTNOV', 'NOVDEC']\n",
      "['1950', '-1.03', '-1.133', '-1.283', '-1.071', '-1.434', '-1.412', '-1.269', '-1.042', '-.597', '-.406', '-1.138', '-1.235']\n",
      "['1951', '-1.049', '-1.152', '-1.178', '-.511', '-.374', '.288', '.679', '.818', '.773', '.768', '.726', '.504']\n"
     ]
    }
   ],
   "source": [
    "import requests\n",
    "import numpy as np\n",
    "import pylab as plt\n",
    "\n",
    "# access dataset as above\n",
    "url = \"http://www.esrl.noaa.gov/psd/enso/mei/table.html\"\n",
    "txt = requests.get(url).text\n",
    "\n",
    "# copy the useful data\n",
    "start_head = txt.find('YEAR')\n",
    "start_data = txt.find('1950\\t')\n",
    "stop_data  = txt.find('2018\\t')\n",
    "\n",
    "header = txt[start_head:start_data].split()\n",
    "data_lines = [line.split() for line in txt[start_data:stop_data].splitlines()]\n",
    "\n",
    "print(header)\n",
    "\n",
    "# print the first few lines\n",
    "for i in 0,1:\n",
    "    print(data_lines[i])"
   ]
  },
  {
   "cell_type": "markdown",
   "metadata": {},
   "source": [
    "Now that we have the data split into an array of *regular shape* (notice that the number of items in each line is the same), we can convert this into a numpy array, and then use the method `astrype()` to convert all elements to a `float` data type."
   ]
  },
  {
   "cell_type": "markdown",
   "metadata": {},
   "source": [
    "\n"
   ]
  },
  {
   "cell_type": "code",
   "execution_count": 384,
   "metadata": {},
   "outputs": [
    {
     "name": "stdout",
     "output_type": "stream",
     "text": [
      "shape: (68, 13)\n",
      "size: 884\n",
      "type: float64\n"
     ]
    }
   ],
   "source": [
    "data = np.array(data_lines).astype(float)\n",
    "\n",
    "# print some attributes\n",
    "print('shape: {}\\nsize: {}\\ntype: {}'.format(data.shape,data.size,data.dtype))"
   ]
  },
  {
   "cell_type": "code",
   "execution_count": 387,
   "metadata": {},
   "outputs": [
    {
     "ename": "OSError",
     "evalue": "1950\t-1.03\t-1.133\t-1.283\t-1.071\t-1.434\t-1.412\t-1.269\t-1.042\t-.597\t-.406\t-1.138\t-1.235\n1951\t-1.049\t-1.152\t-1.178\t-.511\t-.374\t.288\t.679\t.818\t.773\t.768\t.726\t.504\n1952\t.433\t.138\t.071\t.224\t-.307\t-.756\t-.305\t-.374\t.347\t.306\t-.328\t-.098\n1953\t.044\t.401\t.277\t.687\t.756\t.191\t.382\t.209\t.527\t.124\t.099\t.351\n1954\t-.036\t-.027\t.154\t-.616\t-1.465\t-1.558\t-1.355\t-1.456\t-1.138\t-1.32\t-1.113\t-1.088\n1955\t-.74\t-.669\t-1.117\t-1.621\t-1.653\t-2.247\t-1.976\t-2.05\t-1.803\t-1.725\t-1.813\t-1.846\n1956\t-1.408\t-1.275\t-1.371\t-1.216\t-1.304\t-1.523\t-1.244\t-1.118\t-1.327\t-1.461\t-1.014\t-.993\n1957\t-.915\t-.348\t.108\t.383\t.813\t.73\t.926\t1.132\t1.158\t1.114\t1.167\t1.268\n1958\t1.473\t1.454\t1.313\t.991\t.673\t.812\t.7\t.421\t.209\t.237\t.501\t.691\n1959\t.553\t.81\t.502\t.202\t-.025\t-.062\t-.112\t.111\t.126\t-.038\t-.151\t-.247\n1960\t-.287\t-.253\t-.082\t.007\t-.322\t-.287\t-.318\t-.25\t-.439\t-.332\t-.308\t-.39\n1961\t-.15\t-.235\t-.073\t.017\t-.302\t-.185\t-.208\t-.3\t-.271\t-.51\t-.416\t-.608\n1962\t-1.065\t-.963\t-.692\t-1.04\t-.89\t-.87\t-.683\t-.538\t-.528\t-.642\t-.598\t-.482\n1963\t-.718\t-.837\t-.675\t-.761\t-.473\t-.144\t.404\t.59\t.778\t.848\t.866\t.765\n1964\t.878\t.481\t-.256\t-.545\t-1.234\t-1.15\t-1.384\t-1.486\t-1.284\t-1.196\t-1.211\t-.907\n1965\t-.536\t-.329\t-.259\t.086\t.464\t.867\t1.367\t1.425\t1.43\t1.25\t1.378\t1.27\n1966\t1.307\t1.186\t.689\t.515\t-.178\t-.193\t-.116\t.152\t-.06\t-.018\t.022\t-.181\n1967\t-.462\t-.898\t-1.05\t-1.03\t-.448\t-.236\t-.492\t-.391\t-.601\t-.655\t-.407\t-.357\n1968\t-.602\t-.727\t-.635\t-.944\t-1.093\t-.812\t-.503\t-.104\t.244\t.46\t.607\t.367\n1969\t.67\t.849\t.458\t.622\t.674\t.801\t.49\t.212\t.2\t.537\t.683\t.417\n1970\t.38\t.432\t.228\t.014\t-.099\t-.636\t-1.055\t-1.007\t-1.226\t-1.068\t-1.063\t-1.203\n1971\t-1.204\t-1.507\t-1.79\t-1.839\t-1.429\t-1.42\t-1.207\t-1.213\t-1.439\t-1.399\t-1.301\t-.969\n1972\t-.575\t-.398\t-.256\t-.166\t.423\t.966\t1.826\t1.8\t1.574\t1.667\t1.74\t1.787\n1973\t1.723\t1.515\t.87\t.491\t-.099\t-.758\t-1.056\t-1.334\t-1.712\t-1.65\t-1.482\t-1.826\n1974\t-1.912\t-1.768\t-1.743\t-1.62\t-1.048\t-.694\t-.75\t-.664\t-.599\t-1.031\t-1.23\t-.886\n1975\t-.522\t-.576\t-.85\t-.927\t-.838\t-1.148\t-1.497\t-1.712\t-1.853\t-1.968\t-1.748\t-1.732\n1976\t-1.587\t-1.366\t-1.213\t-1.157\t-.483\t.276\t.633\t.654\t1.064\t.978\t.511\t.565\n1977\t.529\t.29\t.145\t.552\t.31\t.414\t.888\t.684\t.824\t1.016\t.99\t.877\n1978\t.777\t.912\t.935\t.199\t-.378\t-.605\t-.42\t-.199\t-.364\t.003\t.203\t.406\n1979\t.608\t.379\t.002\t.301\t.374\t.429\t.396\t.615\t.801\t.694\t.759\t1.004\n1980\t.677\t.601\t.684\t.912\t.958\t.911\t.769\t.329\t.302\t.223\t.27\t.111\n1981\t-.25\t-.14\t.455\t.669\t.189\t-.024\t-.026\t-.09\t.209\t.132\t-.021\t-.126\n1982\t-.258\t-.125\t.1\t.008\t.443\t.93\t1.612\t1.778\t1.835\t2.061\t2.441\t2.425\n1983\t2.677\t2.931\t3.008\t2.812\t2.498\t2.235\t1.793\t1.159\t.507\t.056\t-.115\t-.17\n1984\t-.314\t-.509\t.151\t.39\t.18\t-.049\t-.054\t-.155\t-.085\t.026\t-.332\t-.585\n1985\t-.546\t-.576\t-.696\t-.468\t-.706\t-.166\t-.126\t-.365\t-.508\t-.119\t-.042\t-.279\n1986\t-.293\t-.183\t.028\t-.107\t.353\t.279\t.401\t.765\t1.116\t1.002\t.89\t1.202\n1987\t1.249\t1.218\t1.716\t1.855\t2.107\t1.958\t1.878\t1.973\t1.905\t1.671\t1.286\t1.293\n1988\t1.115\t.716\t.495\t.389\t.193\t-.582\t-1.109\t-1.295\t-1.501\t-1.313\t-1.447\t-1.311\n1989\t-1.103\t-1.241\t-1.035\t-.76\t-.393\t-.242\t-.43\t-.494\t-.287\t-.319\t-.058\t.131\n1990\t.243\t.573\t.951\t.46\t.652\t.511\t.147\t.127\t.398\t.303\t.4\t.362\n1991\t.319\t.323\t.399\t.449\t.741\t1.051\t1.044\t1.008\t.778\t1.031\t1.202\t1.34\n1992\t1.747\t1.886\t1.985\t2.247\t2.085\t1.735\t1.045\t.559\t.518\t.663\t.595\t.664\n1993\t.692\t.99\t.987\t1.408\t1.993\t1.616\t1.204\t1.026\t1.011\t1.09\t.848\t.595\n1994\t.352\t.193\t.159\t.465\t.58\t.803\t.904\t.762\t.931\t1.437\t1.312\t1.251\n1995\t1.219\t.959\t.845\t.453\t.57\t.507\t.234\t-.147\t-.416\t-.461\t-.463\t-.537\n1996\t-.597\t-.566\t-.236\t-.391\t-.041\t.087\t-.173\t-.374\t-.426\t-.338\t-.134\t-.325\n1997\t-.48\t-.605\t-.248\t.527\t1.132\t2.275\t2.825\t3.002\t3.057\t2.423\t2.551\t2.344\n1998\t2.455\t2.777\t2.751\t2.658\t2.206\t1.336\t.392\t-.336\t-.6\t-.789\t-1.069\t-.908\n1999\t-1.039\t-1.123\t-.95\t-.88\t-.596\t-.339\t-.478\t-.739\t-.937\t-.954\t-1.031\t-1.142\n2000\t-1.122\t-1.189\t-1.09\t-.397\t.251\t.001\t-.159\t-.145\t-.21\t-.367\t-.701\t-.55\n2001\t-.496\t-.649\t-.548\t-.05\t.282\t.052\t.297\t.332\t-.147\t-.255\t-.138\t.033\n2002\t.017\t-.16\t-.118\t.401\t.886\t.932\t.712\t1.002\t.921\t1.02\t1.101\t1.156\n2003\t1.214\t.944\t.83\t.413\t.214\t.107\t.177\t.309\t.492\t.534\t.584\t.362\n2004\t.332\t.37\t-.036\t.358\t.558\t.315\t.571\t.617\t.591\t.524\t.818\t.684\n2005\t.325\t.816\t1.057\t.626\t.885\t.589\t.519\t.343\t.329\t-.152\t-.374\t-.55\n2006\t-.428\t-.414\t-.521\t-.571\t.045\t.526\t.716\t.748\t.84\t.976\t1.297\t.965\n2007\t.985\t.537\t.125\t.026\t.348\t-.155\t-.248\t-.442\t-1.175\t-1.204\t-1.149\t-1.178\n2008\t-1.006\t-1.371\t-1.552\t-.858\t-.345\t.142\t.088\t-.269\t-.545\t-.681\t-.584\t-.646\n2009\t-.714\t-.69\t-.705\t-.106\t.326\t.751\t1.06\t1.05\t.745\t.924\t1.134\t1.059\n2010\t1.066\t1.526\t1.462\t.978\t.658\t-.228\t-1.103\t-1.671\t-1.86\t-1.888\t-1.472\t-1.558\n2011\t-1.719\t-1.544\t-1.554\t-1.387\t-.199\t-.003\t-.193\t-.517\t-.751\t-.917\t-.933\t-.945\n2012\t-.98\t-.675\t-.382\t.11\t.757\t.842\t1.126\t.607\t.351\t.097\t.141\t.111\n2013\t.103\t-.068\t-.026\t.09\t.205\t-.094\t-.314\t-.481\t-.125\t.148\t-.042\t-.234\n2014\t-.27\t-.259\t.018\t.295\t1.001\t1.046\t.915\t.937\t.593\t.45\t.773\t.566\n2015\t.417\t.464\t.614\t.916\t1.583\t2.097\t1.981\t2.334\t2.532\t2.256\t2.3\t2.12\n2016\t2.216\t2.17\t1.963\t2.094\t1.752\t1.053\t.352\t.167\t-.091\t-.363\t-.197\t-.11\n2017\t-.052\t-.043\t-.08\t.744\t1.445\t1.039\t.456\t.009\t-.449\t-.551\t-.277\t-.576\n not found.",
     "output_type": "error",
     "traceback": [
      "\u001b[0;31m---------------------------------------------------------------------------\u001b[0m",
      "\u001b[0;31mOSError\u001b[0m                                   Traceback (most recent call last)",
      "\u001b[0;32m<ipython-input-387-89d7d1927deb>\u001b[0m in \u001b[0;36m<module>\u001b[0;34m()\u001b[0m\n\u001b[0;32m----> 1\u001b[0;31m \u001b[0mnp\u001b[0m\u001b[0;34m.\u001b[0m\u001b[0mgenfromtxt\u001b[0m\u001b[0;34m(\u001b[0m\u001b[0mtxt\u001b[0m\u001b[0;34m[\u001b[0m\u001b[0mstart_data\u001b[0m\u001b[0;34m:\u001b[0m\u001b[0mstop_data\u001b[0m\u001b[0;34m]\u001b[0m\u001b[0;34m)\u001b[0m\u001b[0;34m\u001b[0m\u001b[0m\n\u001b[0m",
      "\u001b[0;32m/anaconda3/envs/geog0111/lib/python3.6/site-packages/numpy/lib/npyio.py\u001b[0m in \u001b[0;36mgenfromtxt\u001b[0;34m(fname, dtype, comments, delimiter, skip_header, skip_footer, converters, missing_values, filling_values, usecols, names, excludelist, deletechars, replace_space, autostrip, case_sensitive, defaultfmt, unpack, usemask, loose, invalid_raise, max_rows, encoding)\u001b[0m\n\u001b[1;32m   1698\u001b[0m             \u001b[0mfname\u001b[0m \u001b[0;34m=\u001b[0m \u001b[0mstr\u001b[0m\u001b[0;34m(\u001b[0m\u001b[0mfname\u001b[0m\u001b[0;34m)\u001b[0m\u001b[0;34m\u001b[0m\u001b[0m\n\u001b[1;32m   1699\u001b[0m         \u001b[0;32mif\u001b[0m \u001b[0misinstance\u001b[0m\u001b[0;34m(\u001b[0m\u001b[0mfname\u001b[0m\u001b[0;34m,\u001b[0m \u001b[0mbasestring\u001b[0m\u001b[0;34m)\u001b[0m\u001b[0;34m:\u001b[0m\u001b[0;34m\u001b[0m\u001b[0m\n\u001b[0;32m-> 1700\u001b[0;31m             \u001b[0mfhd\u001b[0m \u001b[0;34m=\u001b[0m \u001b[0miter\u001b[0m\u001b[0;34m(\u001b[0m\u001b[0mnp\u001b[0m\u001b[0;34m.\u001b[0m\u001b[0mlib\u001b[0m\u001b[0;34m.\u001b[0m\u001b[0m_datasource\u001b[0m\u001b[0;34m.\u001b[0m\u001b[0mopen\u001b[0m\u001b[0;34m(\u001b[0m\u001b[0mfname\u001b[0m\u001b[0;34m,\u001b[0m \u001b[0;34m'rt'\u001b[0m\u001b[0;34m,\u001b[0m \u001b[0mencoding\u001b[0m\u001b[0;34m=\u001b[0m\u001b[0mencoding\u001b[0m\u001b[0;34m)\u001b[0m\u001b[0;34m)\u001b[0m\u001b[0;34m\u001b[0m\u001b[0m\n\u001b[0m\u001b[1;32m   1701\u001b[0m             \u001b[0mown_fhd\u001b[0m \u001b[0;34m=\u001b[0m \u001b[0;32mTrue\u001b[0m\u001b[0;34m\u001b[0m\u001b[0m\n\u001b[1;32m   1702\u001b[0m         \u001b[0;32melse\u001b[0m\u001b[0;34m:\u001b[0m\u001b[0;34m\u001b[0m\u001b[0m\n",
      "\u001b[0;32m/anaconda3/envs/geog0111/lib/python3.6/site-packages/numpy/lib/_datasource.py\u001b[0m in \u001b[0;36mopen\u001b[0;34m(path, mode, destpath, encoding, newline)\u001b[0m\n\u001b[1;32m    260\u001b[0m \u001b[0;34m\u001b[0m\u001b[0m\n\u001b[1;32m    261\u001b[0m     \u001b[0mds\u001b[0m \u001b[0;34m=\u001b[0m \u001b[0mDataSource\u001b[0m\u001b[0;34m(\u001b[0m\u001b[0mdestpath\u001b[0m\u001b[0;34m)\u001b[0m\u001b[0;34m\u001b[0m\u001b[0m\n\u001b[0;32m--> 262\u001b[0;31m     \u001b[0;32mreturn\u001b[0m \u001b[0mds\u001b[0m\u001b[0;34m.\u001b[0m\u001b[0mopen\u001b[0m\u001b[0;34m(\u001b[0m\u001b[0mpath\u001b[0m\u001b[0;34m,\u001b[0m \u001b[0mmode\u001b[0m\u001b[0;34m,\u001b[0m \u001b[0mencoding\u001b[0m\u001b[0;34m=\u001b[0m\u001b[0mencoding\u001b[0m\u001b[0;34m,\u001b[0m \u001b[0mnewline\u001b[0m\u001b[0;34m=\u001b[0m\u001b[0mnewline\u001b[0m\u001b[0;34m)\u001b[0m\u001b[0;34m\u001b[0m\u001b[0m\n\u001b[0m\u001b[1;32m    263\u001b[0m \u001b[0;34m\u001b[0m\u001b[0m\n\u001b[1;32m    264\u001b[0m \u001b[0;34m\u001b[0m\u001b[0m\n",
      "\u001b[0;32m/anaconda3/envs/geog0111/lib/python3.6/site-packages/numpy/lib/_datasource.py\u001b[0m in \u001b[0;36mopen\u001b[0;34m(self, path, mode, encoding, newline)\u001b[0m\n\u001b[1;32m    616\u001b[0m                                       encoding=encoding, newline=newline)\n\u001b[1;32m    617\u001b[0m         \u001b[0;32melse\u001b[0m\u001b[0;34m:\u001b[0m\u001b[0;34m\u001b[0m\u001b[0m\n\u001b[0;32m--> 618\u001b[0;31m             \u001b[0;32mraise\u001b[0m \u001b[0mIOError\u001b[0m\u001b[0;34m(\u001b[0m\u001b[0;34m\"%s not found.\"\u001b[0m \u001b[0;34m%\u001b[0m \u001b[0mpath\u001b[0m\u001b[0;34m)\u001b[0m\u001b[0;34m\u001b[0m\u001b[0m\n\u001b[0m\u001b[1;32m    619\u001b[0m \u001b[0;34m\u001b[0m\u001b[0m\n\u001b[1;32m    620\u001b[0m \u001b[0;34m\u001b[0m\u001b[0m\n",
      "\u001b[0;31mOSError\u001b[0m: 1950\t-1.03\t-1.133\t-1.283\t-1.071\t-1.434\t-1.412\t-1.269\t-1.042\t-.597\t-.406\t-1.138\t-1.235\n1951\t-1.049\t-1.152\t-1.178\t-.511\t-.374\t.288\t.679\t.818\t.773\t.768\t.726\t.504\n1952\t.433\t.138\t.071\t.224\t-.307\t-.756\t-.305\t-.374\t.347\t.306\t-.328\t-.098\n1953\t.044\t.401\t.277\t.687\t.756\t.191\t.382\t.209\t.527\t.124\t.099\t.351\n1954\t-.036\t-.027\t.154\t-.616\t-1.465\t-1.558\t-1.355\t-1.456\t-1.138\t-1.32\t-1.113\t-1.088\n1955\t-.74\t-.669\t-1.117\t-1.621\t-1.653\t-2.247\t-1.976\t-2.05\t-1.803\t-1.725\t-1.813\t-1.846\n1956\t-1.408\t-1.275\t-1.371\t-1.216\t-1.304\t-1.523\t-1.244\t-1.118\t-1.327\t-1.461\t-1.014\t-.993\n1957\t-.915\t-.348\t.108\t.383\t.813\t.73\t.926\t1.132\t1.158\t1.114\t1.167\t1.268\n1958\t1.473\t1.454\t1.313\t.991\t.673\t.812\t.7\t.421\t.209\t.237\t.501\t.691\n1959\t.553\t.81\t.502\t.202\t-.025\t-.062\t-.112\t.111\t.126\t-.038\t-.151\t-.247\n1960\t-.287\t-.253\t-.082\t.007\t-.322\t-.287\t-.318\t-.25\t-.439\t-.332\t-.308\t-.39\n1961\t-.15\t-.235\t-.073\t.017\t-.302\t-.185\t-.208\t-.3\t-.271\t-.51\t-.416\t-.608\n1962\t-1.065\t-.963\t-.692\t-1.04\t-.89\t-.87\t-.683\t-.538\t-.528\t-.642\t-.598\t-.482\n1963\t-.718\t-.837\t-.675\t-.761\t-.473\t-.144\t.404\t.59\t.778\t.848\t.866\t.765\n1964\t.878\t.481\t-.256\t-.545\t-1.234\t-1.15\t-1.384\t-1.486\t-1.284\t-1.196\t-1.211\t-.907\n1965\t-.536\t-.329\t-.259\t.086\t.464\t.867\t1.367\t1.425\t1.43\t1.25\t1.378\t1.27\n1966\t1.307\t1.186\t.689\t.515\t-.178\t-.193\t-.116\t.152\t-.06\t-.018\t.022\t-.181\n1967\t-.462\t-.898\t-1.05\t-1.03\t-.448\t-.236\t-.492\t-.391\t-.601\t-.655\t-.407\t-.357\n1968\t-.602\t-.727\t-.635\t-.944\t-1.093\t-.812\t-.503\t-.104\t.244\t.46\t.607\t.367\n1969\t.67\t.849\t.458\t.622\t.674\t.801\t.49\t.212\t.2\t.537\t.683\t.417\n1970\t.38\t.432\t.228\t.014\t-.099\t-.636\t-1.055\t-1.007\t-1.226\t-1.068\t-1.063\t-1.203\n1971\t-1.204\t-1.507\t-1.79\t-1.839\t-1.429\t-1.42\t-1.207\t-1.213\t-1.439\t-1.399\t-1.301\t-.969\n1972\t-.575\t-.398\t-.256\t-.166\t.423\t.966\t1.826\t1.8\t1.574\t1.667\t1.74\t1.787\n1973\t1.723\t1.515\t.87\t.491\t-.099\t-.758\t-1.056\t-1.334\t-1.712\t-1.65\t-1.482\t-1.826\n1974\t-1.912\t-1.768\t-1.743\t-1.62\t-1.048\t-.694\t-.75\t-.664\t-.599\t-1.031\t-1.23\t-.886\n1975\t-.522\t-.576\t-.85\t-.927\t-.838\t-1.148\t-1.497\t-1.712\t-1.853\t-1.968\t-1.748\t-1.732\n1976\t-1.587\t-1.366\t-1.213\t-1.157\t-.483\t.276\t.633\t.654\t1.064\t.978\t.511\t.565\n1977\t.529\t.29\t.145\t.552\t.31\t.414\t.888\t.684\t.824\t1.016\t.99\t.877\n1978\t.777\t.912\t.935\t.199\t-.378\t-.605\t-.42\t-.199\t-.364\t.003\t.203\t.406\n1979\t.608\t.379\t.002\t.301\t.374\t.429\t.396\t.615\t.801\t.694\t.759\t1.004\n1980\t.677\t.601\t.684\t.912\t.958\t.911\t.769\t.329\t.302\t.223\t.27\t.111\n1981\t-.25\t-.14\t.455\t.669\t.189\t-.024\t-.026\t-.09\t.209\t.132\t-.021\t-.126\n1982\t-.258\t-.125\t.1\t.008\t.443\t.93\t1.612\t1.778\t1.835\t2.061\t2.441\t2.425\n1983\t2.677\t2.931\t3.008\t2.812\t2.498\t2.235\t1.793\t1.159\t.507\t.056\t-.115\t-.17\n1984\t-.314\t-.509\t.151\t.39\t.18\t-.049\t-.054\t-.155\t-.085\t.026\t-.332\t-.585\n1985\t-.546\t-.576\t-.696\t-.468\t-.706\t-.166\t-.126\t-.365\t-.508\t-.119\t-.042\t-.279\n1986\t-.293\t-.183\t.028\t-.107\t.353\t.279\t.401\t.765\t1.116\t1.002\t.89\t1.202\n1987\t1.249\t1.218\t1.716\t1.855\t2.107\t1.958\t1.878\t1.973\t1.905\t1.671\t1.286\t1.293\n1988\t1.115\t.716\t.495\t.389\t.193\t-.582\t-1.109\t-1.295\t-1.501\t-1.313\t-1.447\t-1.311\n1989\t-1.103\t-1.241\t-1.035\t-.76\t-.393\t-.242\t-.43\t-.494\t-.287\t-.319\t-.058\t.131\n1990\t.243\t.573\t.951\t.46\t.652\t.511\t.147\t.127\t.398\t.303\t.4\t.362\n1991\t.319\t.323\t.399\t.449\t.741\t1.051\t1.044\t1.008\t.778\t1.031\t1.202\t1.34\n1992\t1.747\t1.886\t1.985\t2.247\t2.085\t1.735\t1.045\t.559\t.518\t.663\t.595\t.664\n1993\t.692\t.99\t.987\t1.408\t1.993\t1.616\t1.204\t1.026\t1.011\t1.09\t.848\t.595\n1994\t.352\t.193\t.159\t.465\t.58\t.803\t.904\t.762\t.931\t1.437\t1.312\t1.251\n1995\t1.219\t.959\t.845\t.453\t.57\t.507\t.234\t-.147\t-.416\t-.461\t-.463\t-.537\n1996\t-.597\t-.566\t-.236\t-.391\t-.041\t.087\t-.173\t-.374\t-.426\t-.338\t-.134\t-.325\n1997\t-.48\t-.605\t-.248\t.527\t1.132\t2.275\t2.825\t3.002\t3.057\t2.423\t2.551\t2.344\n1998\t2.455\t2.777\t2.751\t2.658\t2.206\t1.336\t.392\t-.336\t-.6\t-.789\t-1.069\t-.908\n1999\t-1.039\t-1.123\t-.95\t-.88\t-.596\t-.339\t-.478\t-.739\t-.937\t-.954\t-1.031\t-1.142\n2000\t-1.122\t-1.189\t-1.09\t-.397\t.251\t.001\t-.159\t-.145\t-.21\t-.367\t-.701\t-.55\n2001\t-.496\t-.649\t-.548\t-.05\t.282\t.052\t.297\t.332\t-.147\t-.255\t-.138\t.033\n2002\t.017\t-.16\t-.118\t.401\t.886\t.932\t.712\t1.002\t.921\t1.02\t1.101\t1.156\n2003\t1.214\t.944\t.83\t.413\t.214\t.107\t.177\t.309\t.492\t.534\t.584\t.362\n2004\t.332\t.37\t-.036\t.358\t.558\t.315\t.571\t.617\t.591\t.524\t.818\t.684\n2005\t.325\t.816\t1.057\t.626\t.885\t.589\t.519\t.343\t.329\t-.152\t-.374\t-.55\n2006\t-.428\t-.414\t-.521\t-.571\t.045\t.526\t.716\t.748\t.84\t.976\t1.297\t.965\n2007\t.985\t.537\t.125\t.026\t.348\t-.155\t-.248\t-.442\t-1.175\t-1.204\t-1.149\t-1.178\n2008\t-1.006\t-1.371\t-1.552\t-.858\t-.345\t.142\t.088\t-.269\t-.545\t-.681\t-.584\t-.646\n2009\t-.714\t-.69\t-.705\t-.106\t.326\t.751\t1.06\t1.05\t.745\t.924\t1.134\t1.059\n2010\t1.066\t1.526\t1.462\t.978\t.658\t-.228\t-1.103\t-1.671\t-1.86\t-1.888\t-1.472\t-1.558\n2011\t-1.719\t-1.544\t-1.554\t-1.387\t-.199\t-.003\t-.193\t-.517\t-.751\t-.917\t-.933\t-.945\n2012\t-.98\t-.675\t-.382\t.11\t.757\t.842\t1.126\t.607\t.351\t.097\t.141\t.111\n2013\t.103\t-.068\t-.026\t.09\t.205\t-.094\t-.314\t-.481\t-.125\t.148\t-.042\t-.234\n2014\t-.27\t-.259\t.018\t.295\t1.001\t1.046\t.915\t.937\t.593\t.45\t.773\t.566\n2015\t.417\t.464\t.614\t.916\t1.583\t2.097\t1.981\t2.334\t2.532\t2.256\t2.3\t2.12\n2016\t2.216\t2.17\t1.963\t2.094\t1.752\t1.053\t.352\t.167\t-.091\t-.363\t-.197\t-.11\n2017\t-.052\t-.043\t-.08\t.744\t1.445\t1.039\t.456\t.009\t-.449\t-.551\t-.277\t-.576\n not found."
     ]
    }
   ],
   "source": [
    "np.genfromtxt(txt[start_data:stop_data])"
   ]
  },
  {
   "cell_type": "code",
   "execution_count": null,
   "metadata": {},
   "outputs": [],
   "source": []
  }
 ],
 "metadata": {
  "kernelspec": {
   "display_name": "Python 3",
   "language": "python",
   "name": "python3"
  },
  "language_info": {
   "codemirror_mode": {
    "name": "ipython",
    "version": 3
   },
   "file_extension": ".py",
   "mimetype": "text/x-python",
   "name": "python",
   "nbconvert_exporter": "python",
   "pygments_lexer": "ipython3",
   "version": "3.6.6"
  },
  "latex_envs": {
   "LaTeX_envs_menu_present": true,
   "autocomplete": true,
   "bibliofile": "biblio.bib",
   "cite_by": "apalike",
   "current_citInitial": 1,
   "eqLabelWithNumbers": true,
   "eqNumInitial": 1,
   "hotkeys": {
    "equation": "Ctrl-E",
    "itemize": "Ctrl-I"
   },
   "labels_anchors": false,
   "latex_user_defs": false,
   "report_style_numbering": false,
   "user_envs_cfg": false
  },
  "toc": {
   "base_numbering": 1,
   "nav_menu": {},
   "number_sections": false,
   "sideBar": true,
   "skip_h1_title": false,
   "title_cell": "Table of Contents",
   "title_sidebar": "Contents",
   "toc_cell": true,
   "toc_position": {
    "height": "calc(100% - 180px)",
    "left": "10px",
    "top": "150px",
    "width": "207px"
   },
   "toc_section_display": true,
   "toc_window_display": true
  }
 },
 "nbformat": 4,
 "nbformat_minor": 1
}
