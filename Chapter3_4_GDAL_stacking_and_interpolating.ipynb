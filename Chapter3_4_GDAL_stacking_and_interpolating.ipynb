{
 "cells": [
  {
   "cell_type": "markdown",
   "metadata": {},
   "source": [
    "# 3.4 Stacking and interpolating data"
   ]
  },
  {
   "cell_type": "markdown",
   "metadata": {
    "toc": true
   },
   "source": [
    "<h1>Table of Contents<span class=\"tocSkip\"></span></h1>\n",
    "<div class=\"toc\"><ul class=\"toc-item\"><li><span><a href=\"#3.4-Stacking-and-interpolating-data\" data-toc-modified-id=\"3.4-Stacking-and-interpolating-data-1\">3.4 Stacking and interpolating data</a></span><ul class=\"toc-item\"><li><span><a href=\"#3.4.1-Introduction\" data-toc-modified-id=\"3.4.1-Introduction-1.1\">3.4.1 Introduction</a></span><ul class=\"toc-item\"><li><span><a href=\"#3.4.1.1-Test-your-login\" data-toc-modified-id=\"3.4.1.1-Test-your-login-1.1.1\">3.4.1.1 Test your login</a></span></li><li><span><a href=\"#3.4.1.2-Get-the-datasets-for-today\" data-toc-modified-id=\"3.4.1.2-Get-the-datasets-for-today-1.1.2\">3.4.1.2 Get the datasets for today</a></span></li></ul></li><li><span><a href=\"#3.4.2-A-time-series\" data-toc-modified-id=\"3.4.2-A-time-series-1.2\">3.4.2 A time series</a></span></li></ul></li></ul></div>"
   ]
  },
  {
   "cell_type": "markdown",
   "metadata": {},
   "source": [
    "[[up to 3.0](Chapter3_1_GDAL.ipynb)]\n",
    "\n",
    "\n",
    "## 3.4.1 Introduction\n",
    "\n",
    "In this section, we will:\n",
    "\n",
    "* develop code to produce a stacked dataset of spatio-temporal data on a grid\n",
    "* interpolate over any missing data\n",
    "* smooth the dataset\n",
    "\n",
    "### 3.4.1.1 Test your login\n",
    "\n",
    "Let's first test your NASA login:"
   ]
  },
  {
   "cell_type": "code",
   "execution_count": null,
   "metadata": {},
   "outputs": [],
   "source": [
    "import geog0111.nasa_requests as nasa_requests\n",
    "from geog0111.cylog import cylog\n",
    "%matplotlib inline\n",
    "\n",
    "url = 'https://e4ftl01.cr.usgs.gov/MOTA/MCD15A3H.006/2018.09.30/' \n",
    "        \n",
    "# grab the HTML information\n",
    "try:\n",
    "    html = nasa_requests.get(url).text\n",
    "    # test a few lines of the html\n",
    "    if html[:20] == '<!DOCTYPE HTML PUBLI':\n",
    "        print('this seems to be ok ... ')\n",
    "        print('use cylog().login() anywhere you need to specify the tuple (username,password)')\n",
    "except:\n",
    "    print('login error ... try entering your username password again')\n",
    "    print('then re-run this cell until it works')\n",
    "    cylog(init=True)"
   ]
  },
  {
   "cell_type": "markdown",
   "metadata": {},
   "source": [
    "### 3.4.1.2 Get the datasets for today\n",
    "\n",
    "Now let's get the datasets we need for today.\n",
    "\n",
    "**You should run this section before the class starts to save time.**\n",
    "\n",
    "You are given the relevant filenames (for 2016 and 2017 `MCD15A3H` data for the tiles `h1[7-8]v0[3-4]`) in the files [`data/lai_filelist_{year}.dat.txt`](data/lai_filelist_2016.dat.txt). The datasets have been pre-downloaded for this exercise, but you need to copy then to the local filespace:"
   ]
  },
  {
   "cell_type": "code",
   "execution_count": 15,
   "metadata": {
    "scrolled": false
   },
   "outputs": [
    {
     "name": "stdout",
     "output_type": "stream",
     "text": [
      "\n",
      " 2016\n",
      " ****\n",
      "HDF4_EOS:EOS_GRID:\"data/MCD15A3H.A2016001.h17v03.006.2016007075833.hdf\":MOD_Grid_MCD15A3H:Lai_500m\n",
      "HDF4_EOS:EOS_GRID:\"data/MCD15A3H.A2016001.h17v04.006.2016007074809.hdf\":MOD_Grid_MCD15A3H:Lai_500m\n",
      "HDF4_EOS:EOS_GRID:\"data/MCD15A3H.A2016001.h18v03.006.2016007073724.hdf\":MOD_Grid_MCD15A3H:Lai_500m\n",
      "HDF4_EOS:EOS_GRID:\"data/MCD15A3H.A2016001.h18v04.006.2016007073726.hdf\":MOD_Grid_MCD15A3H:Lai_500m\n",
      "HDF4_EOS:EOS_GRID:\"data/MCD15A3H.A2016005.h17v03.006.2016013012017.hdf\":MOD_Grid_MCD15A3H:Lai_500m\n",
      "HDF4_EOS:EOS_GRID:\"data/MCD15A3H.A2016005.h17v04.006.2016013011406.hdf\":MOD_Grid_MCD15A3H:Lai_500m\n",
      "HDF4_EOS:EOS_GRID:\"data/MCD15A3H.A2016005.h18v03.006.2016013012348.hdf\":MOD_Grid_MCD15A3H:Lai_500m\n",
      "HDF4_EOS:EOS_GRID:\"data/MCD15A3H.A2016005.h18v04.006.2016013012025.hdf\":MOD_Grid_MCD15A3H:Lai_500m\n",
      "\n",
      " 2017\n",
      " ****\n",
      "HDF4_EOS:EOS_GRID:\"data/MCD15A3H.A2017001.h17v03.006.2017014005341.hdf\":MOD_Grid_MCD15A3H:Lai_500m\n",
      "HDF4_EOS:EOS_GRID:\"data/MCD15A3H.A2017001.h17v04.006.2017014005344.hdf\":MOD_Grid_MCD15A3H:Lai_500m\n",
      "HDF4_EOS:EOS_GRID:\"data/MCD15A3H.A2017001.h18v03.006.2017014005401.hdf\":MOD_Grid_MCD15A3H:Lai_500m\n",
      "HDF4_EOS:EOS_GRID:\"data/MCD15A3H.A2017001.h18v04.006.2017014005359.hdf\":MOD_Grid_MCD15A3H:Lai_500m\n",
      "HDF4_EOS:EOS_GRID:\"data/MCD15A3H.A2017005.h17v03.006.2017017141758.hdf\":MOD_Grid_MCD15A3H:Lai_500m\n",
      "HDF4_EOS:EOS_GRID:\"data/MCD15A3H.A2017005.h17v04.006.2017017141805.hdf\":MOD_Grid_MCD15A3H:Lai_500m\n",
      "HDF4_EOS:EOS_GRID:\"data/MCD15A3H.A2017005.h18v03.006.2017017141813.hdf\":MOD_Grid_MCD15A3H:Lai_500m\n",
      "HDF4_EOS:EOS_GRID:\"data/MCD15A3H.A2017005.h18v04.006.2017017141824.hdf\":MOD_Grid_MCD15A3H:Lai_500m\n"
     ]
    }
   ],
   "source": [
    "from geog0111.geog_data import *\n",
    "\n",
    "destination_folder = 'data'\n",
    "\n",
    "# we have the filenames provided \n",
    "# in data/lai_filelist_2016.dat.txt\n",
    "for year in [2016,2017]:\n",
    "    control_file = f'data/lai_filelist_{year}.dat.txt'\n",
    "    # read the ascii data from the file in\n",
    "    filenames = open(control_file).read().split()\n",
    "\n",
    "    # get the local files\n",
    "    # set verbose=True if you want to see what is happening\n",
    "    # in procure_dataset()\n",
    "    done = [procure_dataset(f,\\\n",
    "                verbose=False,\\\n",
    "                destination_folder=destination_folder) \n",
    "                                    for f in filenames]\n",
    "    # done should be all True if this has worked\n",
    "    # its length should be the number of files copied\n",
    "\n",
    "    # get the dataset names\n",
    "    dataset_names = [f'HDF4_EOS:EOS_GRID:\"{destination_folder}/{file_name:s}\":MOD_Grid_MCD15A3H:Lai_500m'\n",
    "                   for file_name in filenames]\n",
    "\n",
    "    # print the first 8 in the list, just to see it looks ok\n",
    "    print(f'\\n {year}\\n','*'*len(str(year)))\n",
    "    for f in dataset_names[:8]:\n",
    "        print (f)\n"
   ]
  },
  {
   "cell_type": "markdown",
   "metadata": {},
   "source": [
    "## 3.4.2 A time series\n",
    "\n",
    "You should now know how to access and download datasets from the NASA servers and have developed functions to do this.\n",
    "\n",
    "You should also know how to select a dataset from a set of hdf files, and mosaic, mask and crop the data to correspond to some vector boundary. This is a very common task in geospatial processing.\n",
    "\n",
    "We now consider the case where we want to analyse a time series of data. We will use LAI over time to exemplify this.\n",
    "\n"
   ]
  },
  {
   "cell_type": "code",
   "execution_count": 18,
   "metadata": {},
   "outputs": [],
   "source": [
    "import gdal\n",
    "import numpy as np\n",
    "\n",
    "opfile = 'tmp/xx_'\n",
    "\n",
    "vrts = []\n",
    "for i in range(0,len(dataset_names),4):\n",
    "    # build spatial dataset called f'{opfile}{i:03d}.vrt'\n",
    "    g = gdal.BuildVRT(f'{opfile}{i:03d}.vrt', dataset_names[i:i+4])\n",
    "    g = gdal.Warp(f'{opfile}{i:03d}_clip.tif',\n",
    "                   f'{opfile}{i:03d}.vrt',\n",
    "                   format = 'GTiff', dstNodata=200,\n",
    "                   cutlineDSName='data/TM_WORLD_BORDERS-0.3.shp',\n",
    "                   cutlineWhere = \"FIPS='BE'\",\n",
    "                   cropToCutline=True)\n",
    "    vrts.append(f'{opfile}{i:03d}_clip.tif')\n",
    "    \n",
    "# now build the timer series\n",
    "g = gdal.BuildVRT(f'{opfile}all.vrt', vrts,separate=True)"
   ]
  },
  {
   "cell_type": "code",
   "execution_count": 30,
   "metadata": {},
   "outputs": [],
   "source": [
    "import gdal\n",
    "import numpy as np\n",
    "\n",
    "opfile = 'tmp/xx_'\n",
    "\n",
    "vrts = []\n",
    "for i in range(0,len(dataset_names),4):\n",
    "    # build spatial dataset called f'{opfile}{i:03d}.vrt'\n",
    "    g = gdal.BuildVRT(f'{opfile}{i:03d}.vrt', dataset_names[i:i+4])\n",
    "    g = gdal.Warp(f'{opfile}{i:03d}_clip.vrt',\n",
    "                   f'{opfile}{i:03d}.vrt',\n",
    "                   format = 'VRT', dstNodata=200,\n",
    "                   cutlineDSName='data/TM_WORLD_BORDERS-0.3.shp',\n",
    "                   cutlineWhere = \"FIPS='BE'\",\n",
    "                   cropToCutline=True)\n",
    "    vrts.append(f'{opfile}{i:03d}_clip.vrt')\n",
    "    \n",
    "# now build the timer series\n",
    "g = gdal.BuildVRT(f'{opfile}all.vrt', vrts,separate=True)"
   ]
  },
  {
   "cell_type": "code",
   "execution_count": 31,
   "metadata": {},
   "outputs": [
    {
     "name": "stdout",
     "output_type": "stream",
     "text": [
      "(92, 480, 597)\n"
     ]
    }
   ],
   "source": [
    "import gdal\n",
    "import numpy as np\n",
    "opfile = 'tmp/xx_'\n",
    "\n",
    "g = gdal.Open(f'{opfile}all.vrt')\n",
    "lai = np.array([g.GetRasterBand(b+1).ReadAsArray() for b in range(g.RasterCount)]).astype(float) * 0.1 # for LAI scaling\n",
    "print(lai.shape)"
   ]
  },
  {
   "cell_type": "code",
   "execution_count": 32,
   "metadata": {},
   "outputs": [
    {
     "data": {
      "text/plain": [
       "[<matplotlib.lines.Line2D at 0x13d276cf8>]"
      ]
     },
     "execution_count": 32,
     "metadata": {},
     "output_type": "execute_result"
    },
    {
     "data": {
      "image/png": "[encoded data removed]",
      "text/plain": [
       "<Figure size 432x288 with 1 Axes>"
      ]
     },
     "metadata": {
      "needs_background": "light"
     },
     "output_type": "display_data"
    }
   ],
   "source": [
    "import matplotlib.pylab as plt\n",
    "%matplotlib inline\n",
    "\n",
    "plt.plot(lai[:,100,100])"
   ]
  },
  {
   "cell_type": "code",
   "execution_count": null,
   "metadata": {},
   "outputs": [],
   "source": [
    "    import imageio\n",
    "    from glob import glob\n",
    "    images = []\n",
    "    filenames = sorted(glob('images/f_iso_0.???.png'))\n",
    "    for filename in filenames:\n",
    "        images.append(imageio.imread(filename))\n",
    "    imageio.mimsave('images/movie.gif', images)"
   ]
  },
  {
   "cell_type": "code",
   "execution_count": null,
   "metadata": {},
   "outputs": [],
   "source": [
    "g = gdal.Open(f'{opfile}all.vrt')\n",
    "lai = np.array(g.ReadAsArray()).astype(float) * 0.1 # for LAI scaling\n",
    "print(lai.shape)\n",
    "\n",
    "\n"
   ]
  },
  {
   "cell_type": "code",
   "execution_count": null,
   "metadata": {},
   "outputs": [],
   "source": [
    "print(lai.shape)"
   ]
  },
  {
   "cell_type": "code",
   "execution_count": null,
   "metadata": {},
   "outputs": [],
   "source": [
    "g = gdal.Warp('', , \n",
    "                  format = 'MEM', dstNodata=200,\n",
    "                  cutlineDSName = \"data/TM_WORLD_BORDERS-0.3.shp\",\n",
    "                  cutlineWhere = \"FIPS='BE'\")\n",
    "print(g)"
   ]
  },
  {
   "cell_type": "code",
   "execution_count": null,
   "metadata": {},
   "outputs": [],
   "source": [
    "print(g)\n",
    "lai = np.array(g.ReadAsArray()).astype(float) * 0.1 # for LAI scaling\n",
    "print(lai.shape)"
   ]
  },
  {
   "cell_type": "code",
   "execution_count": null,
   "metadata": {},
   "outputs": [],
   "source": [
    "\n",
    "lai = np.array(stitch_vrt.ReadAsArray()).astype(float) * 0.1\n",
    "print (lai.shape)\n",
    "lai[lai>10] = np.nan\n",
    "lai[lai==0] = np.nan\n",
    "plt.imshow(lai,cmap='Greys',vmin=0,vmax=4)"
   ]
  },
  {
   "cell_type": "code",
   "execution_count": null,
   "metadata": {},
   "outputs": [],
   "source": [
    "import gdal\n",
    "import numpy as np\n",
    "import matplotlib.pylab as plt\n",
    "%matplotlib inline\n",
    "\n",
    "#def process_data(doy_year,tiles,vector_file, vector_where):\n",
    "    \n",
    "    \n",
    "def mosaic_and_mask_data(gdal_fnames, vector_file, vector_where):\n",
    "    stitch_vrt = gdal.BuildVRT(\"\", gdal_fnames)\n",
    "    g = gdal.Warp(\"\", stitch_vrt,\n",
    "                 format = 'MEM', dstNodata=200,\n",
    "                  cutlineDSName = vector_file,\n",
    "                  cutlineWhere = vector_where)\n",
    "    return g\n",
    "\n",
    "\n",
    "\n",
    "g = mosaic_and_mask_data(dataset_names[:8], \"data/TM_WORLD_BORDERS-0.3.shp\",\n",
    "                         \"FIPS='GM'\")\n",
    "\n",
    "lai = np.array(g.ReadAsArray()).astype(float) * 0.1 # for LAI scaling\n",
    "# valid data mask\n",
    "mask = np.nonzero(lai < 20)\n",
    "min_y = mask[0].min()\n",
    "max_y = mask[0].max() + 1\n",
    "\n",
    "min_x = mask[1].min()\n",
    "max_x = mask[1].max() + 1\n",
    "\n",
    "lai = lai[min_y:max_y,\n",
    "               min_x:max_x]\n",
    "\n",
    "fig = plt.figure(figsize=(12,12))\n",
    "im = plt.imshow(lai, interpolation=\"nearest\", vmin=0, vmax=6,\n",
    "             cmap=plt.cm.inferno_r)\n",
    "plt.title('LAI'+' '+str(tiles)+' '+str((doy,year)))\n",
    "plt.colorbar()"
   ]
  },
  {
   "cell_type": "code",
   "execution_count": null,
   "metadata": {},
   "outputs": [],
   "source": []
  }
 ],
 "metadata": {
  "kernelspec": {
   "display_name": "Python 3",
   "language": "python",
   "name": "python3"
  },
  "language_info": {
   "codemirror_mode": {
    "name": "ipython",
    "version": 3
   },
   "file_extension": ".py",
   "mimetype": "text/x-python",
   "name": "python",
   "nbconvert_exporter": "python",
   "pygments_lexer": "ipython3",
   "version": "3.6.6"
  },
  "toc": {
   "base_numbering": 1,
   "nav_menu": {},
   "number_sections": false,
   "sideBar": true,
   "skip_h1_title": false,
   "title_cell": "Table of Contents",
   "title_sidebar": "Contents",
   "toc_cell": true,
   "toc_position": {
    "height": "calc(100% - 180px)",
    "left": "10px",
    "top": "150px",
    "width": "362.390625px"
   },
   "toc_section_display": true,
   "toc_window_display": true
  }
 },
 "nbformat": 4,
 "nbformat_minor": 2
}
