{
 "cells": [
  {
   "cell_type": "markdown",
   "metadata": {},
   "source": [
    "# 3.4 Stacking and interpolating data"
   ]
  },
  {
   "cell_type": "markdown",
   "metadata": {
    "toc": true
   },
   "source": [
    "<h1>Table of Contents<span class=\"tocSkip\"></span></h1>\n",
    "<div class=\"toc\"><ul class=\"toc-item\"><li><span><a href=\"#3.4-Stacking-and-interpolating-data\" data-toc-modified-id=\"3.4-Stacking-and-interpolating-data-1\">3.4 Stacking and interpolating data</a></span><ul class=\"toc-item\"><li><span><a href=\"#3.4.1-Introduction\" data-toc-modified-id=\"3.4.1-Introduction-1.1\">3.4.1 Introduction</a></span><ul class=\"toc-item\"><li><span><a href=\"#3.4.1.1-Test-your-login\" data-toc-modified-id=\"3.4.1.1-Test-your-login-1.1.1\">3.4.1.1 Test your login</a></span></li><li><span><a href=\"#3.4.1.2-Get-the-datasets-for-today\" data-toc-modified-id=\"3.4.1.2-Get-the-datasets-for-today-1.1.2\">3.4.1.2 Get the datasets for today</a></span></li></ul></li><li><span><a href=\"#3.4.2-QA-data\" data-toc-modified-id=\"3.4.2-QA-data-1.2\">3.4.2 QA data</a></span><ul class=\"toc-item\"><li><span><a href=\"#3.4.2.1-Why-QA-data?\" data-toc-modified-id=\"3.4.2.1-Why-QA-data?-1.2.1\">3.4.2.1 Why QA data?</a></span></li><li><span><a href=\"#3.4.2.2-Deriving-a-weight-from-QA\" data-toc-modified-id=\"3.4.2.2-Deriving-a-weight-from-QA-1.2.2\">3.4.2.2 Deriving a weight from QA</a></span></li><li><span><a href=\"#3.4.2.3-Extracting-relevant-bit-fields\" data-toc-modified-id=\"3.4.2.3-Extracting-relevant-bit-fields-1.2.3\">3.4.2.3 Extracting relevant bit fields</a></span></li></ul></li><li><span><a href=\"#3.4.2-A-time-series\" data-toc-modified-id=\"3.4.2-A-time-series-1.3\">3.4.2 A time series</a></span></li></ul></li></ul></div>"
   ]
  },
  {
   "cell_type": "markdown",
   "metadata": {},
   "source": [
    "[[up to 3.0](Chapter3_1_GDAL.ipynb)]\n",
    "\n",
    "\n",
    "## 3.4.1 Introduction\n",
    "\n",
    "In this section, we will:\n",
    "\n",
    "* develop code to produce a stacked dataset of spatio-temporal data on a grid\n",
    "* interpolate over any missing data\n",
    "* smooth the dataset\n",
    "\n",
    "### 3.4.1.1 Test your login\n",
    "\n",
    "Let's first test your NASA login:"
   ]
  },
  {
   "cell_type": "code",
   "execution_count": 11,
   "metadata": {},
   "outputs": [
    {
     "name": "stdout",
     "output_type": "stream",
     "text": [
      "this seems to be ok ... \n",
      "use cylog().login() anywhere you need to specify the tuple (username,password)\n"
     ]
    }
   ],
   "source": [
    "import geog0111.nasa_requests as nasa_requests\n",
    "from geog0111.cylog import cylog\n",
    "%matplotlib inline\n",
    "\n",
    "url = 'https://e4ftl01.cr.usgs.gov/MOTA/MCD15A3H.006/2018.09.30/' \n",
    "        \n",
    "# grab the HTML information\n",
    "try:\n",
    "    html = nasa_requests.get(url).text\n",
    "    # test a few lines of the html\n",
    "    if html[:20] == '<!DOCTYPE HTML PUBLI':\n",
    "        print('this seems to be ok ... ')\n",
    "        print('use cylog().login() anywhere you need to specify the tuple (username,password)')\n",
    "except:\n",
    "    print('login error ... try entering your username password again')\n",
    "    print('then re-run this cell until it works')\n",
    "    cylog(init=True)"
   ]
  },
  {
   "cell_type": "markdown",
   "metadata": {},
   "source": [
    "### 3.4.1.2 Get the datasets for today\n",
    "\n",
    "Now let's get the datasets we need for today. These files have been pre-downloaded on the UCL Geography system. They are available through:\n",
    "\n",
    "[http://www2.geog.ucl.ac.uk/~plewis/geog0111_data](http://www2.geog.ucl.ac.uk/~plewis/geog0111_data) or [http://www2.geog.ucl.ac.uk/~ucfajlg/geog0111_data](http://www2.geog.ucl.ac.uk/~ucfajlg/geog0111_data)\n",
    "\n",
    "but the filenames can be locally installed using [`procure_dataset()`](geog0111/geog_data.py) as demonstrated in the code block below.\n",
    "\n",
    "**You should run this section before the class starts to save time.**\n",
    "\n",
    "It should be quite rapid if you are on the UCL Geography system.\n",
    "\n",
    "On a home network, it is likely to trake more than an hour as it has to fully download the files.\n",
    "\n",
    "You are given the relevant filenames (for 2016 and 2017 `MCD15A3H` data for the tiles `h1[7-8]v0[3-4]`) in the files [`data/lai_filelist_{year}.dat.txt`](data/lai_filelist_2016.dat.txt). The datasets have been pre-downloaded for this exercise, but you need to copy then to the local filespace:"
   ]
  },
  {
   "cell_type": "code",
   "execution_count": 12,
   "metadata": {
    "scrolled": false
   },
   "outputs": [
    {
     "name": "stdout",
     "output_type": "stream",
     "text": [
      "\n",
      " 2016\n",
      " ****\n",
      "MCD15A3H.A2016001.h17v03.006.2016007075833.hdf\n",
      "MCD15A3H.A2016001.h17v04.006.2016007074809.hdf\n",
      "MCD15A3H.A2016001.h18v03.006.2016007073724.hdf\n",
      "MCD15A3H.A2016001.h18v04.006.2016007073726.hdf\n",
      "MCD15A3H.A2016005.h17v03.006.2016013012017.hdf\n",
      "MCD15A3H.A2016005.h17v04.006.2016013011406.hdf\n",
      "MCD15A3H.A2016005.h18v03.006.2016013012348.hdf\n",
      "MCD15A3H.A2016005.h18v04.006.2016013012025.hdf\n",
      "\n",
      " 2017\n",
      " ****\n",
      "MCD15A3H.A2017001.h17v03.006.2017014005341.hdf\n",
      "MCD15A3H.A2017001.h17v04.006.2017014005344.hdf\n",
      "MCD15A3H.A2017001.h18v03.006.2017014005401.hdf\n",
      "MCD15A3H.A2017001.h18v04.006.2017014005359.hdf\n",
      "MCD15A3H.A2017005.h17v03.006.2017017141758.hdf\n",
      "MCD15A3H.A2017005.h17v04.006.2017017141805.hdf\n",
      "MCD15A3H.A2017005.h18v03.006.2017017141813.hdf\n",
      "MCD15A3H.A2017005.h18v04.006.2017017141824.hdf\n"
     ]
    }
   ],
   "source": [
    "from geog0111.geog_data import *\n",
    "\n",
    "destination_folder = Path('data')\n",
    "if not destination_folder.exists():\n",
    "        dest_path.mkdir()\n",
    "\n",
    "# we have the filenames provided \n",
    "# in data/lai_filelist_2016.dat.txt\n",
    "for year in [2016,2017]:\n",
    "    control_file = f'data/lai_filelist_{year}.dat.txt'\n",
    "    # read the ascii data from the file in\n",
    "    filenames = open(control_file).read().split()\n",
    "\n",
    "    # get the local files\n",
    "    # set verbose=True if you want to see what is happening\n",
    "    done = [procure_dataset(f,\\\n",
    "                verbose=False,\\\n",
    "                destination_folder=destination_folder) \n",
    "                                    for f in filenames]\n",
    "    # done should be all True if this has worked\n",
    "\n",
    "    # print the first 8 in the list, just to see it looks ok\n",
    "    print(f'\\n {year}\\n','*'*len(str(year)))\n",
    "    for f in filenames[:8]:\n",
    "        print (f)\n"
   ]
  },
  {
   "cell_type": "markdown",
   "metadata": {},
   "source": [
    "Now make sure you have the world borders ESRI shape file you need:"
   ]
  },
  {
   "cell_type": "code",
   "execution_count": 13,
   "metadata": {},
   "outputs": [],
   "source": [
    "import requests\n",
    "import shutil \n",
    "from pathlib import Path\n",
    "\n",
    "# zip file\n",
    "zipfile = 'TM_WORLD_BORDERS-0.3.zip'\n",
    "# URL\n",
    "tm_borders_url = f\"http://thematicmapping.org/downloads/{zipfile}\"\n",
    "# destibnation folder\n",
    "destination_folder = Path('data')\n",
    "\n",
    "# set up some filenames\n",
    "zip_file = destination_folder.joinpath(zipfile)\n",
    "shape_file = zip_file.with_name(zipfile.replace('zip','shp'))\n",
    "\n",
    "# download zip if need to\n",
    "if not Path(zip_file).exists():\n",
    "    r = requests.get(tm_borders_url)\n",
    "    with open(zip_file, 'wb') as fp:\n",
    "        fp.write (r.content)\n",
    "\n",
    "# extract shp from zip if need to\n",
    "if not Path(shape_file).exists():\n",
    "    shutil.unpack_archive(zip_file.as_posix(),\n",
    "                         extract_dir=destination_folder)"
   ]
  },
  {
   "cell_type": "markdown",
   "metadata": {},
   "source": [
    "## 3.4.2 QA data\n",
    "\n",
    "\n",
    "### 3.4.2.1 Why QA data?\n",
    "\n",
    "The quality of data varies according to sampling and other factors. For satellite-derived data using optical wavelengths, the two main controls are orbital constraints and cloud cover. We generally define a 'quaity' data layer to express this.\n",
    "\n",
    "To use a satellite-derived dataset, we need to look at 'quality' data for dataset (and/or uncertainty).\n",
    "\n",
    "For example, if interpolating data, we would want to base the weight we put on any sample on the 'quality' of that sample. This will be expressed by either some QC (Quality Control) assessment ('good', 'ok', 'bad') or some measure of uncertainty (or both).\n",
    "\n",
    "Here, we will use the QA information in the LAI product to generate a sample weighting scheme. We shall later use this weighting for data smoothing and interpolation.\n",
    "\n",
    "First, let's access the LAI and QA datasets.\n",
    "\n",
    "We can do this by specifying either `Lai_500m` or `FparLai_QC` in the dataset label.\n",
    "\n",
    "Let's set up the variables we will use, including a pattern to match the `tile` information we need.\n",
    "\n",
    "Here, we have:\n",
    "\n",
    "    tile = 'h1[7-8]v0[3-4]'\n",
    "    \n",
    "which we can interpret as:\n",
    "\n",
    "    h17v03, h17v04, h18v03, or h18v04\n",
    "    \n",
    "The tile definition ius useful for us to use in any output names (so we can identify it from the name). But the string `h1[7-8]v0[3-4]` contains some 'awkward' characters, namely `[`, `]` and `-` that we might prefer not to use in a filename.\n",
    "\n",
    "So we derive a new descriptor that we call `tile_` which is more 'filename friendly'.\n",
    "\n",
    "Thye rest of the code below proceeds much the same as code we have previously used.\n",
    "\n",
    "We build a gdal VRT file from the set of hdf files using `gdal.BuildVRT()`.\n",
    "\n",
    "Then we crop to the vector defined by the `FIPS` variable in the shapefile (the country code here) using `gdal.Warp()`. We save this as a gdal VRT file, decsribed by the variable `clipped_file`.\n",
    "\n",
    "When we make gdal calls, we need to force the system to write files to disc. This can be done by closing the (effective) file descriptors, or by deleting the variable `g` in this case. If you don't do that, you can hit file synchronisation problems. You should always close (or delete) file descriptors when you have finished with them.\n",
    "\n",
    "You should be able to follow what goes on in the code block below. We will re-use these same ideas later, so it is worthwhile understanding the steps we go through now."
   ]
  },
  {
   "cell_type": "code",
   "execution_count": 33,
   "metadata": {},
   "outputs": [
    {
     "name": "stdout",
     "output_type": "stream",
     "text": [
      "ipfile data/MCD15A3H.A2017149.h1_78_v0_34_LU.006\n",
      "opfile data/MCD15A3H.A2017h1_78_v0_34_LU.006\n",
      "['data/MCD15A3H.A2017h1_78_v0_34_LU.006.149_clip.Lai_500m.vrt', 'data/MCD15A3H.A2017h1_78_v0_34_LU.006.149_clip.FparLai_QC.vrt']\n"
     ]
    }
   ],
   "source": [
    "import gdal\n",
    "import numpy as np\n",
    "from pathlib import Path\n",
    "from geog0111.create_blank_file import create_blank_file\n",
    "from datetime import datetime\n",
    "\n",
    "#-----------------\n",
    "# set up the dataset information\n",
    "destination_folder = Path('data')\n",
    "year = 2017\n",
    "product = 'MCD15A3H'\n",
    "version = 6\n",
    "tile = 'h1[7-8]v0[3-4]'\n",
    "doy = 149\n",
    "params =  ['Lai_500m', 'FparLai_QC']\n",
    "# Luxembourg\n",
    "FIPS = \"LU\"\n",
    "#-----------------\n",
    "\n",
    "# make a text-friendly version of tile\n",
    "tile_ = tile.replace('[','_').replace(']','_').replace('-','')+FIPS\n",
    "\n",
    "# location of the shapefile\n",
    "shape_file = destination_folder.\\\n",
    "                 joinpath('TM_WORLD_BORDERS-0.3.shp').as_posix()\n",
    "\n",
    "# define strings for the ip and op files\n",
    "ipfile = destination_folder.\\\n",
    "                joinpath(f'{product}.A{year}{doy:03d}.{tile_}.{version:03d}').as_posix()\n",
    "\n",
    "opfile = ipfile.replace(f'{doy:03d}.','').replace(tile,tile_)\n",
    "\n",
    "print('ipfile',ipfile)\n",
    "print('opfile',opfile)\n",
    "\n",
    "# now glob the hdf files matching the pattern\n",
    "filenames = list(destination_folder\\\n",
    "                .glob(f'{product}.A{year}{doy:03d}.{tile}.{version:03d}.*.hdf'))\n",
    "\n",
    "# start with an empty list\n",
    "ofiles = []\n",
    "\n",
    "# loop over each parameter we need\n",
    "for d in params:\n",
    "    \n",
    "    # mangle the dataset names\n",
    "    dataset_names = sorted([f'HDF4_EOS:EOS_GRID:'+\\\n",
    "                         f'\"{file_name.as_posix()}\":'+\\\n",
    "                         f'MOD_Grid_MCD15A3H:{d}'\\\n",
    "                            for file_name in filenames])\n",
    "\n",
    "    # derive some filenames for vrt files\n",
    "    spatial_file = f'{opfile}.{doy:03d}.{d}.vrt'\n",
    "    clipped_file = f'{opfile}.{doy:03d}_clip.{d}.vrt'\n",
    "    \n",
    "    # build the files\n",
    "    g = gdal.BuildVRT(spatial_file, dataset_names)\n",
    "    if(g):\n",
    "        del(g)\n",
    "        g = gdal.Warp(clipped_file,\\\n",
    "                                   spatial_file,\\\n",
    "                                   format='VRT', dstNodata=255,\\\n",
    "                                   cutlineDSName=shape_file,\\\n",
    "                                   cutlineWhere=f\"FIPS='{FIPS}'\",\\\n",
    "                                   cropToCutline=True)\n",
    "        if (g):\n",
    "            del(g)\n",
    "        ofiles.append(clipped_file)\n",
    "print(ofiles)"
   ]
  },
  {
   "cell_type": "markdown",
   "metadata": {},
   "source": [
    "**Exercise 3.4.1**\n",
    "\n",
    "* examine the code block above, and write a function that takes as inputs the variables given in the block enclosed by `#-----------------`, the dataset information\n",
    "* the code should setup the VRT files and return the list of clipped dataset filenames: `['data/MCD15A3H.A2017h1_78_v0_34_LU.006.149_clip.Lai_500m.vrt', 'data/MCD15A3H.A2017h1_78_v0_34_LU.006.149_clip.FparLai_QC.vrt']` here.\n",
    "* Make sure you test your function: check that it generates the files you expect from the inputs you give.\n",
    "* try to develop an automated test to see that it has worked (Homework)\n",
    "\n",
    "**Hint**\n",
    "\n",
    "Be clear about what you are doing in your code.\n",
    "\n",
    "The purpose of this function is to build clipped VRT files for the conditions you set.\n",
    "\n",
    "The conditions are the parameters driving the function.\n",
    "\n",
    "The list of files you develop are returned. "
   ]
  },
  {
   "cell_type": "code",
   "execution_count": null,
   "metadata": {},
   "outputs": [],
   "source": [
    "# do exercise here"
   ]
  },
  {
   "cell_type": "markdown",
   "metadata": {},
   "source": [
    "### 3.4.2.2 Deriving a weight from QA\n",
    "\n",
    "We now have some example files describing the LAI and QC datasets:\n",
    "\n",
    "    data/MCD15A3H.A2017h1_78_v0_34_LU.006.149_clip.Lai_500m.vrt\n",
    "    data/MCD15A3H.A2017h1_78_v0_34_LU.006.149_clip.FparLai_QC.vrt\n",
    "    \n",
    "What we want to develop here is a translation from the QA information (given in `FparLai_QC`) to a *weight* that we can apply to the data. \n",
    "\n",
    "If the quality is poor, we want a low weight. If the quality is good, a high weight. It makes sense to call the highest weight 1.0.\n",
    "\n",
    "The LAI dataset is decribed [on the NASA page](https://lpdaac.usgs.gov/dataset_discovery/modis/modis_products_table/mcd15a3h_v006), with the bit field information given in the [file spec](https://ladsweb.modaps.eosdis.nasa.gov/filespec/MODIS/6/MCD15A3H)\n",
    "\n",
    "         BITFIELDS\n",
    "       -------------\n",
    "        0,0  MODLAND_QC bits\n",
    "             '0' =  Good Quality (main algorithm with or without saturation)\n",
    "             '1' =  Other Quality (back-up algorithm or fill values)\n",
    "\n",
    "        1,1 SENSOR\n",
    "             '0' = Terra\n",
    "             '1' = Aqua\n",
    "\n",
    "        2,2  DEADDETECTOR\n",
    "             '0' = Detectors apparently fine for up to 50% of channels 1,2\n",
    "             '1' = Dead detectors caused >50% adjacent detector retrieval\n",
    "\n",
    "        3,4  CLOUDSTATE (this inherited from Aggregate_QC bits {0,1} cloud state)\n",
    "             '00' = 0 Significant clouds NOT present (clear)\n",
    "             '01' = 1 Significant clouds WERE present\n",
    "             '10' = 2 Mixed cloud present on pixel\n",
    "             '11' = 3 Cloud state not defined,assumed clear\n",
    "\n",
    "        5,7  SCF_QC (3-bit, (range '000'..100') 5 level Confidence Quality score.\n",
    "             '000' = 0, Main (RT) method used, best result possible (no saturation)\n",
    "             '001' = 1, Main (RT) method used with saturation. Good,very usable\n",
    "             '010' = 2, Main (RT) method failed due to bad geometry, empirical algorithm used\n",
    "             '011' = 3, Main (RT) method failed due to problems other than geometry, \n",
    "                                  empirical algorithm used\n",
    "             '100' = 4, Pixel not produced at all, value coudn't be retrieved \n",
    "                        (possible reasons: bad L1B data, unusable MOD09GA data)\n",
    "\n",
    "For LAI, we can use the QA information contained in bits 5-7 of `FparLai_QC` to achieve this. \n",
    "\n",
    "The valid codes for `SCF_QC` here are:\n",
    "\n",
    "    0 : Main (RT) method used best result possible (no saturation)\n",
    "    1 : Main (RT) method used with saturation. Good very usable\n",
    "    2 : Main (RT) method failed due to bad geometry empirical algorithm used\n",
    "    3 : Main (RT) method failed due to problems other than geometry empirical algorithm used\n",
    "    \n",
    "    \n",
    "where we have translated the binary representations above to decimal.\n",
    "\n",
    "A useful way of this to some weight is to define a real number $n$, where $0 <= n < 1$ and raise this to the power of `SCF_QC`.\n",
    "\n",
    "So, for example is we set `n = 0.61803398875` (the [inverse golden ratio](https://en.wikipedia.org/wiki/Golden_ratio)):"
   ]
  },
  {
   "cell_type": "code",
   "execution_count": 35,
   "metadata": {},
   "outputs": [
    {
     "name": "stdout",
     "output_type": "stream",
     "text": [
      "SCF_QC: 0 => weight 1.0000\n",
      "SCF_QC: 1 => weight 0.6180\n",
      "SCF_QC: 2 => weight 0.3820\n",
      "SCF_QC: 3 => weight 0.2361\n"
     ]
    }
   ],
   "source": [
    "n = 0.61803398875\n",
    "\n",
    "for SCF_QC in [0,1,2,3]:\n",
    "    weight = n**SCF_QC\n",
    "    print(f'SCF_QC: {SCF_QC} => weight {weight:.4f}')\n"
   ]
  },
  {
   "cell_type": "markdown",
   "metadata": {},
   "source": [
    "Then we have the following meaning for the weights:\n",
    "\n",
    "\n",
    "    1.0000 : Main (RT) method used best result possible (no saturation)\n",
    "    0.6180 : Main (RT) method used with saturation. Good very usable\n",
    "    0.3820 : Main (RT) method failed due to bad geometry empirical algorithm used\n",
    "    0.2361 : Main (RT) method failed due to problems other than geometry empirical algorithm used\n",
    "    \n",
    "  \n",
    "Altghough we could vary the value of $n$ used and get subtle variations, this sort of weighting should produce the desired result.\n"
   ]
  },
  {
   "cell_type": "markdown",
   "metadata": {},
   "source": [
    "**Exercise 3.4.2**\n",
    "\n",
    "* write a function that converts from `SCF_QC` value to weight. \n",
    "* Use the given value of $n$ as default, by let it be changed using a keyword.\n",
    "* make sure any value outside the integer range 0 to 3 inclusive returns a weight of 0.0\n",
    "* try to make your function operate on arrays.\n",
    "* show some tests of your function.\n",
    "\n",
    "**Hint**\n",
    "\n",
    "Since only `[0,1,2,3]` are valid inputs, you could use conditions such as:\n",
    "\n",
    "    (SCF_QC == i) * (n ** i)\n",
    "\n",
    "for valid values of `i`. This should then work correctly for arrays."
   ]
  },
  {
   "cell_type": "code",
   "execution_count": null,
   "metadata": {},
   "outputs": [],
   "source": [
    "# do exercise here"
   ]
  },
  {
   "cell_type": "markdown",
   "metadata": {},
   "source": [
    "### 3.4.2.3 Extracting relevant bit fields\n",
    "\n",
    "We still have the task of getting `SFC_QC` by extracting bits 5-7 from the QA dataset.\n",
    "\n",
    "Let's be clear what we mean by this.\n",
    "\n",
    "The dataset `FparLai_QC` is of data type `uint8`, unsigned 8-bit integer (i.e. unsigned byte). "
   ]
  },
  {
   "cell_type": "code",
   "execution_count": 44,
   "metadata": {},
   "outputs": [
    {
     "name": "stdout",
     "output_type": "stream",
     "text": [
      "uint8\n",
      "2^8 = 256\n"
     ]
    }
   ],
   "source": [
    "import gdal\n",
    "\n",
    "# read our example data in\n",
    "ofiles = ['data/MCD15A3H.A2017h1_78_v0_34_LU.006.149_clip.Lai_500m.vrt', \\\n",
    "          'data/MCD15A3H.A2017h1_78_v0_34_LU.006.149_clip.FparLai_QC.vrt']\n",
    "params = ['Lai_500m', 'FparLai_QC']\n",
    "lai = [gdal.Open(ofiles[i]).ReadAsArray() for i in range(len(params))]\n",
    "\n",
    "FparLai_QC = lai[1]\n",
    "\n",
    "# print some information\n",
    "print(FparLai_QC.dtype)\n",
    "print('2^8 =',2**8)"
   ]
  },
  {
   "cell_type": "markdown",
   "metadata": {},
   "source": [
    "If all 8 bits are set to 1, it is equal to 255 in decimal. \n",
    "\n",
    "In Python, we can write a number in binary (base 2) repersentation by starting it with `0b`:"
   ]
  },
  {
   "cell_type": "code",
   "execution_count": 58,
   "metadata": {},
   "outputs": [
    {
     "name": "stdout",
     "output_type": "stream",
     "text": [
      "255\n"
     ]
    }
   ],
   "source": [
    "x = 0b11111111\n",
    "\n",
    "print(int(x))"
   ]
  },
  {
   "cell_type": "markdown",
   "metadata": {},
   "source": [
    "This is because the bits `11111111` are interpreted as:\n",
    "\n",
    "    1 x 2^0 +\n",
    "    1 x 2^1 +\n",
    "    1 x 2^2 +\n",
    "    1 x 2^3 +\n",
    "    1 x 2^4 +\n",
    "    1 x 2^5 +\n",
    "    1 x 2^6 +\n",
    "    1 x 2^7 \n",
    "    \n",
    "reading the bit fields from back to front.\n",
    "\n",
    "This is the same as:\n",
    "\n",
    "    1 x 1 +\n",
    "    1 x 2 +\n",
    "    1 x 4 +\n",
    "    1 x 8 + \n",
    "    1 x 16 +\n",
    "    1 x 32 +\n",
    "    1 x 64 +\n",
    "    1 X 128 = 255\n",
    "    \n",
    "Taking an example of a shorted bit field, how then do we interpret `0b1011`?\n",
    "\n",
    "This is:\n",
    "\n",
    "    1 x 2^0 +\n",
    "    1 x 2^1 +\n",
    "    0 x 2^2 +\n",
    "    1 x 2^3 \n",
    "    \n",
    "(reading back to front), so:\n",
    "\n",
    "    1 x 1 +\n",
    "    1 x 2 +\n",
    "    0 x 4 +\n",
    "    1 x 8 = 11 "
   ]
  },
  {
   "cell_type": "code",
   "execution_count": 59,
   "metadata": {},
   "outputs": [
    {
     "name": "stdout",
     "output_type": "stream",
     "text": [
      "11\n"
     ]
    }
   ],
   "source": [
    "x = 0b1011\n",
    "\n",
    "print(int(x))"
   ]
  },
  {
   "cell_type": "markdown",
   "metadata": {},
   "source": [
    "explain bit shift and bitwise and mask &"
   ]
  },
  {
   "cell_type": "code",
   "execution_count": 22,
   "metadata": {},
   "outputs": [
    {
     "data": {
      "image/png": "[encoded data removed]",
      "text/plain": [
       "<Figure size 720x360 with 4 Axes>"
      ]
     },
     "metadata": {
      "needs_background": "light"
     },
     "output_type": "display_data"
    }
   ],
   "source": [
    "import matplotlib.pylab as plt\n",
    "%matplotlib inline\n",
    "\n",
    "lai = [gdal.Open(ofiles[i]).ReadAsArray() for i in range(len(params))]\n",
    "\n",
    "lai[0] = lai[0] * 0.1\n",
    "# if we want bit field 5-7\n",
    "# we form a binary mask\n",
    "mask57 = 0b11100000\n",
    "# and right shift 5 (>> 5)\n",
    "lai[1] = (lai[1] & mask57) >> 5\n",
    "# 0 to 3 are good\n",
    "scale = 0.61803398875\n",
    "lai[1] = (scale**0) * (lai[1] == 0).astype(float) + \\\n",
    "         (scale**1) * (lai[1] == 1).astype(float) + \\\n",
    "         (scale**2) * (lai[1] == 2).astype(float) + \\\n",
    "         (scale**3) * (lai[1] == 3).astype(float)\n",
    "    \n",
    "\n",
    "    \n",
    "fig, axs = plt.subplots(nrows=1, ncols=2, sharex=True, sharey=True,\n",
    "                       figsize=(10,5))\n",
    "axs = np.array(axs).T.flatten()\n",
    "\n",
    "for i in range(len(params)):\n",
    "    img = axs[i].imshow(lai[i], interpolation=\"nearest\",\n",
    "                 cmap=plt.cm.inferno_r)\n",
    "    axs[i].set_title(params[i])\n",
    "    plt.colorbar(img,ax=axs[i],shrink=0.7)"
   ]
  },
  {
   "cell_type": "markdown",
   "metadata": {},
   "source": [
    "## 3.4.2 A time series\n",
    "\n",
    "You should now know how to access and download datasets from the NASA servers and have developed functions to do this.\n",
    "\n",
    "You should also know how to select a dataset from a set of hdf files, and mosaic, mask and crop the data to correspond to some vector boundary. This is a very common task in geospatial processing.\n",
    "\n",
    "We now consider the case where we want to analyse a time series of data. We will use LAI over time to exemplify this.\n",
    "\n"
   ]
  },
  {
   "cell_type": "code",
   "execution_count": 23,
   "metadata": {},
   "outputs": [
    {
     "name": "stdout",
     "output_type": "stream",
     "text": [
      "data/MCD15A3H.A2017.h1_78_v0_34_LU.006.Lai_500m.vrt\n",
      "data/MCD15A3H.A2017.h1_78_v0_34_LU.006.FparLai_QC.vrt\n"
     ]
    }
   ],
   "source": [
    "import gdal\n",
    "import numpy as np\n",
    "from pathlib import Path\n",
    "from geog0111.create_blank_file import create_blank_file\n",
    "from datetime import datetime\n",
    "\n",
    "destination_folder = Path('data')\n",
    "year = 2017\n",
    "product = 'MCD15A3H'\n",
    "version = 6\n",
    "tile = 'h1[7-8]v0[3-4]'\n",
    "params =  ['Lai_500m', 'FparLai_QC']\n",
    "# time step\n",
    "dt = 2\n",
    "\n",
    "\n",
    "tile_ = tile.replace('[','_').replace(']','_').replace('-','')+FIPS\n",
    "\n",
    "shape_file = destination_folder.\\\n",
    "                 joinpath('TM_WORLD_BORDERS-0.3.shp').as_posix()\n",
    "\n",
    "allopfile = destination_folder.\\\n",
    "                joinpath(f'{product}.A{year}.{tile_}.{version:03d}')\n",
    "\n",
    "ndays_in_year = (datetime(year,12,31) - datetime(year,1,1)).days + 1\n",
    "\n",
    "\n",
    "for d in params:\n",
    "    old_clip = None\n",
    "    allvrt = []\n",
    "    bandNames = []\n",
    "    for doy in range(1,ndays_in_year+1,dt):\n",
    "\n",
    "        ipfile = destination_folder.\\\n",
    "                    joinpath(f'{product}.A{year}{doy:03d}.{tile_}.{version:03d}').as_posix()\n",
    "\n",
    "        opfile = ipfile.replace(f'{doy:03d}.','').replace(tile,tile_)\n",
    "\n",
    "        filenames = destination_folder\\\n",
    "                    .glob(f'{product}.A{year}{doy:03d}.{tile}.{version:03d}.*.hdf')\n",
    "\n",
    "        dataset_names = sorted([f'HDF4_EOS:EOS_GRID:'+\\\n",
    "                             f'\"{file_name.as_posix()}\":'+\\\n",
    "                             f'MOD_Grid_MCD15A3H:{d}'\\\n",
    "                                for file_name in filenames])\n",
    "        spatial_file = f'{opfile}.{doy:03d}.{d}.vrt'\n",
    "        clipped_file = f'{opfile}.{doy:03d}_clip.{d}.vrt'\n",
    "        if len(dataset_names):\n",
    "            g = gdal.BuildVRT(spatial_file, dataset_names)\n",
    "            if(g):\n",
    "                del(g)\n",
    "                g = gdal.Warp(clipped_file,\\\n",
    "                                   spatial_file,\\\n",
    "                                   format='VRT', dstNodata=255,\\\n",
    "                                   cutlineDSName=shape_file,\\\n",
    "                                   cutlineWhere=f\"FIPS='{FIPS}'\",\\\n",
    "                                   cropToCutline=True)\n",
    "        elif old_clip:\n",
    "            blank_file_tiff = f'{opfile}_blank.tiff'\n",
    "            # generate a blank dataset in case of missing days\n",
    "            if not Path(blank_file_tiff).exists():\n",
    "                # copy info\n",
    "                create_blank_file(old_clip,blank_file_tiff,value=255)\n",
    "\n",
    "            # build a vrt\n",
    "            g = gdal.BuildVRT(clipped_file, [blank_file_tiff])\n",
    "\n",
    "        if (g):\n",
    "            del(g)\n",
    "            bandNames.append(f'DOY {doy:03d}')\n",
    "            allvrt.append(clipped_file)\n",
    "\n",
    "        old_clip = clipped_file\n",
    "\n",
    "\n",
    "\n",
    "    g = gdal.BuildVRT(f'{allopfile.as_posix()}.{d}.vrt', allvrt,\\\n",
    "                      options=gdal.BuildVRTOptions(VRTNodata=255,\\\n",
    "                                                   srcNodata=255,\\\n",
    "                                                   allowProjectionDifference=True,\\\n",
    "                                                   separate=True))\n",
    "    if (g):\n",
    "        # set band names\n",
    "        for i in range(g.RasterCount):\n",
    "            g.GetRasterBand(i+1).SetDescription(bandNames[i])\n",
    "\n",
    "        # close and flush file\n",
    "        del g\n",
    "        print (f'{allopfile.as_posix()}.{d}.vrt')"
   ]
  },
  {
   "cell_type": "code",
   "execution_count": 29,
   "metadata": {},
   "outputs": [
    {
     "name": "stdout",
     "output_type": "stream",
     "text": [
      "(183, 176, 123)\n"
     ]
    }
   ],
   "source": [
    "import gdal\n",
    "import numpy as np\n",
    "\n",
    "destination_folder = Path('data')\n",
    "year = 2017\n",
    "product = 'MCD15A3H'\n",
    "version = 6\n",
    "tile = 'h1[7-8]v0[3-4]'\n",
    "params =  ['Lai_500m', 'FparLai_QC']\n",
    "\n",
    "allopfile = destination_folder.\\\n",
    "                joinpath(f'{product}.A{year}.{tile_}.{version:03d}')\n",
    "lai = []\n",
    "for d in params:\n",
    "    \n",
    "    g = gdal.Open(f'{allopfile.as_posix()}.{d}.vrt',gdal.GA_ReadOnly)\n",
    "    data = np.array([g.GetRasterBand(b+1).ReadAsArray() \\\n",
    "                for b in range(g.RasterCount)])\n",
    "\n",
    "    lai.append(data)\n",
    "\n",
    "lai[0] = lai[0] * 0.1\n",
    "# if we want bit field 5-7\n",
    "# we form a binary mask\n",
    "mask57 = 0b11100000\n",
    "# and right shift 5 (>> 5)\n",
    "lai[1] = (lai[1] & mask57) >> 5\n",
    "# 0 to 3 are good\n",
    "scale = 0.61803398875\n",
    "lai[1] = (scale**0) * (lai[1] == 0).astype(float) + \\\n",
    "         (scale**1) * (lai[1] == 1).astype(float) + \\\n",
    "         (scale**2) * (lai[1] == 2).astype(float) + \\\n",
    "         (scale**3) * (lai[1] == 3).astype(float)\n",
    "    \n",
    "print(lai[0].shape)"
   ]
  },
  {
   "cell_type": "code",
   "execution_count": 25,
   "metadata": {},
   "outputs": [
    {
     "name": "stderr",
     "output_type": "stream",
     "text": [
      "/Users/plewis/anaconda/envs/geog0111/lib/python3.6/site-packages/ipykernel_launcher.py:15: RuntimeWarning: invalid value encountered in true_divide\n",
      "  from ipykernel import kernelapp as app\n"
     ]
    },
    {
     "data": {
      "image/png": "[encoded data removed]",
      "text/plain": [
       "<Figure size 432x288 with 1 Axes>"
      ]
     },
     "metadata": {
      "needs_background": "light"
     },
     "output_type": "display_data"
    }
   ],
   "source": [
    "# interpolate\n",
    "import scipy.ndimage.filters\n",
    "import matplotlib.pylab as plt\n",
    "%matplotlib inline\n",
    "\n",
    "weight = lai[1]\n",
    "\n",
    "# filter, in units of days\n",
    "sigma = 8\n",
    "gx = np.arange(-3*sigma, 3*sigma, 1)\n",
    "gaussian = np.exp(-(gx/sigma)**2/2.)\n",
    "plt.plot(gx,gaussian)\n",
    "x = scipy.ndimage.filters.convolve1d(lai[0] * weight, gaussian, axis=0,mode='wrap')\n",
    "w = scipy.ndimage.filters.convolve1d(weight, gaussian, axis=0,mode='wrap')\n",
    "ilai = x/w"
   ]
  },
  {
   "cell_type": "code",
   "execution_count": 26,
   "metadata": {},
   "outputs": [
    {
     "data": {
      "text/plain": [
       "(0, 6)"
      ]
     },
     "execution_count": 26,
     "metadata": {},
     "output_type": "execute_result"
    },
    {
     "data": {
      "image/png": "[encoded data removed]",
      "text/plain": [
       "<Figure size 432x288 with 1 Axes>"
      ]
     },
     "metadata": {
      "needs_background": "light"
     },
     "output_type": "display_data"
    }
   ],
   "source": [
    "## find where the weight is highest, and lets look there!\n",
    "sweight = weight.sum(axis=0)\n",
    "r,c = np.where(sweight == np.max(sweight))\n",
    "plt.title(f'{product} {FIPS} {params[0]} {year} {r[0]},{c[0]}')\n",
    "plt.plot((ilai)[:,r[0],c[0]],'r--')\n",
    "plt.plot((lai[0])[:,r[0],c[0]],'+')\n",
    "plt.ylim(0,6)"
   ]
  },
  {
   "cell_type": "markdown",
   "metadata": {},
   "source": [
    "making movie"
   ]
  },
  {
   "cell_type": "code",
   "execution_count": 30,
   "metadata": {},
   "outputs": [
    {
     "name": "stdout",
     "output_type": "stream",
     "text": [
      "data/MCD15A3H.A2017.h1_78_v0_34_LU.006.gif\n"
     ]
    },
    {
     "data": {
      "image/png": "[encoded data removed]",
      "text/plain": [
       "<Figure size 720x432 with 2 Axes>"
      ]
     },
     "metadata": {
      "needs_background": "light"
     },
     "output_type": "display_data"
    }
   ],
   "source": [
    "import imageio\n",
    "import tempfile\n",
    "\n",
    "# lai movie as animated gif\n",
    "\n",
    "allopfile = destination_folder.\\\n",
    "                joinpath(f'{product}.A{year}.{tile_}.{version:03d}')\n",
    "\n",
    "images = []\n",
    "with tempfile.TemporaryDirectory() as tmpdirname:\n",
    "    ofile = f'{tmpdirname}/tmp.png'\n",
    "    \n",
    "    for i in range(ilai.shape[0]):\n",
    "        plt.figure(0,figsize=(10,6))\n",
    "        plt.clf()\n",
    "        plt.imshow(ilai[i],vmin=0,vmax=6,cmap=plt.cm.inferno_r)\n",
    "        plt.title(f'{product} {FIPS} {params[0]} {year} DOY {dt*i+1:03d}')\n",
    "        plt.colorbar(shrink=0.85)\n",
    "        plt.savefig(ofile)    \n",
    "        images.append(imageio.imread(ofile))\n",
    "imageio.mimsave(f'{allopfile}.gif', images)\n",
    "print(f'{allopfile}.gif')"
   ]
  },
  {
   "cell_type": "markdown",
   "metadata": {},
   "source": [
    "![](images/MCD15A3H.A2017.h1_78_v0_34_LU.006.gif)\n",
    "\n"
   ]
  }
 ],
 "metadata": {
  "kernelspec": {
   "display_name": "Python 3",
   "language": "python",
   "name": "python3"
  },
  "language_info": {
   "codemirror_mode": {
    "name": "ipython",
    "version": 3
   },
   "file_extension": ".py",
   "mimetype": "text/x-python",
   "name": "python",
   "nbconvert_exporter": "python",
   "pygments_lexer": "ipython3",
   "version": "3.6.6"
  },
  "toc": {
   "base_numbering": 1,
   "nav_menu": {},
   "number_sections": false,
   "sideBar": true,
   "skip_h1_title": false,
   "title_cell": "Table of Contents",
   "title_sidebar": "Contents",
   "toc_cell": true,
   "toc_position": {
    "height": "calc(100% - 180px)",
    "left": "10px",
    "top": "150px",
    "width": "362.390625px"
   },
   "toc_section_display": true,
   "toc_window_display": true
  }
 },
 "nbformat": 4,
 "nbformat_minor": 2
}
